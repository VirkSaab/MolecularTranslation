{
 "cells": [
  {
   "cell_type": "code",
   "execution_count": 1,
   "metadata": {
    "execution": {
     "iopub.execute_input": "2021-04-28T06:08:00.725912Z",
     "iopub.status.busy": "2021-04-28T06:08:00.725546Z",
     "iopub.status.idle": "2021-04-28T06:08:00.748220Z",
     "shell.execute_reply": "2021-04-28T06:08:00.747426Z",
     "shell.execute_reply.started": "2021-04-28T06:08:00.725869Z"
    },
    "tags": []
   },
   "outputs": [],
   "source": [
    "%load_ext autoreload\n",
    "%autoreload 2"
   ]
  },
  {
   "cell_type": "code",
   "execution_count": 2,
   "metadata": {
    "execution": {
     "iopub.execute_input": "2021-04-28T06:08:00.833678Z",
     "iopub.status.busy": "2021-04-28T06:08:00.833509Z",
     "iopub.status.idle": "2021-04-28T06:08:01.379396Z",
     "shell.execute_reply": "2021-04-28T06:08:01.378809Z",
     "shell.execute_reply.started": "2021-04-28T06:08:00.833659Z"
    },
    "tags": []
   },
   "outputs": [],
   "source": [
    "import pandas as pd\n",
    "import matplotlib.pyplot as plt"
   ]
  },
  {
   "cell_type": "code",
   "execution_count": 3,
   "metadata": {
    "execution": {
     "iopub.execute_input": "2021-04-28T06:08:01.393120Z",
     "iopub.status.busy": "2021-04-28T06:08:01.392964Z",
     "iopub.status.idle": "2021-04-28T06:08:01.516449Z",
     "shell.execute_reply": "2021-04-28T06:08:01.515740Z",
     "shell.execute_reply.started": "2021-04-28T06:08:01.393103Z"
    },
    "tags": []
   },
   "outputs": [
    {
     "name": "stdout",
     "output_type": "stream",
     "text": [
      "sample_submission.csv  test  train  train_labels.csv\n"
     ]
    }
   ],
   "source": [
    "DATADIR = \"/home/virk/devs/Projects/MolecularTranslationKaggleCompetition/data\"\n",
    "!ls {DATADIR}"
   ]
  },
  {
   "cell_type": "code",
   "execution_count": 4,
   "metadata": {
    "execution": {
     "iopub.execute_input": "2021-04-28T06:08:02.562920Z",
     "iopub.status.busy": "2021-04-28T06:08:02.562496Z",
     "iopub.status.idle": "2021-04-28T06:08:07.134616Z",
     "shell.execute_reply": "2021-04-28T06:08:07.133794Z",
     "shell.execute_reply.started": "2021-04-28T06:08:02.562872Z"
    },
    "tags": []
   },
   "outputs": [
    {
     "name": "stdout",
     "output_type": "stream",
     "text": [
      "df size = (2424186, 2)\n"
     ]
    },
    {
     "data": {
      "text/html": [
       "<div>\n",
       "<style scoped>\n",
       "    .dataframe tbody tr th:only-of-type {\n",
       "        vertical-align: middle;\n",
       "    }\n",
       "\n",
       "    .dataframe tbody tr th {\n",
       "        vertical-align: top;\n",
       "    }\n",
       "\n",
       "    .dataframe thead th {\n",
       "        text-align: right;\n",
       "    }\n",
       "</style>\n",
       "<table border=\"1\" class=\"dataframe\">\n",
       "  <thead>\n",
       "    <tr style=\"text-align: right;\">\n",
       "      <th></th>\n",
       "      <th>image_id</th>\n",
       "      <th>InChI</th>\n",
       "    </tr>\n",
       "  </thead>\n",
       "  <tbody>\n",
       "    <tr>\n",
       "      <th>204941</th>\n",
       "      <td>159d060e1629</td>\n",
       "      <td>InChI=1S/C15H15ClN2O2/c1-20-13-5-3-2-4-11(13)6...</td>\n",
       "    </tr>\n",
       "    <tr>\n",
       "      <th>315814</th>\n",
       "      <td>214832a0e530</td>\n",
       "      <td>InChI=1S/C25H32N2O2/c1-18(2)26-25(29)21-14-9-1...</td>\n",
       "    </tr>\n",
       "    <tr>\n",
       "      <th>1122318</th>\n",
       "      <td>766e5e86da5d</td>\n",
       "      <td>InChI=1S/C21H14BrFN2O3S2/c22-14-3-2-13(15(23)8...</td>\n",
       "    </tr>\n",
       "    <tr>\n",
       "      <th>957767</th>\n",
       "      <td>6517aef18d5e</td>\n",
       "      <td>InChI=1S/C20H25F2N3O/c21-20(22)26-19-8-4-7-17(...</td>\n",
       "    </tr>\n",
       "    <tr>\n",
       "      <th>1537374</th>\n",
       "      <td>a24b9e236865</td>\n",
       "      <td>InChI=1S/C12H9ClO4/c13-8-3-4-11(10(6-8)12(14)1...</td>\n",
       "    </tr>\n",
       "    <tr>\n",
       "      <th>806104</th>\n",
       "      <td>550ee748449b</td>\n",
       "      <td>InChI=1S/C27H35N3O6/c1-32-10-11-33-12-13-34-14...</td>\n",
       "    </tr>\n",
       "    <tr>\n",
       "      <th>2047352</th>\n",
       "      <td>d8149ebf00c5</td>\n",
       "      <td>InChI=1S/C11H14FNO2/c1-13-10(7-11(14)15)6-8-3-...</td>\n",
       "    </tr>\n",
       "    <tr>\n",
       "      <th>1702556</th>\n",
       "      <td>b3bf7b9d55e8</td>\n",
       "      <td>InChI=1S/C17H22FN3O3/c1-17(2)10-24-11-21(17)16...</td>\n",
       "    </tr>\n",
       "    <tr>\n",
       "      <th>1517551</th>\n",
       "      <td>a036f4aacdfd</td>\n",
       "      <td>InChI=1S/C11H20N4O/c1-12-6-5-10-13-11(14-16-10...</td>\n",
       "    </tr>\n",
       "    <tr>\n",
       "      <th>119932</th>\n",
       "      <td>0ca2bb1416b3</td>\n",
       "      <td>InChI=1S/C16H26N2O4/c1-12(2)3-4-18-13(11-19)9-...</td>\n",
       "    </tr>\n",
       "  </tbody>\n",
       "</table>\n",
       "</div>"
      ],
      "text/plain": [
       "             image_id                                              InChI\n",
       "204941   159d060e1629  InChI=1S/C15H15ClN2O2/c1-20-13-5-3-2-4-11(13)6...\n",
       "315814   214832a0e530  InChI=1S/C25H32N2O2/c1-18(2)26-25(29)21-14-9-1...\n",
       "1122318  766e5e86da5d  InChI=1S/C21H14BrFN2O3S2/c22-14-3-2-13(15(23)8...\n",
       "957767   6517aef18d5e  InChI=1S/C20H25F2N3O/c21-20(22)26-19-8-4-7-17(...\n",
       "1537374  a24b9e236865  InChI=1S/C12H9ClO4/c13-8-3-4-11(10(6-8)12(14)1...\n",
       "806104   550ee748449b  InChI=1S/C27H35N3O6/c1-32-10-11-33-12-13-34-14...\n",
       "2047352  d8149ebf00c5  InChI=1S/C11H14FNO2/c1-13-10(7-11(14)15)6-8-3-...\n",
       "1702556  b3bf7b9d55e8  InChI=1S/C17H22FN3O3/c1-17(2)10-24-11-21(17)16...\n",
       "1517551  a036f4aacdfd  InChI=1S/C11H20N4O/c1-12-6-5-10-13-11(14-16-10...\n",
       "119932   0ca2bb1416b3  InChI=1S/C16H26N2O4/c1-12(2)3-4-18-13(11-19)9-..."
      ]
     },
     "execution_count": 4,
     "metadata": {},
     "output_type": "execute_result"
    }
   ],
   "source": [
    "traindf = pd.read_csv(f\"data/train_labels.csv\")\n",
    "print(f\"df size = {traindf.shape}\")\n",
    "traindf.sample(10)"
   ]
  },
  {
   "cell_type": "code",
   "execution_count": 5,
   "metadata": {
    "execution": {
     "iopub.execute_input": "2021-04-28T06:08:07.148744Z",
     "iopub.status.busy": "2021-04-28T06:08:07.148573Z",
     "iopub.status.idle": "2021-04-28T06:08:07.158554Z",
     "shell.execute_reply": "2021-04-28T06:08:07.158046Z",
     "shell.execute_reply.started": "2021-04-28T06:08:07.148724Z"
    },
    "tags": []
   },
   "outputs": [],
   "source": [
    "from pathlib import Path"
   ]
  },
  {
   "cell_type": "code",
   "execution_count": 20,
   "metadata": {
    "execution": {
     "iopub.execute_input": "2021-04-28T07:17:43.152308Z",
     "iopub.status.busy": "2021-04-28T07:17:43.151574Z",
     "iopub.status.idle": "2021-04-28T07:17:43.175684Z",
     "shell.execute_reply": "2021-04-28T07:17:43.175083Z",
     "shell.execute_reply.started": "2021-04-28T07:17:43.152215Z"
    },
    "tags": []
   },
   "outputs": [],
   "source": [
    "train_imgpaths = Path(f\"{DATADIR}/train\").rglob('*.*')"
   ]
  },
  {
   "cell_type": "code",
   "execution_count": 21,
   "metadata": {
    "execution": {
     "iopub.execute_input": "2021-04-28T07:17:48.362958Z",
     "iopub.status.busy": "2021-04-28T07:17:48.362507Z",
     "iopub.status.idle": "2021-04-28T07:17:48.379465Z",
     "shell.execute_reply": "2021-04-28T07:17:48.378887Z",
     "shell.execute_reply.started": "2021-04-28T07:17:48.362905Z"
    },
    "tags": []
   },
   "outputs": [
    {
     "data": {
      "text/plain": [
       "[PosixPath('/home/virk/devs/Projects/MolecularTranslationKaggleCompetition/data/train/9/9/9/999e1305f397.png'),\n",
       " PosixPath('/home/virk/devs/Projects/MolecularTranslationKaggleCompetition/data/train/9/9/9/9993e33f8dd9.png'),\n",
       " PosixPath('/home/virk/devs/Projects/MolecularTranslationKaggleCompetition/data/train/9/9/9/999fbfd446f5.png'),\n",
       " PosixPath('/home/virk/devs/Projects/MolecularTranslationKaggleCompetition/data/train/9/9/9/999f7451e589.png'),\n",
       " PosixPath('/home/virk/devs/Projects/MolecularTranslationKaggleCompetition/data/train/9/9/9/99968575b343.png'),\n",
       " PosixPath('/home/virk/devs/Projects/MolecularTranslationKaggleCompetition/data/train/9/9/9/999770e766ed.png'),\n",
       " PosixPath('/home/virk/devs/Projects/MolecularTranslationKaggleCompetition/data/train/9/9/9/99949d3b8b60.png'),\n",
       " PosixPath('/home/virk/devs/Projects/MolecularTranslationKaggleCompetition/data/train/9/9/9/9993445c61f3.png'),\n",
       " PosixPath('/home/virk/devs/Projects/MolecularTranslationKaggleCompetition/data/train/9/9/9/999ba83ea60a.png'),\n",
       " PosixPath('/home/virk/devs/Projects/MolecularTranslationKaggleCompetition/data/train/9/9/9/9996dd1f9a44.png')]"
      ]
     },
     "execution_count": 21,
     "metadata": {},
     "output_type": "execute_result"
    }
   ],
   "source": [
    "[next(train_imgpaths) for _ in range(10)]"
   ]
  },
  {
   "cell_type": "code",
   "execution_count": null,
   "metadata": {
    "tags": []
   },
   "outputs": [],
   "source": []
  },
  {
   "cell_type": "code",
   "execution_count": 47,
   "metadata": {
    "execution": {
     "iopub.execute_input": "2021-04-28T07:19:09.415839Z",
     "iopub.status.busy": "2021-04-28T07:19:09.415385Z",
     "iopub.status.idle": "2021-04-28T07:19:09.772093Z",
     "shell.execute_reply": "2021-04-28T07:19:09.771510Z",
     "shell.execute_reply.started": "2021-04-28T07:19:09.415786Z"
    },
    "tags": []
   },
   "outputs": [
    {
     "name": "stdout",
     "output_type": "stream",
     "text": [
      "(331, 435)\n"
     ]
    },
    {
     "data": {
      "text/plain": [
       "<matplotlib.image.AxesImage at 0x7f1ea70cb1f0>"
      ]
     },
     "execution_count": 47,
     "metadata": {},
     "output_type": "execute_result"
    },
    {
     "data": {
      "image/png": "[encoded data removed]",
      "text/plain": [
       "<Figure size 1080x720 with 1 Axes>"
      ]
     },
     "metadata": {
      "needs_background": "light"
     },
     "output_type": "display_data"
    }
   ],
   "source": [
    "imgpath = next(train_imgpaths)\n",
    "traindf[traindf.image_id == imgpath.stem][\"InChI\"].values[0]\n",
    "\n",
    "img = plt.imread(imgpath)\n",
    "print(img.shape)\n",
    "plt.figure(figsize=(15,10))\n",
    "plt.savefig(\"rpppt.jpg\")\n",
    "plt.imshow(img, cmap='gray')"
   ]
  },
  {
   "cell_type": "code",
   "execution_count": null,
   "metadata": {
    "tags": []
   },
   "outputs": [],
   "source": []
  },
  {
   "cell_type": "markdown",
   "metadata": {},
   "source": [
    "# Can we construct better images using forumla converter and then train a network than can reconstruct the above input image into a better one??"
   ]
  },
  {
   "cell_type": "code",
   "execution_count": 10,
   "metadata": {
    "execution": {
     "iopub.execute_input": "2021-03-25T11:56:05.544128Z",
     "iopub.status.busy": "2021-03-25T11:56:05.543824Z",
     "iopub.status.idle": "2021-03-25T11:56:05.579299Z",
     "shell.execute_reply": "2021-03-25T11:56:05.578502Z",
     "shell.execute_reply.started": "2021-03-25T11:56:05.544091Z"
    },
    "tags": []
   },
   "outputs": [],
   "source": [
    "import cv2\n",
    "import numpy as np"
   ]
  },
  {
   "cell_type": "code",
   "execution_count": 11,
   "metadata": {
    "execution": {
     "iopub.execute_input": "2021-03-25T11:56:05.580860Z",
     "iopub.status.busy": "2021-03-25T11:56:05.580595Z",
     "iopub.status.idle": "2021-03-25T11:56:05.595119Z",
     "shell.execute_reply": "2021-03-25T11:56:05.594171Z",
     "shell.execute_reply.started": "2021-03-25T11:56:05.580832Z"
    },
    "tags": []
   },
   "outputs": [],
   "source": [
    "def auto_canny(image, sigma=0.33):\n",
    "    # compute the median of the single channel pixel intensities\n",
    "    v = np.median(image)\n",
    "    # apply automatic Canny edge detection using the computed median\n",
    "    lower = int(max(0, (1.0 - sigma) * v))\n",
    "    upper = int(min(255, (1.0 + sigma) * v))\n",
    "    edged = cv2.Canny(image, lower, upper)\n",
    "    # return the edged image\n",
    "    return edged\n",
    "\n",
    "def sharpen(img):\n",
    "    # SHARPEN\n",
    "    kernel_sharp = np.array(([-2, -2, -2], [-2, 17, -2], [-2, -2, -2]), dtype='int')\n",
    "    return cv2.filter2D(img, -1, kernel_sharp)"
   ]
  },
  {
   "cell_type": "code",
   "execution_count": 12,
   "metadata": {
    "execution": {
     "iopub.execute_input": "2021-03-25T11:56:05.596637Z",
     "iopub.status.busy": "2021-03-25T11:56:05.596292Z",
     "iopub.status.idle": "2021-03-25T11:56:05.610090Z",
     "shell.execute_reply": "2021-03-25T11:56:05.609359Z",
     "shell.execute_reply.started": "2021-03-25T11:56:05.596574Z"
    },
    "tags": []
   },
   "outputs": [],
   "source": [
    "# edge_img = auto_canny((img*255).astype(np.uint8))\n",
    "# plt.figure(figsize=(15,10))\n",
    "# plt.imshow(edge_img, cmap='gray')"
   ]
  },
  {
   "cell_type": "code",
   "execution_count": 13,
   "metadata": {
    "execution": {
     "iopub.execute_input": "2021-03-25T11:56:05.611372Z",
     "iopub.status.busy": "2021-03-25T11:56:05.611088Z",
     "iopub.status.idle": "2021-03-25T11:56:05.835879Z",
     "shell.execute_reply": "2021-03-25T11:56:05.835241Z",
     "shell.execute_reply.started": "2021-03-25T11:56:05.611337Z"
    },
    "tags": []
   },
   "outputs": [
    {
     "name": "stderr",
     "output_type": "stream",
     "text": [
      "Clipping input data to the valid range for imshow with RGB data ([0..1] for floats or [0..255] for integers).\n"
     ]
    },
    {
     "data": {
      "text/plain": [
       "<matplotlib.image.AxesImage at 0x7f80d5428370>"
      ]
     },
     "execution_count": 13,
     "metadata": {},
     "output_type": "execute_result"
    },
    {
     "data": {
      "image/png": "[encoded data removed]",
      "text/plain": [
       "<Figure size 1080x720 with 1 Axes>"
      ]
     },
     "metadata": {
      "needs_background": "light"
     },
     "output_type": "display_data"
    }
   ],
   "source": [
    "plt.figure(figsize=(15,10))\n",
    "# blur = cv2.bilateralFilter(img,5,200,250)\n",
    "# blur = cv2.GaussianBlur(img,(5,5),0)\n",
    "# blur = 1-blur\n",
    "blur = 1 - img\n",
    "blur = cv2.resize(blur, (blur.shape[1]*2, blur.shape[0]*2), interpolation=cv2.INTER_NEAREST)\n",
    "# blur = cv2.medianBlur(blur, 3)\n",
    "# kernel = cv2.getStructuringElement(cv2.MORPH_CROSS,(2,2))\n",
    "# blur = cv2.morphologyEx(blur, cv2.MORPH_OPEN, kernel)\n",
    "# blur = cv2.bilateralFilter(blur,5,200,250)\n",
    "blur = sharpen(np.stack((blur, blur, blur), axis=-1))\n",
    "# blur = cv2.dilate(blur, np.ones((3,3)))\n",
    "\n",
    "plt.imshow(blur, cmap='gray')"
   ]
  },
  {
   "cell_type": "markdown",
   "metadata": {
    "tags": []
   },
   "source": [
    "# Watershed \n",
    "[blog](https://www.pyimagesearch.com/2015/11/02/watershed-opencv/)"
   ]
  },
  {
   "cell_type": "code",
   "execution_count": 14,
   "metadata": {
    "execution": {
     "iopub.execute_input": "2021-03-25T11:56:05.836907Z",
     "iopub.status.busy": "2021-03-25T11:56:05.836748Z",
     "iopub.status.idle": "2021-03-25T11:56:06.299055Z",
     "shell.execute_reply": "2021-03-25T11:56:06.298315Z",
     "shell.execute_reply.started": "2021-03-25T11:56:05.836889Z"
    },
    "tags": []
   },
   "outputs": [],
   "source": [
    "import imutils\n",
    "from skimage.segmentation import watershed\n",
    "from scipy import ndimage\n",
    "from skimage.feature import peak_local_max"
   ]
  },
  {
   "cell_type": "code",
   "execution_count": 15,
   "metadata": {
    "execution": {
     "iopub.execute_input": "2021-03-25T11:56:06.300387Z",
     "iopub.status.busy": "2021-03-25T11:56:06.300142Z",
     "iopub.status.idle": "2021-03-25T11:56:06.544626Z",
     "shell.execute_reply": "2021-03-25T11:56:06.543673Z",
     "shell.execute_reply.started": "2021-03-25T11:56:06.300357Z"
    },
    "tags": []
   },
   "outputs": [
    {
     "data": {
      "text/plain": [
       "<matplotlib.image.AxesImage at 0x7f8091ef40d0>"
      ]
     },
     "execution_count": 15,
     "metadata": {},
     "output_type": "execute_result"
    },
    {
     "data": {
      "image/png": "[encoded data removed]",
      "text/plain": [
       "<Figure size 1080x720 with 1 Axes>"
      ]
     },
     "metadata": {
      "needs_background": "light"
     },
     "output_type": "display_data"
    }
   ],
   "source": [
    "plt.figure(figsize=(15,10))\n",
    "plt.imshow(ndimage.median_filter((blur*255).astype(np.uint8), 3), cmap='gray')"
   ]
  },
  {
   "cell_type": "code",
   "execution_count": 16,
   "metadata": {
    "execution": {
     "iopub.execute_input": "2021-03-25T11:56:06.545531Z",
     "iopub.status.busy": "2021-03-25T11:56:06.545370Z",
     "iopub.status.idle": "2021-03-25T11:56:06.748607Z",
     "shell.execute_reply": "2021-03-25T11:56:06.747905Z",
     "shell.execute_reply.started": "2021-03-25T11:56:06.545510Z"
    }
   },
   "outputs": [
    {
     "data": {
      "text/plain": [
       "<matplotlib.image.AxesImage at 0x7f8091ec91f0>"
      ]
     },
     "execution_count": 16,
     "metadata": {},
     "output_type": "execute_result"
    },
    {
     "data": {
      "image/png": "[encoded data removed]",
      "text/plain": [
       "<Figure size 1080x720 with 1 Axes>"
      ]
     },
     "metadata": {
      "needs_background": "light"
     },
     "output_type": "display_data"
    }
   ],
   "source": [
    "plt.figure(figsize=(15,10))\n",
    "plt.imshow(img, cmap='gray')"
   ]
  },
  {
   "cell_type": "code",
   "execution_count": 17,
   "metadata": {
    "execution": {
     "iopub.execute_input": "2021-03-25T11:56:06.749883Z",
     "iopub.status.busy": "2021-03-25T11:56:06.749609Z",
     "iopub.status.idle": "2021-03-25T11:56:06.984768Z",
     "shell.execute_reply": "2021-03-25T11:56:06.984175Z",
     "shell.execute_reply.started": "2021-03-25T11:56:06.749839Z"
    },
    "tags": []
   },
   "outputs": [
    {
     "data": {
      "text/plain": [
       "<matplotlib.image.AxesImage at 0x7f8091e241f0>"
      ]
     },
     "execution_count": 17,
     "metadata": {},
     "output_type": "execute_result"
    },
    {
     "data": {
      "image/png": "[encoded data removed]",
      "text/plain": [
       "<Figure size 1080x720 with 1 Axes>"
      ]
     },
     "metadata": {
      "needs_background": "light"
     },
     "output_type": "display_data"
    }
   ],
   "source": [
    "from preprocessing import preprocess_image\n",
    "plt.figure(figsize=(15,10))\n",
    "plt.imshow(preprocess_image(img), cmap='gray')"
   ]
  },
  {
   "cell_type": "code",
   "execution_count": 18,
   "metadata": {
    "execution": {
     "iopub.execute_input": "2021-03-25T11:56:06.985698Z",
     "iopub.status.busy": "2021-03-25T11:56:06.985513Z",
     "iopub.status.idle": "2021-03-25T11:56:07.225249Z",
     "shell.execute_reply": "2021-03-25T11:56:07.224640Z",
     "shell.execute_reply.started": "2021-03-25T11:56:06.985678Z"
    },
    "tags": []
   },
   "outputs": [
    {
     "data": {
      "text/plain": [
       "<matplotlib.image.AxesImage at 0x7f8091df7490>"
      ]
     },
     "execution_count": 18,
     "metadata": {},
     "output_type": "execute_result"
    },
    {
     "data": {
      "image/png": "[encoded data removed]",
      "text/plain": [
       "<Figure size 1080x720 with 1 Axes>"
      ]
     },
     "metadata": {
      "needs_background": "light"
     },
     "output_type": "display_data"
    }
   ],
   "source": [
    "from preprocessing import preprocess_image\n",
    "plt.figure(figsize=(15,10))\n",
    "plt.imshow(preprocess_image(img), cmap='gray')"
   ]
  },
  {
   "cell_type": "code",
   "execution_count": 19,
   "metadata": {
    "execution": {
     "iopub.execute_input": "2021-03-25T11:56:07.226583Z",
     "iopub.status.busy": "2021-03-25T11:56:07.226176Z",
     "iopub.status.idle": "2021-03-25T11:56:07.436083Z",
     "shell.execute_reply": "2021-03-25T11:56:07.435336Z",
     "shell.execute_reply.started": "2021-03-25T11:56:07.226553Z"
    }
   },
   "outputs": [
    {
     "data": {
      "text/plain": [
       "<matplotlib.image.AxesImage at 0x7f8091f10250>"
      ]
     },
     "execution_count": 19,
     "metadata": {},
     "output_type": "execute_result"
    },
    {
     "data": {
      "image/png": "[encoded data removed]",
      "text/plain": [
       "<Figure size 1080x720 with 1 Axes>"
      ]
     },
     "metadata": {
      "needs_background": "light"
     },
     "output_type": "display_data"
    }
   ],
   "source": [
    "im4 = 1 - img\n",
    "im4 = cv2.dilate(im4, np.ones((3,3)))\n",
    "plt.figure(figsize=(15,10))\n",
    "plt.imshow(im4, cmap='gray')"
   ]
  },
  {
   "cell_type": "code",
   "execution_count": 20,
   "metadata": {
    "execution": {
     "iopub.execute_input": "2021-03-25T11:56:07.437508Z",
     "iopub.status.busy": "2021-03-25T11:56:07.437260Z",
     "iopub.status.idle": "2021-03-25T11:56:07.681990Z",
     "shell.execute_reply": "2021-03-25T11:56:07.681414Z",
     "shell.execute_reply.started": "2021-03-25T11:56:07.437480Z"
    },
    "tags": []
   },
   "outputs": [
    {
     "name": "stdout",
     "output_type": "stream",
     "text": [
      "[INFO] 26 unique contours found\n",
      "[INFO] 19 unique contours found\n"
     ]
    },
    {
     "data": {
      "text/plain": [
       "<matplotlib.image.AxesImage at 0x7f8091d2c6a0>"
      ]
     },
     "execution_count": 20,
     "metadata": {},
     "output_type": "execute_result"
    },
    {
     "data": {
      "image/png": "[encoded data removed]",
      "text/plain": [
       "<Figure size 1080x720 with 1 Axes>"
      ]
     },
     "metadata": {
      "needs_background": "light"
     },
     "output_type": "display_data"
    }
   ],
   "source": [
    "image = (blur*255).astype(np.uint8)\n",
    "\n",
    "# find contours in the thresholded image\n",
    "cnts = cv2.findContours(cv2.cvtColor(image, cv2.COLOR_RGB2GRAY), cv2.RETR_EXTERNAL,\n",
    "\tcv2.CHAIN_APPROX_SIMPLE)\n",
    "cnts = imutils.grab_contours(cnts)\n",
    "print(\"[INFO] {} unique contours found\".format(len(cnts)))\n",
    "# loop over the contours\n",
    "for (i, c) in enumerate(cnts):\n",
    "    if cv2.contourArea(c) < 10:\n",
    "        continue\n",
    "    # draw the contour\n",
    "#     ((x, y), _) = cv2.minEnclosingCircle(c)\n",
    "#     cv2.putText(image, \"#{}\".format(i + 1), (int(x) - 10, int(y)),cv2.FONT_HERSHEY_SIMPLEX, 0.6, (0, 0, 255), 2)\n",
    "    image[image >= 150] = 255\n",
    "    image[image < 150] = 0\n",
    "    cv2.drawContours(image, [c], -1, (0, 255, 0), 1)\n",
    "    cv2.fillPoly(image, [c], color=(0,255,0))\n",
    "image = image[...,1] - image[...,0]\n",
    "# image = ndimage.median_filter(image, 3)\n",
    "\n",
    "image = np.stack((image, image, image), axis=-1)\n",
    "# find contours in the thresholded image\n",
    "cnts = cv2.findContours(cv2.cvtColor(image, cv2.COLOR_RGB2GRAY), cv2.RETR_EXTERNAL, cv2.CHAIN_APPROX_SIMPLE)\n",
    "cnts = imutils.grab_contours(cnts)\n",
    "print(\"[INFO] {} unique contours found\".format(len(cnts)))\n",
    "# loop over the contours\n",
    "for (i, c) in enumerate(cnts):\n",
    "    # draw the contour\n",
    "#     ((x, y), _) = cv2.minEnclosingCircle(c)\n",
    "#     cv2.putText(image, \"#{}\".format(i + 1), (int(x) - 10, int(y)),cv2.FONT_HERSHEY_SIMPLEX, 0.6, (0, 0, 255), 2)\n",
    "#     image[image >= 150] = 255\n",
    "#     image[image < 150] = 0\n",
    "    cv2.drawContours(image, [c], -1, (0, 255, 0), 1)\n",
    "    cv2.fillPoly(image, [c], color=(0,255,0))\n",
    "image = image[...,1] #- image[...,0]\n",
    "# image = ndimage.median_filter(image, 3)\n",
    "\n",
    "\n",
    "plt.figure(figsize=(15,10))\n",
    "plt.imshow(image, cmap='gray')"
   ]
  },
  {
   "cell_type": "code",
   "execution_count": 21,
   "metadata": {
    "execution": {
     "iopub.execute_input": "2021-03-25T11:56:07.682926Z",
     "iopub.status.busy": "2021-03-25T11:56:07.682780Z",
     "iopub.status.idle": "2021-03-25T11:56:07.915372Z",
     "shell.execute_reply": "2021-03-25T11:56:07.914825Z",
     "shell.execute_reply.started": "2021-03-25T11:56:07.682909Z"
    },
    "tags": []
   },
   "outputs": [
    {
     "name": "stdout",
     "output_type": "stream",
     "text": [
      "[INFO] 74 unique contours found\n"
     ]
    },
    {
     "data": {
      "text/plain": [
       "<matplotlib.image.AxesImage at 0x7f8091d080d0>"
      ]
     },
     "execution_count": 21,
     "metadata": {},
     "output_type": "execute_result"
    },
    {
     "data": {
      "image/png": "[encoded data removed]",
      "text/plain": [
       "<Figure size 1080x720 with 1 Axes>"
      ]
     },
     "metadata": {
      "needs_background": "light"
     },
     "output_type": "display_data"
    }
   ],
   "source": [
    "# WITHOUT WATERSHED\n",
    "image = (blur*255).astype(np.uint8)\n",
    "shifted = cv2.pyrMeanShiftFiltering(image, 2, 5)\n",
    "gray = cv2.cvtColor(shifted, cv2.COLOR_BGR2GRAY)\n",
    "thresh = cv2.threshold(gray, 0, 255, cv2.THRESH_BINARY | cv2.THRESH_OTSU)[1]\n",
    "\n",
    "# find contours in the thresholded image\n",
    "cnts = cv2.findContours(thresh.copy(), cv2.RETR_EXTERNAL,\n",
    "\tcv2.CHAIN_APPROX_SIMPLE)\n",
    "cnts = imutils.grab_contours(cnts)\n",
    "print(\"[INFO] {} unique contours found\".format(len(cnts)))\n",
    "# loop over the contours\n",
    "for (i, c) in enumerate(cnts):\n",
    "    if cv2.contourArea(c) < 3:\n",
    "        continue\n",
    "    # draw the contour\n",
    "    ((x, y), _) = cv2.minEnclosingCircle(c)\n",
    "#     cv2.putText(image, \"#{}\".format(i + 1), (int(x) - 10, int(y)),cv2.FONT_HERSHEY_SIMPLEX, 0.6, (0, 0, 255), 2)\n",
    "    image[image >= 150] = 255\n",
    "    image[image < 150] = 0\n",
    "    cv2.drawContours(image, [c], -1, (0, 255, 0), 2)\n",
    "    cv2.fillPoly(image, [c], color=(0,255,0))\n",
    "image = image[...,1] - image[...,0]\n",
    "    \n",
    "# image = cv2.erode(image, np.ones((3,3)))\n",
    "plt.figure(figsize=(15,10))\n",
    "plt.imshow(image, cmap='gray')"
   ]
  },
  {
   "cell_type": "code",
   "execution_count": 22,
   "metadata": {
    "execution": {
     "iopub.execute_input": "2021-03-25T11:56:07.916380Z",
     "iopub.status.busy": "2021-03-25T11:56:07.916194Z",
     "iopub.status.idle": "2021-03-25T11:56:09.505475Z",
     "shell.execute_reply": "2021-03-25T11:56:09.504924Z",
     "shell.execute_reply.started": "2021-03-25T11:56:07.916358Z"
    },
    "tags": []
   },
   "outputs": [],
   "source": [
    "import torch\n",
    "from torch.nn.functional import max_pool2d, avg_pool2d"
   ]
  },
  {
   "cell_type": "code",
   "execution_count": 23,
   "metadata": {
    "execution": {
     "iopub.execute_input": "2021-03-25T11:56:09.512105Z",
     "iopub.status.busy": "2021-03-25T11:56:09.511847Z",
     "iopub.status.idle": "2021-03-25T11:56:09.548736Z",
     "shell.execute_reply": "2021-03-25T11:56:09.547889Z",
     "shell.execute_reply.started": "2021-03-25T11:56:09.512075Z"
    },
    "tags": []
   },
   "outputs": [
    {
     "data": {
      "text/plain": [
       "torch.Size([1, 1, 292, 466])"
      ]
     },
     "execution_count": 23,
     "metadata": {},
     "output_type": "execute_result"
    }
   ],
   "source": [
    "im3 = torch.Tensor(image).unsqueeze(0).unsqueeze(0)\n",
    "im3.shape"
   ]
  },
  {
   "cell_type": "code",
   "execution_count": 24,
   "metadata": {
    "execution": {
     "iopub.execute_input": "2021-03-25T11:56:09.550938Z",
     "iopub.status.busy": "2021-03-25T11:56:09.550694Z",
     "iopub.status.idle": "2021-03-25T11:56:09.751234Z",
     "shell.execute_reply": "2021-03-25T11:56:09.750389Z",
     "shell.execute_reply.started": "2021-03-25T11:56:09.550908Z"
    },
    "tags": []
   },
   "outputs": [
    {
     "data": {
      "text/plain": [
       "<matplotlib.image.AxesImage at 0x7f7fc425bf40>"
      ]
     },
     "execution_count": 24,
     "metadata": {},
     "output_type": "execute_result"
    },
    {
     "data": {
      "image/png": "[encoded data removed]",
      "text/plain": [
       "<Figure size 1080x720 with 1 Axes>"
      ]
     },
     "metadata": {
      "needs_background": "light"
     },
     "output_type": "display_data"
    }
   ],
   "source": [
    "plt.figure(figsize=(15,10))\n",
    "plt.imshow(cv2.resize(image, (blur.shape[1]//2, blur.shape[0]//2), interpolation=cv2.INTER_NEAREST), cmap='gray')"
   ]
  },
  {
   "cell_type": "code",
   "execution_count": 25,
   "metadata": {
    "execution": {
     "iopub.execute_input": "2021-03-25T11:56:09.752631Z",
     "iopub.status.busy": "2021-03-25T11:56:09.752392Z",
     "iopub.status.idle": "2021-03-25T11:56:09.972409Z",
     "shell.execute_reply": "2021-03-25T11:56:09.971829Z",
     "shell.execute_reply.started": "2021-03-25T11:56:09.752602Z"
    },
    "tags": []
   },
   "outputs": [
    {
     "name": "stdout",
     "output_type": "stream",
     "text": [
      "(145, 232)\n"
     ]
    },
    {
     "data": {
      "text/plain": [
       "<matplotlib.image.AxesImage at 0x7f7fc2a2fe20>"
      ]
     },
     "execution_count": 25,
     "metadata": {},
     "output_type": "execute_result"
    },
    {
     "data": {
      "image/png": "[encoded data removed]",
      "text/plain": [
       "<Figure size 1080x720 with 1 Axes>"
      ]
     },
     "metadata": {
      "needs_background": "light"
     },
     "output_type": "display_data"
    }
   ],
   "source": [
    "plt.figure(figsize=(15,10))\n",
    "out = max_pool2d(im3, kernel_size=3, stride=2).squeeze(0).squeeze(0).numpy().astype(np.uint8)\n",
    "print(out.shape)\n",
    "plt.imshow(out, cmap='gray')"
   ]
  },
  {
   "cell_type": "code",
   "execution_count": null,
   "metadata": {},
   "outputs": [],
   "source": []
  },
  {
   "cell_type": "code",
   "execution_count": null,
   "metadata": {},
   "outputs": [],
   "source": []
  },
  {
   "cell_type": "code",
   "execution_count": null,
   "metadata": {},
   "outputs": [],
   "source": []
  },
  {
   "cell_type": "markdown",
   "metadata": {
    "tags": []
   },
   "source": [
    "# Convolution-based line detection"
   ]
  },
  {
   "cell_type": "code",
   "execution_count": 26,
   "metadata": {
    "execution": {
     "iopub.execute_input": "2021-03-25T11:56:09.973629Z",
     "iopub.status.busy": "2021-03-25T11:56:09.973398Z",
     "iopub.status.idle": "2021-03-25T11:56:09.992205Z",
     "shell.execute_reply": "2021-03-25T11:56:09.991442Z",
     "shell.execute_reply.started": "2021-03-25T11:56:09.973600Z"
    },
    "tags": []
   },
   "outputs": [],
   "source": [
    "import torch\n",
    "from torch.nn.functional import conv2d"
   ]
  },
  {
   "cell_type": "code",
   "execution_count": 31,
   "metadata": {
    "execution": {
     "iopub.execute_input": "2021-03-25T11:58:00.411684Z",
     "iopub.status.busy": "2021-03-25T11:58:00.411385Z",
     "iopub.status.idle": "2021-03-25T11:58:00.561376Z",
     "shell.execute_reply": "2021-03-25T11:58:00.560613Z",
     "shell.execute_reply.started": "2021-03-25T11:58:00.411651Z"
    },
    "tags": []
   },
   "outputs": [
    {
     "name": "stderr",
     "output_type": "stream",
     "text": [
      "Clipping input data to the valid range for imshow with RGB data ([0..1] for floats or [0..255] for integers).\n"
     ]
    },
    {
     "name": "stdout",
     "output_type": "stream",
     "text": [
      "(146, 233, 3)\n"
     ]
    },
    {
     "data": {
      "text/plain": [
       "<matplotlib.image.AxesImage at 0x7f7fc288cd00>"
      ]
     },
     "execution_count": 31,
     "metadata": {},
     "output_type": "execute_result"
    },
    {
     "data": {
      "image/png": "[encoded data removed]",
      "text/plain": [
       "<Figure size 432x288 with 1 Axes>"
      ]
     },
     "metadata": {
      "needs_background": "light"
     },
     "output_type": "display_data"
    }
   ],
   "source": [
    "im = sharpen(np.stack((img, img, img), axis=-1))\n",
    "print(im.shape)\n",
    "plt.imshow(im, cmap='gray')"
   ]
  },
  {
   "cell_type": "code",
   "execution_count": 38,
   "metadata": {
    "execution": {
     "iopub.execute_input": "2021-03-25T11:59:59.690453Z",
     "iopub.status.busy": "2021-03-25T11:59:59.690034Z",
     "iopub.status.idle": "2021-03-25T11:59:59.717244Z",
     "shell.execute_reply": "2021-03-25T11:59:59.716591Z",
     "shell.execute_reply.started": "2021-03-25T11:59:59.690404Z"
    },
    "tags": []
   },
   "outputs": [],
   "source": [
    "def conv_line_detection(im):\n",
    "    im = torch.Tensor(im).unsqueeze(0).unsqueeze(0)\n",
    "    \n",
    "    horizontal_mask = torch.tensor([[[[-1, -1, -1], [2, 2, 2], [-1, -1, -1]]]], dtype=torch.float)\n",
    "    vertical_mask = torch.tensor([[[[-1,  2, -1], [-1,  2, -1], [-1,  2, -1]]]], dtype=torch.float)\n",
    "    oblique_r2_mask = torch.tensor([[[[-1,  -1, 2], [-1,  2, -1], [2,  -1, -1]]]], dtype=torch.float)\n",
    "    oblique_r4_mask = torch.tensor([[[[2,  -1, -1], [-1,  2, -1], [-1,  -1, 2]]]], dtype=torch.float)\n",
    "    print(horizontal_mask.shape)\n",
    "    \n",
    "    im1 = conv2d(im, horizontal_mask, stride=1, padding=1)\n",
    "    im1[im1 <= 0] = 0\n",
    "    im1[im1 > 0] = 255\n",
    "    im2 = conv2d(im, vertical_mask, stride=1, padding=1)\n",
    "    im2[im2 <= 0] = 0\n",
    "    im2[im2 > 0] = 255\n",
    "    im3 = conv2d(im, oblique_r2_mask, stride=1, padding=1)\n",
    "    im3[im3 <= 0] = 0\n",
    "    im3[im3 > 0] = 255\n",
    "    im4 = conv2d(im, oblique_r4_mask, stride=1, padding=1)\n",
    "    im4[im4 <= 0] = 0\n",
    "    im4[im4 > 0] = 255\n",
    "\n",
    "    return (im1 + im2 + im3 + im4) / 4"
   ]
  },
  {
   "cell_type": "code",
   "execution_count": 39,
   "metadata": {
    "execution": {
     "iopub.execute_input": "2021-03-25T11:59:59.916783Z",
     "iopub.status.busy": "2021-03-25T11:59:59.916443Z",
     "iopub.status.idle": "2021-03-25T11:59:59.961182Z",
     "shell.execute_reply": "2021-03-25T11:59:59.960667Z",
     "shell.execute_reply.started": "2021-03-25T11:59:59.916745Z"
    },
    "tags": []
   },
   "outputs": [
    {
     "name": "stdout",
     "output_type": "stream",
     "text": [
      "torch.Size([1, 1, 3, 3])\n"
     ]
    },
    {
     "data": {
      "text/plain": [
       "torch.Size([1, 1, 146, 233])"
      ]
     },
     "execution_count": 39,
     "metadata": {},
     "output_type": "execute_result"
    }
   ],
   "source": [
    "out = conv_line_detection(img)\n",
    "out.shape"
   ]
  },
  {
   "cell_type": "code",
   "execution_count": 40,
   "metadata": {
    "execution": {
     "iopub.execute_input": "2021-03-25T12:00:07.264794Z",
     "iopub.status.busy": "2021-03-25T12:00:07.264380Z",
     "iopub.status.idle": "2021-03-25T12:00:07.286730Z",
     "shell.execute_reply": "2021-03-25T12:00:07.286113Z",
     "shell.execute_reply.started": "2021-03-25T12:00:07.264746Z"
    },
    "tags": []
   },
   "outputs": [],
   "source": [
    "imim = out.squeeze(0).squeeze(0).numpy().astype(np.uint8)\n",
    "# imim[imim >= 50] = 255\n",
    "# imim[imim < 50] = 0"
   ]
  },
  {
   "cell_type": "code",
   "execution_count": 41,
   "metadata": {
    "execution": {
     "iopub.execute_input": "2021-03-25T12:00:07.489896Z",
     "iopub.status.busy": "2021-03-25T12:00:07.489192Z",
     "iopub.status.idle": "2021-03-25T12:00:07.681885Z",
     "shell.execute_reply": "2021-03-25T12:00:07.681132Z",
     "shell.execute_reply.started": "2021-03-25T12:00:07.489836Z"
    },
    "tags": []
   },
   "outputs": [
    {
     "data": {
      "text/plain": [
       "<matplotlib.image.AxesImage at 0x7f7fc27b89a0>"
      ]
     },
     "execution_count": 41,
     "metadata": {},
     "output_type": "execute_result"
    },
    {
     "data": {
      "image/png": "[encoded data removed]",
      "text/plain": [
       "<Figure size 1080x720 with 1 Axes>"
      ]
     },
     "metadata": {
      "needs_background": "light"
     },
     "output_type": "display_data"
    }
   ],
   "source": [
    "plt.figure(figsize=(15,10))\n",
    "plt.imshow(imim, cmap='gray')"
   ]
  },
  {
   "cell_type": "code",
   "execution_count": null,
   "metadata": {},
   "outputs": [],
   "source": []
  },
  {
   "cell_type": "markdown",
   "metadata": {},
   "source": [
    "# Labels EDA"
   ]
  },
  {
   "cell_type": "code",
   "execution_count": 42,
   "metadata": {
    "execution": {
     "iopub.execute_input": "2021-03-25T12:01:32.066844Z",
     "iopub.status.busy": "2021-03-25T12:01:32.066303Z",
     "iopub.status.idle": "2021-03-25T12:01:32.089420Z",
     "shell.execute_reply": "2021-03-25T12:01:32.088840Z",
     "shell.execute_reply.started": "2021-03-25T12:01:32.066789Z"
    },
    "tags": []
   },
   "outputs": [
    {
     "data": {
      "text/plain": [
       "'InChI=1S/C13H20OS/c1-9(2)8-15-13-6-5-10(3)7-12(13)11(4)14/h5-7,9,11,14H,8H2,1-4H3'"
      ]
     },
     "execution_count": 42,
     "metadata": {},
     "output_type": "execute_result"
    }
   ],
   "source": [
    "traindf.InChI.iloc[0]"
   ]
  },
  {
   "cell_type": "code",
   "execution_count": 43,
   "metadata": {
    "execution": {
     "iopub.execute_input": "2021-03-25T12:01:32.273400Z",
     "iopub.status.busy": "2021-03-25T12:01:32.273055Z",
     "iopub.status.idle": "2021-03-25T12:01:32.304548Z",
     "shell.execute_reply": "2021-03-25T12:01:32.303654Z",
     "shell.execute_reply.started": "2021-03-25T12:01:32.273360Z"
    },
    "tags": []
   },
   "outputs": [
    {
     "data": {
      "text/plain": [
       "0          InChI=1S/C13H20OS/c1-9(2)8-15-13-6-5-10(3)7-12...\n",
       "1          InChI=1S/C21H30O4/c1-12(22)25-14-6-8-20(2)13(1...\n",
       "2          InChI=1S/C24H23N5O4/c1-14-13-15(7-8-17(14)28-1...\n",
       "3          InChI=1S/C17H24N2O4S/c1-12(20)18-13(14-7-6-10-...\n",
       "4          InChI=1S/C10H19N3O2S/c1-15-10(14)12-8-4-6-13(7...\n",
       "                                 ...                        \n",
       "2424181    InChI=1S/C10H12F2N2O3/c1-17-7-2-5(3-8(15)16)9(...\n",
       "2424182    InChI=1S/C19H20F2N4O3S/c1-10(8-20)28-14-7-12(2...\n",
       "2424183    InChI=1S/C22H26Cl2N2O4S/c1-16-6-2-3-10-21(16)3...\n",
       "2424184    InChI=1S/C17H26N2O6S/c1-23-16-12-14(4-5-15(16)...\n",
       "2424185    InChI=1S/C10H18N2O9P2/c1-7-10(13)9(5-11-2-3-20...\n",
       "Name: InChI, Length: 2424186, dtype: object"
      ]
     },
     "execution_count": 43,
     "metadata": {},
     "output_type": "execute_result"
    }
   ],
   "source": [
    "traindf.InChI"
   ]
  },
  {
   "cell_type": "code",
   "execution_count": 44,
   "metadata": {
    "execution": {
     "iopub.execute_input": "2021-03-25T12:01:32.416312Z",
     "iopub.status.busy": "2021-03-25T12:01:32.416127Z",
     "iopub.status.idle": "2021-03-25T12:01:36.782989Z",
     "shell.execute_reply": "2021-03-25T12:01:36.782430Z",
     "shell.execute_reply.started": "2021-03-25T12:01:32.416292Z"
    },
    "tags": []
   },
   "outputs": [],
   "source": [
    "labels = list(map(lambda x: x.split('/'), traindf.InChI.values.tolist()))"
   ]
  },
  {
   "cell_type": "code",
   "execution_count": 45,
   "metadata": {
    "execution": {
     "iopub.execute_input": "2021-03-25T12:01:42.853078Z",
     "iopub.status.busy": "2021-03-25T12:01:42.852929Z",
     "iopub.status.idle": "2021-03-25T12:01:42.869381Z",
     "shell.execute_reply": "2021-03-25T12:01:42.868865Z",
     "shell.execute_reply.started": "2021-03-25T12:01:42.853060Z"
    },
    "tags": []
   },
   "outputs": [
    {
     "data": {
      "text/plain": [
       "2424186"
      ]
     },
     "execution_count": 45,
     "metadata": {},
     "output_type": "execute_result"
    }
   ],
   "source": [
    "len(labels)"
   ]
  },
  {
   "cell_type": "code",
   "execution_count": 46,
   "metadata": {
    "execution": {
     "iopub.execute_input": "2021-03-25T12:01:42.870463Z",
     "iopub.status.busy": "2021-03-25T12:01:42.870256Z",
     "iopub.status.idle": "2021-03-25T12:01:42.887237Z",
     "shell.execute_reply": "2021-03-25T12:01:42.886813Z",
     "shell.execute_reply.started": "2021-03-25T12:01:42.870445Z"
    },
    "tags": []
   },
   "outputs": [
    {
     "data": {
      "text/plain": [
       "[['InChI=1S',\n",
       "  'C13H20OS',\n",
       "  'c1-9(2)8-15-13-6-5-10(3)7-12(13)11(4)14',\n",
       "  'h5-7,9,11,14H,8H2,1-4H3'],\n",
       " ['InChI=1S',\n",
       "  'C21H30O4',\n",
       "  'c1-12(22)25-14-6-8-20(2)13(10-14)11-17(23)19-15-4-5-18(24)21(15,3)9-7-16(19)20',\n",
       "  'h13-16,19H,4-11H2,1-3H3',\n",
       "  't13-,14+,15+,16-,19-,20+,21+',\n",
       "  'm1',\n",
       "  's1'],\n",
       " ['InChI=1S',\n",
       "  'C24H23N5O4',\n",
       "  'c1-14-13-15(7-8-17(14)28-12-10-20(28)30)27-11-9-16-21(23(25)31)26-29(22(16)24(27)32)18-5-3-4-6-19(18)33-2',\n",
       "  'h3-8,13H,9-12H2,1-2H3,(H2,25,31)'],\n",
       " ['InChI=1S',\n",
       "  'C17H24N2O4S',\n",
       "  'c1-12(20)18-13(14-7-6-10-24-14)11-15(21)19-17(16(22)23)8-4-2-3-5-9-17',\n",
       "  'h6-7,10,13H,2-5,8-9,11H2,1H3,(H,18,20)(H,19,21)(H,22,23)'],\n",
       " ['InChI=1S',\n",
       "  'C10H19N3O2S',\n",
       "  'c1-15-10(14)12-8-4-6-13(7-8)5-2-3-9(11)16',\n",
       "  'h8H,2-7H2,1H3,(H2,11,16)(H,12,14)'],\n",
       " ['InChI=1S',\n",
       "  'C19H22Br2N2O2',\n",
       "  'c1-13(2)10-16(19(24)25)23(9-8-14-6-4-3-5-7-14)15-11-17(20)22-18(21)12-15',\n",
       "  'h3-7,11-13,16H,8-10H2,1-2H3,(H,24,25)'],\n",
       " ['InChI=1S',\n",
       "  'C17H10BrN3O',\n",
       "  'c18-14-7-3-1-5-11(14)9-12(10-19)16-20-15-8-4-2-6-13(15)17(22)21-16',\n",
       "  'h1-9,13H',\n",
       "  'b12-9+'],\n",
       " ['InChI=1S',\n",
       "  'C21H21N5O2S',\n",
       "  'c1-15-7-8-18(17-5-4-11-22-20(15)17)29(27,28)25-13-9-16(10-14-25)21-24-23-19-6-2-3-12-26(19)21',\n",
       "  'h2-8,11-12,16H,9-10,13-14H2,1H3'],\n",
       " ['InChI=1S',\n",
       "  'C13H18N2O5S',\n",
       "  'c1-4-10(13(17)18)15-12(16)9-5-7(2)8(3)11(6-9)21(14,19)20',\n",
       "  'h5-6,10H,4H2,1-3H3,(H,15,16)(H,17,18)(H2,14,19,20)'],\n",
       " ['InChI=1S',\n",
       "  'C13H15BrN2O3',\n",
       "  'c1-7-5-15-6-9(7)12(17)16-11-3-2-8(13(18)19)4-10(11)14',\n",
       "  'h2-4,7,9,15H,5-6H2,1H3,(H,16,17)(H,18,19)',\n",
       "  't7-,9-',\n",
       "  'm1',\n",
       "  's1']]"
      ]
     },
     "execution_count": 46,
     "metadata": {},
     "output_type": "execute_result"
    }
   ],
   "source": [
    "labels[:10]"
   ]
  },
  {
   "cell_type": "code",
   "execution_count": 47,
   "metadata": {
    "execution": {
     "iopub.execute_input": "2021-03-25T12:01:42.888932Z",
     "iopub.status.busy": "2021-03-25T12:01:42.888405Z",
     "iopub.status.idle": "2021-03-25T12:01:43.076215Z",
     "shell.execute_reply": "2021-03-25T12:01:43.075672Z",
     "shell.execute_reply.started": "2021-03-25T12:01:42.888890Z"
    },
    "tags": []
   },
   "outputs": [],
   "source": [
    "inchis = [l[0] for l in labels]"
   ]
  },
  {
   "cell_type": "code",
   "execution_count": 48,
   "metadata": {
    "execution": {
     "iopub.execute_input": "2021-03-25T12:01:43.076999Z",
     "iopub.status.busy": "2021-03-25T12:01:43.076846Z",
     "iopub.status.idle": "2021-03-25T12:01:43.894842Z",
     "shell.execute_reply": "2021-03-25T12:01:43.894259Z",
     "shell.execute_reply.started": "2021-03-25T12:01:43.076981Z"
    },
    "tags": []
   },
   "outputs": [
    {
     "data": {
      "text/plain": [
       "array(['InChI=1S'], dtype='<U8')"
      ]
     },
     "execution_count": 48,
     "metadata": {},
     "output_type": "execute_result"
    }
   ],
   "source": [
    "np.unique(inchis)"
   ]
  },
  {
   "cell_type": "code",
   "execution_count": 49,
   "metadata": {
    "execution": {
     "iopub.execute_input": "2021-03-25T12:01:43.896074Z",
     "iopub.status.busy": "2021-03-25T12:01:43.895687Z",
     "iopub.status.idle": "2021-03-25T12:01:44.113717Z",
     "shell.execute_reply": "2021-03-25T12:01:44.113124Z",
     "shell.execute_reply.started": "2021-03-25T12:01:43.896046Z"
    },
    "tags": []
   },
   "outputs": [
    {
     "data": {
      "text/plain": [
       "307"
      ]
     },
     "execution_count": 49,
     "metadata": {},
     "output_type": "execute_result"
    }
   ],
   "source": [
    "len([l for l in labels if len(l) < 4])"
   ]
  },
  {
   "cell_type": "code",
   "execution_count": 50,
   "metadata": {
    "execution": {
     "iopub.execute_input": "2021-03-25T12:01:44.115643Z",
     "iopub.status.busy": "2021-03-25T12:01:44.115478Z",
     "iopub.status.idle": "2021-03-25T12:01:44.256473Z",
     "shell.execute_reply": "2021-03-25T12:01:44.255926Z",
     "shell.execute_reply.started": "2021-03-25T12:01:44.115624Z"
    },
    "tags": []
   },
   "outputs": [
    {
     "data": {
      "text/plain": [
       "2424186"
      ]
     },
     "execution_count": 50,
     "metadata": {},
     "output_type": "execute_result"
    }
   ],
   "source": [
    "names = [l[1] for l in labels]\n",
    "len(names)"
   ]
  },
  {
   "cell_type": "code",
   "execution_count": 51,
   "metadata": {
    "execution": {
     "iopub.execute_input": "2021-03-25T12:01:44.257539Z",
     "iopub.status.busy": "2021-03-25T12:01:44.257387Z",
     "iopub.status.idle": "2021-03-25T12:01:45.633458Z",
     "shell.execute_reply": "2021-03-25T12:01:45.632722Z",
     "shell.execute_reply.started": "2021-03-25T12:01:44.257521Z"
    },
    "tags": []
   },
   "outputs": [
    {
     "data": {
      "text/plain": [
       "(329768,)"
      ]
     },
     "execution_count": 51,
     "metadata": {},
     "output_type": "execute_result"
    }
   ],
   "source": [
    "np.unique(names).shape"
   ]
  },
  {
   "cell_type": "code",
   "execution_count": 52,
   "metadata": {
    "execution": {
     "iopub.execute_input": "2021-03-25T12:01:45.634830Z",
     "iopub.status.busy": "2021-03-25T12:01:45.634647Z",
     "iopub.status.idle": "2021-03-25T12:01:45.651521Z",
     "shell.execute_reply": "2021-03-25T12:01:45.650922Z",
     "shell.execute_reply.started": "2021-03-25T12:01:45.634811Z"
    },
    "tags": []
   },
   "outputs": [],
   "source": [
    "from collections import Counter"
   ]
  },
  {
   "cell_type": "code",
   "execution_count": 53,
   "metadata": {
    "execution": {
     "iopub.execute_input": "2021-03-25T12:01:45.652383Z",
     "iopub.status.busy": "2021-03-25T12:01:45.652231Z",
     "iopub.status.idle": "2021-03-25T12:01:46.379809Z",
     "shell.execute_reply": "2021-03-25T12:01:46.379033Z",
     "shell.execute_reply.started": "2021-03-25T12:01:45.652360Z"
    },
    "tags": []
   },
   "outputs": [
    {
     "data": {
      "text/plain": [
       "Counter({'C13H20OS': 37,\n",
       "         'C21H30O4': 71,\n",
       "         'C24H23N5O4': 50,\n",
       "         'C17H24N2O4S': 156,\n",
       "         'C10H19N3O2S': 75,\n",
       "         'C19H22Br2N2O2': 4,\n",
       "         'C17H10BrN3O': 3,\n",
       "         'C21H21N5O2S': 116,\n",
       "         'C13H18N2O5S': 131,\n",
       "         'C13H15BrN2O3': 94,\n",
       "         'C13H12BrF3N4OS': 2,\n",
       "         'C15H15F2NS': 14,\n",
       "         'C14H20N2S': 103,\n",
       "         'C16H12O7': 12,\n",
       "         'C18H19Cl2NO2': 42,\n",
       "         'C10H15N5S': 58,\n",
       "         'C22H25NO5S': 51,\n",
       "         'C59H108O6': 6,\n",
       "         'C16H23NO3': 780,\n",
       "         'C18H14Cl2N4O': 28,\n",
       "         'C21H29N5O': 207,\n",
       "         'C13H14O2': 125,\n",
       "         'C13H19N3O4': 192,\n",
       "         'C9H7BrClN3S': 8,\n",
       "         'C12H12O2S': 43,\n",
       "         'C29H24N4O4S': 9,\n",
       "         'C38H42N4O9': 1,\n",
       "         'C39H25N5': 13,\n",
       "         'C31H40FNO4': 2,\n",
       "         'C15H32N2': 300,\n",
       "         'C15H25N3O2S2': 13,\n",
       "         'C13H20N2O6': 19,\n",
       "         'C19H26O2': 76,\n",
       "         'C19H27N3O2': 511,\n",
       "         'C7H6BrF3N2O2': 7,\n",
       "         'C10H15Cl2N3O2': 2,\n",
       "         'C29H28N2O4S2': 5,\n",
       "         'C15H25N3OS': 142,\n",
       "         'C16H30N2O11': 1,\n",
       "         'C15H28OS': 6,\n",
       "         'C17H32N2O': 238,\n",
       "         'C16H25NO3': 599,\n",
       "         'C24H43N5O2': 9,\n",
       "         'C17H26N2O3': 493,\n",
       "         'C14H23N3O2': 685,\n",
       "         'C5H18O2P2Si2': 1,\n",
       "         'C22H23N3O2S': 178,\n",
       "         'C16H12ClF2N3O2': 4,\n",
       "         'C21H29N3O2': 265,\n",
       "         'C14H18N2O4S': 214,\n",
       "         'C17H18N4OS': 119,\n",
       "         'C23H25FN8O2': 6,\n",
       "         'C20H14FN3O2S': 14,\n",
       "         'C13H18N2O2': 845,\n",
       "         'C17H13N5O2S': 20,\n",
       "         'C24H29N3O2S2': 21,\n",
       "         'C10H14BrN5S': 3,\n",
       "         'C18H29N5O': 113,\n",
       "         'C16H26N2': 521,\n",
       "         'C22H19F2N5O3S': 5,\n",
       "         'C24H27N7O3S': 16,\n",
       "         'C21H24N4O7': 7,\n",
       "         'C21H24N4O5S2': 25,\n",
       "         'C21H16F6N4O3': 1,\n",
       "         'C12H12ClNOS': 38,\n",
       "         'C18H24N2O': 499,\n",
       "         'C25H29N3O5S': 70,\n",
       "         'C22H23ClN4O3': 66,\n",
       "         'C23H20ClN3O2': 32,\n",
       "         'C15H23BrN2O': 156,\n",
       "         'C12H13NO6': 18,\n",
       "         'C14H16F3N3O2': 31,\n",
       "         'C10H12N2O3S': 87,\n",
       "         'C24H34N4O2': 96,\n",
       "         'C22H20F3N5O2': 19,\n",
       "         'C24H54N2O3Si': 1,\n",
       "         'C15H20FNO3': 129,\n",
       "         'C14H16FN3S': 24,\n",
       "         'C10H13N3O': 283,\n",
       "         'C13H22N2O3': 459,\n",
       "         'C30H30N4O': 10,\n",
       "         'C14H11ClN2O3S': 24,\n",
       "         'C14H18N4O2': 534,\n",
       "         'C13H18N4O2': 351,\n",
       "         'C16H26N2O4': 80,\n",
       "         'C27H26Cl2N4O2': 10,\n",
       "         'C12H13FN2': 42,\n",
       "         'C20H16Cl2N2O2': 34,\n",
       "         'C19H23N3O6S2': 11,\n",
       "         'C25H25N5O3S': 64,\n",
       "         'C11H14N2O2': 370,\n",
       "         'C15H19BrN2O': 87,\n",
       "         'C23H29N3O6': 22,\n",
       "         'C35H47ClN6O2': 1,\n",
       "         'C10H13F2N3OS': 3,\n",
       "         'C16H16Cl2N2O3': 24,\n",
       "         'C17H14N4': 42,\n",
       "         'C27H28N4O2S': 52,\n",
       "         'C18H28N4O': 164,\n",
       "         'C25H30N4O3': 182,\n",
       "         'C20H19NO3': 163,\n",
       "         'C7H15O3P': 3,\n",
       "         'C16H14F5N5O2': 1,\n",
       "         'C8H10F3NS': 3,\n",
       "         'C30H33ClFN7O3': 1,\n",
       "         'C28H30Cl2FN5O2': 3,\n",
       "         'C17H20N2O3': 413,\n",
       "         'C15H16N4O5S': 21,\n",
       "         'C16H23NO3S': 227,\n",
       "         'C15H16N3O4P': 1,\n",
       "         'C15H23N3O5S': 30,\n",
       "         'C22H31NO3': 51,\n",
       "         'C14H12ClFN4O': 6,\n",
       "         'C20H16Cl2F3NO': 1,\n",
       "         'C15H18O3': 155,\n",
       "         'C23H20N2O3S3': 3,\n",
       "         'C72H139NO5': 24,\n",
       "         'C17H16FN5O': 33,\n",
       "         'C10H14FN': 23,\n",
       "         'C16H26N4O': 464,\n",
       "         'C21H32N4O2': 199,\n",
       "         'C14H20N4O': 489,\n",
       "         'C25H28N4O2S': 69,\n",
       "         'C19H33NO5': 14,\n",
       "         'C16H24FN3O': 104,\n",
       "         'C11H19N3O': 526,\n",
       "         'C20H31N3O': 113,\n",
       "         'C18H25N3': 312,\n",
       "         'C22H21N3O3': 267,\n",
       "         'C17H20O4': 85,\n",
       "         'C10H14O4': 118,\n",
       "         'C11H11ClO2': 60,\n",
       "         'C21H21NO4S2': 26,\n",
       "         'C17H20N4O3S': 143,\n",
       "         'C13H17F3NO4P': 1,\n",
       "         'C17H16FNO2': 82,\n",
       "         'C12H15N3O': 450,\n",
       "         'C23H22Cl2N2O3S': 29,\n",
       "         'C20H18N4O2S': 140,\n",
       "         'C15H24N4OS': 118,\n",
       "         'C13H19NO4S': 167,\n",
       "         'C13H19NO': 577,\n",
       "         'C22H18F2N4O2': 14,\n",
       "         'C19H28N4O3S': 68,\n",
       "         'C25H31N5O4S3': 4,\n",
       "         'C25H22N2O6S': 21,\n",
       "         'C22H18Cl2F3N3O3': 3,\n",
       "         'C27H29ClN2O5S': 8,\n",
       "         'C22H26N4O3S': 163,\n",
       "         'C19H24N2O2': 395,\n",
       "         'C10H11FN2O2': 31,\n",
       "         'C31H31ClN4O3S': 8,\n",
       "         'C13H15N5OS2': 10,\n",
       "         'C26H28N4O5S2': 6,\n",
       "         'C15H23N5O2': 141,\n",
       "         'C8H12N4O': 112,\n",
       "         'C27H24O8': 14,\n",
       "         'C10H17NO3': 260,\n",
       "         'C19H24N4O': 375,\n",
       "         'C14H19BrClN': 29,\n",
       "         'C21H20FN3O3': 98,\n",
       "         'C12H14Br2O': 12,\n",
       "         'C11H16ClNS': 45,\n",
       "         'C9H17N3S2': 12,\n",
       "         'C18H17NO2': 182,\n",
       "         'C13H25N': 90,\n",
       "         'C15H18N2O': 518,\n",
       "         'C17H21ClN4O2S': 33,\n",
       "         'C20H16N2O4S': 46,\n",
       "         'C10H14O': 77,\n",
       "         'C18H20ClN5O': 40,\n",
       "         'C21H24N4O2': 361,\n",
       "         'C12H17ClN2O': 190,\n",
       "         'C14H23NO2S': 160,\n",
       "         'C28H28N2O4S': 33,\n",
       "         'C23H22N4O3': 152,\n",
       "         'C12H8BrCl2NO': 11,\n",
       "         'C19H17ClF2N2O5S': 2,\n",
       "         'C23H26N4O2': 362,\n",
       "         'C8H7ClN2OS2': 2,\n",
       "         'C12H19N3O3': 353,\n",
       "         'C22H29N3O3': 337,\n",
       "         'C18H35NO': 78,\n",
       "         'C19H22FN': 30,\n",
       "         'C17H21N7O2': 35,\n",
       "         'C17H21NO3': 451,\n",
       "         'C10H9FN2OS': 17,\n",
       "         'C15H17ClN2O5S': 13,\n",
       "         'C19H19NO4S': 80,\n",
       "         'C12H20N4O': 588,\n",
       "         'C12H12ClNO3': 59,\n",
       "         'C20H23FN2OS': 19,\n",
       "         'C14H15N3O4': 154,\n",
       "         'C20H32N8O3': 2,\n",
       "         'C17H18BrClFNO2': 1,\n",
       "         'C15H17N3': 130,\n",
       "         'C22H22N6O4': 17,\n",
       "         'C23H32N4O': 111,\n",
       "         'C12H17N3O3S': 196,\n",
       "         'C21H21ClFN5O': 10,\n",
       "         'C11H21N5O2S': 38,\n",
       "         'C26H29F3N4O3': 4,\n",
       "         'C24H30ClN3O2': 32,\n",
       "         'C16H12F3N': 4,\n",
       "         'C19H17BrN4O4S': 1,\n",
       "         'C14H22N4O3': 239,\n",
       "         'C13H17N3O3S2': 61,\n",
       "         'C21H18O8': 7,\n",
       "         'C16H26N2O': 1014,\n",
       "         'C24H22N2O3': 159,\n",
       "         'C18H20N2O': 336,\n",
       "         'C18H14O2S3': 1,\n",
       "         'C14H15BrN2O': 119,\n",
       "         'C11H18O': 116,\n",
       "         'C12H13N3': 116,\n",
       "         'C16H19N3O3': 419,\n",
       "         'C21H18ClN3O3': 82,\n",
       "         'C25H35NO6S': 5,\n",
       "         'C13H23N3OS': 165,\n",
       "         'C16H24FN3O2': 38,\n",
       "         'C19H22ClN7O4': 1,\n",
       "         'C22H18Cl2N2O2S': 14,\n",
       "         'C16H16ClN5O2': 34,\n",
       "         'C13H17N3O': 646,\n",
       "         'C23H23N3O5S': 78,\n",
       "         'C15H19NO3': 557,\n",
       "         'C11H16FNO2': 62,\n",
       "         'C18H25F2N3O3': 14,\n",
       "         'C12H17FN2O': 139,\n",
       "         'C21H30N6O4': 9,\n",
       "         'C13H14F2N2O2': 41,\n",
       "         'C9H14O4': 123,\n",
       "         'C11H12N2O2': 283,\n",
       "         'C21H24F3N3O3S': 17,\n",
       "         'C22H17ClF3N3O4S': 3,\n",
       "         'C22H26N2O2S': 90,\n",
       "         'C44H53N3O8': 1,\n",
       "         'C12H12O9': 1,\n",
       "         'C20H15FN2O5': 3,\n",
       "         'C7H13ClO3': 4,\n",
       "         'C17H18Cl2N2O4S': 19,\n",
       "         'C11H16ClN3O2': 74,\n",
       "         'C14H17NO3': 422,\n",
       "         'C12H17NS': 87,\n",
       "         'C14H19BrN2O3': 137,\n",
       "         'C20H17ClN6': 11,\n",
       "         'C16H25NO2': 790,\n",
       "         'C18H26N4O': 215,\n",
       "         'C29H31N3O4S2': 7,\n",
       "         'C15H25NO3': 315,\n",
       "         'C22H43N3': 5,\n",
       "         'C13H15BrClNO': 23,\n",
       "         'C11H13N3O3': 135,\n",
       "         'C12H9Br2NO2S': 5,\n",
       "         'C11H10BrClN2OS': 4,\n",
       "         'C15H21FN2O2': 254,\n",
       "         'C9H21NSi': 10,\n",
       "         'C18H12N2': 17,\n",
       "         'C22H30ClN3O5S': 2,\n",
       "         'C15H18BrN3O': 122,\n",
       "         'C26H32N2O': 21,\n",
       "         'C12H19F3N4': 29,\n",
       "         'C25H29N5OS': 34,\n",
       "         'C19H25N3O4S': 172,\n",
       "         'C33H30BrClN2O7S': 3,\n",
       "         'C12H22N2O4': 282,\n",
       "         'C14H18BNO3': 8,\n",
       "         'C24H22FN7O': 5,\n",
       "         'C11H15N3O2': 359,\n",
       "         'C19H19F2NO4S': 21,\n",
       "         'C17H28N2O': 751,\n",
       "         'C11H15NO': 293,\n",
       "         'C31H35F2N5O3': 2,\n",
       "         'C11H16BrNO2': 71,\n",
       "         'C14H25N3S': 178,\n",
       "         'C18H28N2O11': 2,\n",
       "         'C26H27FN2O2': 13,\n",
       "         'C19H21N3OS': 150,\n",
       "         'C13H24N4': 308,\n",
       "         'C21H26N2O2S': 168,\n",
       "         'C27H32N2O5': 70,\n",
       "         'C48H96N4O5': 1,\n",
       "         'C21H19Cl2N3O3S2': 4,\n",
       "         'C14H17NO4': 377,\n",
       "         'C14H18N2O3': 810,\n",
       "         'C21H25N5OS': 102,\n",
       "         'C27H20F6N6O5S2': 1,\n",
       "         'C32H39N3O6S': 28,\n",
       "         'C17H25FN2O3S': 19,\n",
       "         'C11H17N3O': 515,\n",
       "         'C15H12N2O': 82,\n",
       "         'C12H17BrO2': 36,\n",
       "         'C14H14N4O3S': 43,\n",
       "         'C22H21N5O3S': 76,\n",
       "         'C13H18N4': 332,\n",
       "         'C10H13N3OS2': 21,\n",
       "         'C17H19N': 77,\n",
       "         'C12H9FN2O2S': 10,\n",
       "         'C27H30N2O6': 41,\n",
       "         'C20H24N2O3S': 328,\n",
       "         'C19H24N2O5S2': 28,\n",
       "         'C18H21ClN2O5': 10,\n",
       "         'C18H27N3O2S': 174,\n",
       "         'C21H24F2N2O': 16,\n",
       "         'C18H18ClNO4': 90,\n",
       "         'C13H13FN2OS': 55,\n",
       "         'C35H62O14S4': 1,\n",
       "         'C14H16O3': 185,\n",
       "         'C14H19FN2O2': 256,\n",
       "         'C16H26N2O3': 502,\n",
       "         'C26H29FN2O4S': 12,\n",
       "         'C9H18N4O5': 1,\n",
       "         'C36H39F4N3O3S2': 1,\n",
       "         'C12H22N2O': 438,\n",
       "         'C19H21N3O3S': 241,\n",
       "         'C17H17ClN2O4S': 44,\n",
       "         'C23H29FN6O4': 2,\n",
       "         'C13H14N4': 75,\n",
       "         'C16H15N5O3': 58,\n",
       "         'C20H22F3N3O5S': 8,\n",
       "         'C10H14N2O4': 102,\n",
       "         'C14H18N4O': 585,\n",
       "         'C19H33NO': 95,\n",
       "         'C26H36N2O5S': 17,\n",
       "         'C25H29N3O6S': 42,\n",
       "         'C20H25ClN8O': 3,\n",
       "         'C25H31N3O': 47,\n",
       "         'C11H15ClN2': 92,\n",
       "         'C18H29N3O3S': 148,\n",
       "         'C26H26N2O6S': 46,\n",
       "         'C17H19NO': 228,\n",
       "         'C13H25N5O': 81,\n",
       "         'C22H28N6O2': 82,\n",
       "         'C25H32N6O': 50,\n",
       "         'C14H23F3N2O2': 22,\n",
       "         'C12H13N3O2S': 206,\n",
       "         'C13H13ClN2O2': 135,\n",
       "         'C12H19BrN4O2': 10,\n",
       "         'C15H19N3O2S': 497,\n",
       "         'C16H16N2O4': 176,\n",
       "         'C18H22N6O': 150,\n",
       "         'C20H23N5O': 254,\n",
       "         'C11H22N2O3': 305,\n",
       "         'C12H15ClN2O2': 185,\n",
       "         'C33H37N3O6': 9,\n",
       "         'C21H16N2O5S': 16,\n",
       "         'C18H30N2O3': 135,\n",
       "         'C14H11BrF3NO3': 3,\n",
       "         'C19H16BrN3O4': 15,\n",
       "         'C22H25ClN4OS': 19,\n",
       "         'C20H18ClN3O2': 99,\n",
       "         'C16H22OS2': 5,\n",
       "         'C17H17BrClN': 14,\n",
       "         'C24H34O5S': 9,\n",
       "         'C18H31NO': 191,\n",
       "         'C26H24N6OS': 14,\n",
       "         'C12H11F3N2O': 44,\n",
       "         'C21H17FN4O3': 28,\n",
       "         'C23H22N4O2': 148,\n",
       "         'C15H21NO4': 544,\n",
       "         'C15H19BrN2O3': 96,\n",
       "         'C15H21NO2': 805,\n",
       "         'C13H21N3O2S': 351,\n",
       "         'C27H35NO8': 4,\n",
       "         'C22H24ClN3O3': 82,\n",
       "         'C31H37Cl2NO6S': 1,\n",
       "         'C18H14O2': 43,\n",
       "         'C21H16FNO5': 3,\n",
       "         'C18H21FN2': 53,\n",
       "         'C17H17N3': 143,\n",
       "         'C18H34O5': 31,\n",
       "         'C20H21ClFN3O2': 18,\n",
       "         'C21H26N2O4': 353,\n",
       "         'C14H27N3O3S': 95,\n",
       "         'C28H24ClFN2O4S2': 1,\n",
       "         'C38H41FN2O10': 1,\n",
       "         'C15H29N5O': 60,\n",
       "         'C12H13BrN2O2S': 34,\n",
       "         'C15H15NO8S3': 1,\n",
       "         'C20H28FN3O': 16,\n",
       "         'C21H31N3O2': 253,\n",
       "         'C15H19FN2O': 116,\n",
       "         'C13H23N5O': 287,\n",
       "         'C30H54O10S': 1,\n",
       "         'C16H15NO2S': 67,\n",
       "         'C13H9ClN4': 10,\n",
       "         'C30H36BrN3O4S': 35,\n",
       "         'C19H22N4O2': 466,\n",
       "         'C13H16N2O3S': 235,\n",
       "         'C11H17N3O2': 490,\n",
       "         'C12H18N2O2': 710,\n",
       "         'C19H17NO4S': 67,\n",
       "         'C25H32N2O9': 2,\n",
       "         'C11H17ClN2': 74,\n",
       "         'C16H22N2O2S': 288,\n",
       "         'C25H34N2O7': 5,\n",
       "         'C28H29N3O': 23,\n",
       "         'C25H26BrNO6': 2,\n",
       "         'C27H34N6O5S': 1,\n",
       "         'C21H19FN4O': 34,\n",
       "         'C22H28N4O3S': 100,\n",
       "         'C11H14BrNO3': 82,\n",
       "         'C22H42O10S': 2,\n",
       "         'C10H19NO': 111,\n",
       "         'C13H12O3': 77,\n",
       "         'C15H20N4O2': 525,\n",
       "         'C12H22N2OS': 177,\n",
       "         'C14H19F4NO': 12,\n",
       "         'C21H19N3OS': 62,\n",
       "         'C16H12N4O2S': 26,\n",
       "         'C24H27ClN4O2S': 23,\n",
       "         'C12H23N3O5': 20,\n",
       "         'C17H21N3O5S': 73,\n",
       "         'C16H24N4O': 421,\n",
       "         'C31H37F6N3O4': 1,\n",
       "         'C9H10Cl3OP': 1,\n",
       "         'C25H33N3O5': 63,\n",
       "         'C13H15N3OS': 244,\n",
       "         'C20H22N4O3S': 251,\n",
       "         'C19H15F2N3OS': 7,\n",
       "         'C11H16N2O3S': 246,\n",
       "         'C20H24N2O6S': 97,\n",
       "         'C15H22BrN3O': 89,\n",
       "         'C22H24ClN3O5S': 27,\n",
       "         'C23H26N6O2': 112,\n",
       "         'C31H29F2N3O': 1,\n",
       "         'C9H14N4': 135,\n",
       "         'C26H19BrCl5NO2': 2,\n",
       "         'C18H33N5O2': 34,\n",
       "         'C19H30N2O2': 265,\n",
       "         'C30H41N3O7': 9,\n",
       "         'C20H26N4O6S': 13,\n",
       "         'C30H51N3O4': 14,\n",
       "         'C17H20FNO': 163,\n",
       "         'C13H13N5S': 46,\n",
       "         'C11H15N3O5': 40,\n",
       "         'C19H28O': 58,\n",
       "         'C12H23NO5S': 31,\n",
       "         'C12H24N4': 121,\n",
       "         'C14H21N3O3S': 327,\n",
       "         'C15H32N2O': 247,\n",
       "         'C18H17N3O4': 152,\n",
       "         'C21H31N3O3': 259,\n",
       "         'C13H11BrN2O2': 66,\n",
       "         'C15H21IN2O2': 6,\n",
       "         'C22H25N3O2': 402,\n",
       "         'C17H28FN': 18,\n",
       "         'C22H24FN3O2': 89,\n",
       "         'C22H15Cl3N2O4': 4,\n",
       "         'C28H26Cl2N4O': 3,\n",
       "         'C9H12FNO': 39,\n",
       "         'C23H31NO4': 48,\n",
       "         'C9H11BrN2S': 14,\n",
       "         'C12H21N3O3': 217,\n",
       "         'C10H11BrN2O3': 28,\n",
       "         'C16H13N3O7S2': 2,\n",
       "         'C13H20N2OS': 290,\n",
       "         'C14H22N2O4': 221,\n",
       "         'C19H17F2N3O3': 30,\n",
       "         'C20H30FN3O2S': 2,\n",
       "         'C12H10Cl2O': 7,\n",
       "         'C15H25N5O2': 125,\n",
       "         'C21H19N3O5S2': 15,\n",
       "         'C17H14FN3O2S': 36,\n",
       "         'C11H9N3S2': 11,\n",
       "         'C16H22FN3O3': 26,\n",
       "         'C27H33ClO6Si': 1,\n",
       "         'C17H25N3O2': 517,\n",
       "         'C17H19N7O4S': 3,\n",
       "         'C13H10Cl2N2S': 8,\n",
       "         'C16H21FN2O': 113,\n",
       "         'C17H14ClN3O2S': 48,\n",
       "         'C14H15N3OS2': 32,\n",
       "         'C14H23N3O2S': 379,\n",
       "         'C15H19N3O2': 892,\n",
       "         'C20H27N3O2S': 145,\n",
       "         'C23H32N4O5S2': 5,\n",
       "         'C24H26N4O6S': 26,\n",
       "         'C18H21N3O4S': 186,\n",
       "         'C27H29FN6O5S': 2,\n",
       "         'C69H133NO5': 27,\n",
       "         'C18H20ClN3': 18,\n",
       "         'C17H19N3O3': 386,\n",
       "         'C18H18N2O2S2': 61,\n",
       "         'C19H26F3NOS': 2,\n",
       "         'C21H25FN2O3S': 54,\n",
       "         'C25H27N5': 15,\n",
       "         'C19H24N4O4': 186,\n",
       "         'C22H24O2': 25,\n",
       "         'C21H23N3O3S2': 85,\n",
       "         'C17H15N3O5S': 30,\n",
       "         'C18H16ClN3S2': 2,\n",
       "         'C23H35NO4': 18,\n",
       "         'C19H20N4O3S': 216,\n",
       "         'C23H15F2NO3': 3,\n",
       "         'C14H22N4O2': 458,\n",
       "         'C17H19Br2NS': 2,\n",
       "         'C12H17ClN2S2': 4,\n",
       "         'C21H20ClFN4O7S': 2,\n",
       "         'C24H24N2': 33,\n",
       "         'C33H39N5O5S': 7,\n",
       "         'C8H3F5INO2': 7,\n",
       "         'C19H15ClN2O3S': 46,\n",
       "         'C15H21N3': 499,\n",
       "         'C12H12O3S': 60,\n",
       "         'C20H24N2O2': 501,\n",
       "         'C14H26N2O4': 226,\n",
       "         'C19H19NO3': 226,\n",
       "         'C16H21N3O3S': 263,\n",
       "         'C54H90O6': 15,\n",
       "         'C14H12ClFO': 11,\n",
       "         'C28H31N5O3': 54,\n",
       "         'C27H25N3O3': 82,\n",
       "         'C19H18ClN5OS': 26,\n",
       "         'C13H19N3O5': 55,\n",
       "         'C13H25NO2': 372,\n",
       "         'C22H28O2': 39,\n",
       "         'C9H19NO2S': 51,\n",
       "         'C14H15N3O2': 439,\n",
       "         'C14H18O2S': 48,\n",
       "         'C24H34N4O3': 91,\n",
       "         'C15H11BrFN3O': 27,\n",
       "         'C15H22N2O2S': 366,\n",
       "         'C21H31N5O3S': 25,\n",
       "         'C12H19N3': 349,\n",
       "         'C23H23NO': 35,\n",
       "         'C22H16F6N6O4S': 1,\n",
       "         'C18H25N3O2': 539,\n",
       "         'C13H24N2': 159,\n",
       "         'C14H21NO4': 314,\n",
       "         'C24H28ClN3O3': 50,\n",
       "         'C26H40Cl2N4O2': 1,\n",
       "         'C10H13FN2O3S': 21,\n",
       "         'C14H22N6S': 26,\n",
       "         'C29H48O': 20,\n",
       "         'C12H23N5O': 114,\n",
       "         'C13H17BrN2O2': 176,\n",
       "         'C21H20N6O3': 43,\n",
       "         'C31H41N3O7': 12,\n",
       "         'C10H11N3O2': 194,\n",
       "         'C28H26N4O3': 59,\n",
       "         'C25H24ClN3OS': 3,\n",
       "         'C23H20F2N2O3': 11,\n",
       "         'C18H16N2O2': 199,\n",
       "         'C23H23O2P': 6,\n",
       "         'C18H26FN3O2': 68,\n",
       "         'C62H123NO5': 8,\n",
       "         'C17H27N5O3': 107,\n",
       "         'C22H29FN2O2': 21,\n",
       "         'C25H36O': 8,\n",
       "         'C24H25Br2N3O5': 6,\n",
       "         'C23H23ClFNO4S': 1,\n",
       "         'C19H21ClN4O2S': 25,\n",
       "         'C27H32N2O5S': 47,\n",
       "         'C22H37FN2': 1,\n",
       "         'C25H27ClN4O4': 23,\n",
       "         'C12H19N3OS': 252,\n",
       "         'C16H23NO2': 785,\n",
       "         'C12H9BrN4': 21,\n",
       "         'C13H11ClO2S': 16,\n",
       "         'C19H16N2O3': 124,\n",
       "         'C25H30N2O4': 174,\n",
       "         'C19H18O6': 45,\n",
       "         'C25H20F3NO': 3,\n",
       "         'C20H20N4O3S': 189,\n",
       "         'C25H19F3N2O5': 5,\n",
       "         'C23H22N4O7': 4,\n",
       "         'C26H34N4O3S': 34,\n",
       "         'C16H25N3O': 852,\n",
       "         'C19H18N2O6': 48,\n",
       "         'C13H19N3O2': 741,\n",
       "         'C13H16N4O2': 444,\n",
       "         'C31H32N6O4S': 5,\n",
       "         'C27H27ClN2O6': 11,\n",
       "         'C24H27N5O3S': 75,\n",
       "         'C21H26N2O2': 434,\n",
       "         'C20H17Cl2N3O3': 20,\n",
       "         'C19H22N4O3S': 148,\n",
       "         'C25H30N2O2': 94,\n",
       "         'C17H24N2O2': 854,\n",
       "         'C14H15ClN2S2': 8,\n",
       "         'C18H14N6O3': 10,\n",
       "         'C13H25N5': 124,\n",
       "         'C9H16F3NO3': 8,\n",
       "         'C20H25NO6': 47,\n",
       "         'C17H25N3O': 694,\n",
       "         'C17H16N4O2S': 145,\n",
       "         'C11H16N2O3': 341,\n",
       "         'C12H9Cl3F2O2S': 1,\n",
       "         'C27H29N3O2': 124,\n",
       "         'C20H28ClN7O3S': 1,\n",
       "         'C14H17ClO4': 38,\n",
       "         'C13H19BrN2S': 30,\n",
       "         'C18H24FN3O2': 87,\n",
       "         'C16H22F3NO2': 15,\n",
       "         'C17H22N2O3': 412,\n",
       "         'C11H9F2N3O3S': 4,\n",
       "         'C22H11Cl4N3O3': 1,\n",
       "         'C22H30N4O7': 17,\n",
       "         'C15H23F2NO': 45,\n",
       "         'C15H17N3O3': 508,\n",
       "         'C16H21BrN4O': 16,\n",
       "         'C19H23N5O5S': 12,\n",
       "         'C13H16N4O': 416,\n",
       "         'C27H24F2N2O': 3,\n",
       "         'C13H16F3NO4S': 17,\n",
       "         'C23H36O4': 41,\n",
       "         'C18H20N4O3': 325,\n",
       "         'C23H37NO2': 17,\n",
       "         'C12H8ClN3': 18,\n",
       "         'C33H35NO5': 13,\n",
       "         'C27H49NO4': 2,\n",
       "         'C15H17NO3': 397,\n",
       "         'C15H21N5O5': 8,\n",
       "         'C18H17FN2O3': 79,\n",
       "         'C21H16N6O4S2': 1,\n",
       "         'C18H19NO4S': 125,\n",
       "         'C23H24N4O4': 136,\n",
       "         'C22H21N3O3S': 136,\n",
       "         'C22H16BrClFN3O3': 2,\n",
       "         'C20H25N3O4S': 175,\n",
       "         'C18H17ClN2O5S': 18,\n",
       "         'C13H17ClN4OS': 24,\n",
       "         'C4H3NO5S2': 1,\n",
       "         'C18H20ClNO': 89,\n",
       "         'C14H16FNO3S': 22,\n",
       "         'C23H28F3N3O3S': 9,\n",
       "         'C11H13ClN2O2': 108,\n",
       "         'C22H31N3O2': 205,\n",
       "         'C11H17BrN2O': 66,\n",
       "         'C26H35FN2O2S': 2,\n",
       "         'C21H23Cl2IN2O2': 1,\n",
       "         'C14H14N2OS': 128,\n",
       "         'C21H21ClN6O': 19,\n",
       "         'C16H24N4O2': 305,\n",
       "         'C17H16F3N3OS': 9,\n",
       "         'C13H25N3O': 468,\n",
       "         'C22H23NO4': 200,\n",
       "         'C25H27F2N7O2': 7,\n",
       "         'C19H18FNO3': 55,\n",
       "         'C35H62O': 3,\n",
       "         'C13H20N2O2': 909,\n",
       "         'C10H17N3O': 430,\n",
       "         'C19H19F3N4O': 25,\n",
       "         'C17H28N2': 467,\n",
       "         'C17H15N3O3': 172,\n",
       "         'C21H24N4O3S': 205,\n",
       "         'C15H13BrO3S2': 2,\n",
       "         'C23H32N2O5': 50,\n",
       "         'C19H19Cl3N2O3S2': 2,\n",
       "         'C17H18N2O2': 436,\n",
       "         'C13H29O2Si': 2,\n",
       "         'C26H20N6O3': 3,\n",
       "         'C15H13N3OS2': 30,\n",
       "         'C13H18O2': 287,\n",
       "         'C15H24N2O': 1012,\n",
       "         'C23H20FN5O5S': 6,\n",
       "         'C21H26N2O3': 568,\n",
       "         'C28H23N3O2': 16,\n",
       "         'C18H26N6O': 186,\n",
       "         'C39H36N2O7S': 1,\n",
       "         'C16H18N2O2': 671,\n",
       "         'C18H26FN': 13,\n",
       "         'C12H19N5O2': 148,\n",
       "         'C26H35N3O5': 45,\n",
       "         'C15H18N2O3S': 355,\n",
       "         'C9H11NO3': 132,\n",
       "         'C21H26N5O6PS2': 1,\n",
       "         'C18H26N2O6': 32,\n",
       "         'C24H26FN3O2': 43,\n",
       "         'C15H24N2OS': 218,\n",
       "         'C12H13N3O2': 374,\n",
       "         'C32H34FN5O4': 5,\n",
       "         'C18H17FN4O4': 7,\n",
       "         'C29H27N3O4': 32,\n",
       "         'C30H22Cl4N2O4S': 2,\n",
       "         'C18H25FN2': 9,\n",
       "         'C19H13FN2': 4,\n",
       "         'C21H22N6OS': 35,\n",
       "         'C12H19N5O': 183,\n",
       "         'C14H11Cl2NOS': 12,\n",
       "         'C19H27NO': 117,\n",
       "         'C11H12ClN3S2': 12,\n",
       "         'C15H12O4': 58,\n",
       "         'C21H22N6O2S3': 3,\n",
       "         'C30H60O4': 2,\n",
       "         'C11H15NO4': 180,\n",
       "         'C31H42N4O4': 14,\n",
       "         'C25H21ClN2O3': 45,\n",
       "         'C26H21F3N4O5S2': 2,\n",
       "         'C18H22ClN5O2': 36,\n",
       "         'C28H19FN2O5S': 1,\n",
       "         'C20H18ClN3O': 59,\n",
       "         'C7H10N2O2S': 77,\n",
       "         'C24H50OSi': 2,\n",
       "         'C15H22O': 191,\n",
       "         'C21H17N3O3S': 89,\n",
       "         'C24H26N4O2': 205,\n",
       "         'C16H12FN3O': 43,\n",
       "         'C19H27NO4': 165,\n",
       "         'C15H20ClN3O': 148,\n",
       "         'C31H32N2O3': 16,\n",
       "         'C14H27NS': 35,\n",
       "         'C19H17N': 25,\n",
       "         'C10H18O7S2': 2,\n",
       "         'C23H27FN2O2': 54,\n",
       "         'C29H29Br2NO2': 1,\n",
       "         'C11H15NO2': 396,\n",
       "         'C19H25NO3': 218,\n",
       "         'C18H25ClFN3O': 2,\n",
       "         'C15H20ClFN4': 8,\n",
       "         'C18H14F3N3O2S': 26,\n",
       "         'C18H18N6O2S2': 7,\n",
       "         'C21H27N3O3S2': 31,\n",
       "         'C15H26N4O2S': 62,\n",
       "         'C22H26FN3O2': 94,\n",
       "         'C13H19N3OS': 237,\n",
       "         'C18H29N3': 218,\n",
       "         'C25H16N2O4': 7,\n",
       "         'C9H15N3O': 294,\n",
       "         'C22H21ClN2O3': 63,\n",
       "         'C19H21NO9S2': 2,\n",
       "         'C22H26N4O4S3': 4,\n",
       "         'C12H12N6O': 44,\n",
       "         'C15H17FN2S': 28,\n",
       "         'C32H35FN4O2': 2,\n",
       "         'C24H24N2O2': 145,\n",
       "         'C24H18ClN3O4S': 16,\n",
       "         'C17H23N3O': 719,\n",
       "         'C10H7F13O': 2,\n",
       "         'C15H23ClN2O3': 32,\n",
       "         'C20H28N4O': 276,\n",
       "         'C19H19F3N2O2': 63,\n",
       "         'C24H26ClNO4': 16,\n",
       "         'C16H16N4O2': 169,\n",
       "         'C17H14N2O2': 169,\n",
       "         'C15H18ClNOS': 42,\n",
       "         'C7H9BrN6S': 1,\n",
       "         'C16H20FN3O2': 82,\n",
       "         'C15H28N4OS': 27,\n",
       "         'C12H20N2OS': 225,\n",
       "         'C13H12O3S2': 7,\n",
       "         'C23H27N3O2': 327,\n",
       "         'C17H22N6S': 15,\n",
       "         'C15H13N3O3S': 61,\n",
       "         'C17H27NO4': 85,\n",
       "         'C25H18Br3Cl2N3O2': 2,\n",
       "         'C16H21ClF3NO': 2,\n",
       "         'C17H20N2O4S': 271,\n",
       "         'C28H30ClF2N7O3': 1,\n",
       "         'C13H20N2O3': 535,\n",
       "         'C17H8Cl2F6N2O': 1,\n",
       "         'C17H24N4O2': 405,\n",
       "         'C28H33N5O2': 38,\n",
       "         'C21H27NO3': 221,\n",
       "         'C29H31N5O2S': 15,\n",
       "         'C19H14N4O2S': 29,\n",
       "         'C13H13FN2S': 32,\n",
       "         'C14H16Cl2N2OS': 8,\n",
       "         'C25H30N2O8': 4,\n",
       "         'C29H24ClF2N3O4': 1,\n",
       "         'C30H35FN2O7': 2,\n",
       "         'C22H46O4S': 9,\n",
       "         'C19H22N4O': 256,\n",
       "         'C20H13F2N3O3': 1,\n",
       "         'C23H19NO4': 58,\n",
       "         'C14H9Br2F3N2O': 1,\n",
       "         'C17H25FN2O3': 64,\n",
       "         'C28H33N5O3S': 16,\n",
       "         'C14H18F3N3O3': 27,\n",
       "         'C17H20N4O2': 406,\n",
       "         'C11H12N2O3': 217,\n",
       "         'C15H14ClNO': 45,\n",
       "         'C14H13N3O2S': 106,\n",
       "         'C13H20Cl2N2O2': 2,\n",
       "         'C7H4F3N3': 5,\n",
       "         'C18H20N2O3S': 301,\n",
       "         'C21H18N6O2S': 22,\n",
       "         'C17H32N2O2': 217,\n",
       "         'C20H16O7': 14,\n",
       "         'C16H16BrNO3': 95,\n",
       "         'C32H29BrCl2N4O2': 1,\n",
       "         'C21H21ClN4O4S': 37,\n",
       "         'C20H25N3O5S': 112,\n",
       "         'C10H7F3N2O': 14,\n",
       "         'C24H22Cl2N2O2': 16,\n",
       "         'C11H14F2N2O': 62,\n",
       "         'C16H16N2O3': 373,\n",
       "         'C13H19ClO': 28,\n",
       "         'C15H23ClN2O': 202,\n",
       "         'C32H47N5O2': 4,\n",
       "         'C17H21NO5': 137,\n",
       "         'C16H16N2O2': 365,\n",
       "         'C15H19NO5': 238,\n",
       "         'C21H23N7O2': 37,\n",
       "         'C14H19N3O3': 468,\n",
       "         'C13H8F3N3': 20,\n",
       "         'C13H10IN3O': 5,\n",
       "         'C25H23N3O4S': 74,\n",
       "         'C16H20N2O3': 724,\n",
       "         'C16H23N3O2': 875,\n",
       "         'C18H26O2S4': 1,\n",
       "         'C17H21N3O2': 517,\n",
       "         'C20H24N6O5S': 8,\n",
       "         'C24H20FN3O4S2': 7,\n",
       "         'C26H26O3': 14,\n",
       "         'C29H26O4': 9,\n",
       "         'C14H21F3N4O': 17,\n",
       "         'C16H18N2O4': 259,\n",
       "         'C18H27N3O2': 528,\n",
       "         'C13H23N3O4S': 85,\n",
       "         'C12H18N4O': 379,\n",
       "         'C19H19N3O': 194,\n",
       "         'C26H29N5O3': 89,\n",
       "         'C31H29F2N5O5': 2,\n",
       "         'C10H18FNO4Si': 1,\n",
       "         'C12H19NO4S': 69,\n",
       "         'C29H25F5N4O4': 1,\n",
       "         'C27H27N3O4S': 52,\n",
       "         'C14H24N2S': 180,\n",
       "         'C9H15BrO4S': 1,\n",
       "         'C17H22N2': 239,\n",
       "         'C8H11N3O2S': 50,\n",
       "         'C21H17NO2S': 13,\n",
       "         'C21H28ClN5O2': 5,\n",
       "         'C14H18FNO2': 185,\n",
       "         'C10H17N3O2': 321,\n",
       "         'C10H10N2OS': 69,\n",
       "         'C18H19ClO2': 32,\n",
       "         'C11H8Br2N4S': 1,\n",
       "         'C29H47N3O6': 8,\n",
       "         'C11H12F3N5OS': 6,\n",
       "         'C8H8N6O2S3': 1,\n",
       "         'C14H21BrN2O': 204,\n",
       "         'C14H17N3O2': 792,\n",
       "         'C14H15N5OS': 71,\n",
       "         'C16H19N3O2': 736,\n",
       "         'C38H53NO9': 1,\n",
       "         'C24H30Cl2N2O3S': 8,\n",
       "         'C17H23NO5': 167,\n",
       "         'C12H26N2O2': 217,\n",
       "         'C26H31N3O7': 18,\n",
       "         'C20H37N3O2': 23,\n",
       "         'C23H42N10O5': 2,\n",
       "         'C9H8ClF2NO2': 25,\n",
       "         'C18H18ClNO3': 95,\n",
       "         'C28H29N5O3': 56,\n",
       "         'C18H25N7O2': 36,\n",
       "         'C20H36O3': 25,\n",
       "         'C30H30N2O3S': 20,\n",
       "         'C20H26N2O4S2': 51,\n",
       "         'C28H37ClN2O4': 6,\n",
       "         'C15H24N2O2': 1040,\n",
       "         'C39H40F2N2O4': 1,\n",
       "         'C10H7FN2O2': 12,\n",
       "         'C9H16N2O5S': 29,\n",
       "         'C25H34N2O3S': 37,\n",
       "         'C14H18O5Si': 1,\n",
       "         'C20H23N3O2': 416,\n",
       "         'C12H10N4S': 36,\n",
       "         'C11H21N3O2': 266,\n",
       "         'C19H17F2NO5S': 6,\n",
       "         'C13H18Cl2N2': 52,\n",
       "         'C21H23N3O2S': 240,\n",
       "         'C23H24ClN3O': 24,\n",
       "         'C18H16F2N2O3': 36,\n",
       "         'C16H21NO2': 456,\n",
       "         'C15H21N3OS': 242,\n",
       "         'C18H17NO2S': 48,\n",
       "         'C19H24N2O3': 481,\n",
       "         'C23H23N5O3S': 66,\n",
       "         'C14H18BrNO2': 199,\n",
       "         'C28H45N3O4': 16,\n",
       "         'C22H21Cl2N5O4S': 4,\n",
       "         'C14H19Cl2N5': 9,\n",
       "         'C36H22N4': 14,\n",
       "         'C20H22N4O2': 385,\n",
       "         'C20H21ClN2O2': 101,\n",
       "         'C11H16BrNO3S': 30,\n",
       "         'C11H14O': 117,\n",
       "         'C33H35N7O4S2': 1,\n",
       "         'C15H26N2O2': 469,\n",
       "         'C25H36N4O3': 72,\n",
       "         'C9H13N5O': 81,\n",
       "         'C20H25FN4O3S': 22,\n",
       "         'C15H15F3N4O3S': 6,\n",
       "         'C12H19NO3S': 146,\n",
       "         'C24H29ClFN5O': 5,\n",
       "         'C15H17NO3S': 167,\n",
       "         'C28H37N3O3': 58,\n",
       "         'C11H19N3': 347,\n",
       "         'C17H13ClFNO5': 6,\n",
       "         'C17H17N3O3S': 202,\n",
       "         'C10H9NO4': 78,\n",
       "         'C9H11FO2': 14,\n",
       "         'C23H24N2O6': 69,\n",
       "         'C16H26N2O2S': 372,\n",
       "         'C16H21BrN2O': 81,\n",
       "         'C12H16O6S': 15,\n",
       "         'C20H23F3N2O2': 23,\n",
       "         'C18H20N4O4': 124,\n",
       "         'C20H17FN4O2S': 19,\n",
       "         'C30H46O4': 15,\n",
       "         'C18H17N5O2S': 69,\n",
       "         'C19H19ClN2': 12,\n",
       "         'C17H23FN2O4S': 17,\n",
       "         'C14H17FN2O2': 154,\n",
       "         'C17H17F3N4O2S': 10,\n",
       "         'C27H25F3N4O': 6,\n",
       "         'C10H12Cl2N2O2': 24,\n",
       "         'C16H16O3S': 51,\n",
       "         'C15H21F3N2': 69,\n",
       "         'C15H24ClNS': 20,\n",
       "         'C27H32N4O5': 49,\n",
       "         'C22H18ClFN2O4S': 9,\n",
       "         'C13H22N4O3S': 117,\n",
       "         'C27H26N2O5': 104,\n",
       "         'C17H26N2O': 880,\n",
       "         'C21H27NO6': 40,\n",
       "         'C10H20N2O': 211,\n",
       "         'C11H21NO4': 160,\n",
       "         'C25H24N4O2': 91,\n",
       "         'C10H12FNO2S': 26,\n",
       "         'C14H13F3N2O3': 23,\n",
       "         'C27H22ClN3O2': 9,\n",
       "         'C38H32N2O4': 4,\n",
       "         'C16H21N7O2S': 8,\n",
       "         'C15H19N5O': 290,\n",
       "         'C19H21Cl2N3O5S': 6,\n",
       "         'C24H25N3O4': 199,\n",
       "         'C11H12F3N3': 13,\n",
       "         'C13H16O2': 264,\n",
       "         'C16H21FN2O2': 150,\n",
       "         'C21H37N5O2': 28,\n",
       "         'C8H6BrNO3S': 1,\n",
       "         'C16H18FN3O2S3': 1,\n",
       "         'C9H15NO2': 165,\n",
       "         'C30H38N4O4': 30,\n",
       "         'C14H23BrN4': 24,\n",
       "         'C19H20N4O3': 254,\n",
       "         'C19H16ClNO3': 42,\n",
       "         'C13H15N3OS2': 41,\n",
       "         'C9H12BrN3O4S': 3,\n",
       "         'C13H14BrN3O2': 107,\n",
       "         'C10H10N4O2': 101,\n",
       "         'C9H17NO4S': 65,\n",
       "         'C14H29NOS': 30,\n",
       "         'C20H22O3': 72,\n",
       "         'C24H25N5O2': 156,\n",
       "         'C14H14FNO4S': 14,\n",
       "         'C20H19N3O2S': 163,\n",
       "         'C8H8BrFO2': 5,\n",
       "         'C19H21BrFN3O4S': 1,\n",
       "         'C14H19N3O7': 2,\n",
       "         'C13H17ClO2': 85,\n",
       "         'C22H24F2N2O4': 19,\n",
       "         'C14H13BrN2OS': 37,\n",
       "         'C27H20N2O3S2': 1,\n",
       "         'C25H25N5O3S2': 9,\n",
       "         'C25H36N4O3S': 16,\n",
       "         'C23H26ClF2N7O2': 3,\n",
       "         'C16H27ClN4': 24,\n",
       "         'C16H38N4O4': 1,\n",
       "         'C20H16BrN3O': 13,\n",
       "         'C27H21ClN4O3S': 1,\n",
       "         'C13H17IN4O3': 1,\n",
       "         'C21H27N3O7S2': 15,\n",
       "         'C13H24O4': 62,\n",
       "         'C18H21N3O2S': 299,\n",
       "         'C28H27ClN2O3': 15,\n",
       "         'C20H31N3O2': 361,\n",
       "         'C19H20FNO4S': 23,\n",
       "         'C15H17N5O3': 93,\n",
       "         'C16H25N3OS': 154,\n",
       "         'C15H13ClN4O2S': 23,\n",
       "         'C19H33N5O2': 47,\n",
       "         'C12H24N2': 217,\n",
       "         'C14H19NO3': 764,\n",
       "         'C19H24N4O3': 398,\n",
       "         'C12H15BrFN3O2S': 1,\n",
       "         'C22H24N2O5': 222,\n",
       "         'C25H34N2O5S': 36,\n",
       "         'C14H14ClFN2O2S': 41,\n",
       "         'C12H15N5O2': 166,\n",
       "         'C20H37N5O': 25,\n",
       "         'C24H25N7O4S3': 1,\n",
       "         'C16H15Br3FN': 2,\n",
       "         'C30H35Cl2N3O5S': 70,\n",
       "         'C20H24Cl2N2O4S2': 2,\n",
       "         'C25H28N4O2': 171,\n",
       "         'C27H30ClN3O4': 19,\n",
       "         'C26H29FN4O6S': 3,\n",
       "         'C26H52O3': 5,\n",
       "         'C24H28N4O3': 273,\n",
       "         'C34H41N5O4': 7,\n",
       "         'C21H36N4O8S': 1,\n",
       "         'C19H28N6O9': 1,\n",
       "         'C25H27N5O2': 112,\n",
       "         'C9H6Br2O2S': 4,\n",
       "         'C18H26N4O3S': 100,\n",
       "         ...})"
      ]
     },
     "execution_count": 53,
     "metadata": {},
     "output_type": "execute_result"
    }
   ],
   "source": [
    "Counter(names)"
   ]
  },
  {
   "cell_type": "markdown",
   "metadata": {},
   "source": [
    "# Is PIL better than cv2 (in image quality)?"
   ]
  },
  {
   "cell_type": "code",
   "execution_count": 52,
   "metadata": {
    "execution": {
     "iopub.execute_input": "2021-03-28T22:46:11.293110Z",
     "iopub.status.busy": "2021-03-28T22:46:11.292651Z",
     "iopub.status.idle": "2021-03-28T22:46:11.337647Z",
     "shell.execute_reply": "2021-03-28T22:46:11.337030Z",
     "shell.execute_reply.started": "2021-03-28T22:46:11.293056Z"
    },
    "tags": []
   },
   "outputs": [],
   "source": [
    "from preprocessing import *"
   ]
  },
  {
   "cell_type": "code",
   "execution_count": 114,
   "metadata": {
    "execution": {
     "iopub.execute_input": "2021-03-28T22:59:27.560406Z",
     "iopub.status.busy": "2021-03-28T22:59:27.559741Z",
     "iopub.status.idle": "2021-03-28T22:59:27.577148Z",
     "shell.execute_reply": "2021-03-28T22:59:27.576459Z",
     "shell.execute_reply.started": "2021-03-28T22:59:27.560322Z"
    },
    "tags": []
   },
   "outputs": [
    {
     "data": {
      "text/plain": [
       "PosixPath('/home/virk/devs/Projects/MolecularTranslationKaggleCompetition/data/train/9/9/9/99985998fda0.png')"
      ]
     },
     "execution_count": 114,
     "metadata": {},
     "output_type": "execute_result"
    }
   ],
   "source": [
    "imgpath = next(train_imgpaths)\n",
    "imgpath"
   ]
  },
  {
   "cell_type": "code",
   "execution_count": 139,
   "metadata": {
    "execution": {
     "iopub.execute_input": "2021-03-28T23:00:49.392061Z",
     "iopub.status.busy": "2021-03-28T23:00:49.391657Z",
     "iopub.status.idle": "2021-03-28T23:00:49.421651Z",
     "shell.execute_reply": "2021-03-28T23:00:49.421139Z",
     "shell.execute_reply.started": "2021-03-28T23:00:49.392014Z"
    },
    "tags": []
   },
   "outputs": [
    {
     "data": {
      "image/png": "[encoded data removed]",
      "text/plain": [
       "<PIL.Image.Image image mode=L size=256x256 at 0x7F08B76F0FD0>"
      ]
     },
     "execution_count": 139,
     "metadata": {},
     "output_type": "execute_result"
    }
   ],
   "source": [
    "imgpath = next(train_imgpaths)\n",
    "preprocess_image(imgpath)"
   ]
  },
  {
   "cell_type": "code",
   "execution_count": null,
   "metadata": {},
   "outputs": [],
   "source": []
  }
 ],
 "metadata": {
  "kernelspec": {
   "display_name": "Python (pt)",
   "language": "python",
   "name": "pt"
  },
  "language_info": {
   "codemirror_mode": {
    "name": "ipython",
    "version": 3
   },
   "file_extension": ".py",
   "mimetype": "text/x-python",
   "name": "python",
   "nbconvert_exporter": "python",
   "pygments_lexer": "ipython3",
   "version": "3.9.2"
  },
  "widgets": {
   "application/vnd.jupyter.widget-state+json": {
    "state": {},
    "version_major": 2,
    "version_minor": 0
   }
  }
 },
 "nbformat": 4,
 "nbformat_minor": 4
}

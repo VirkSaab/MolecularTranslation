{
 "cells": [
  {
   "cell_type": "code",
   "execution_count": 13,
   "id": "numerous-wagner",
   "metadata": {
    "execution": {
     "iopub.execute_input": "2021-04-05T05:43:31.871638Z",
     "iopub.status.busy": "2021-04-05T05:43:31.871366Z",
     "iopub.status.idle": "2021-04-05T05:43:31.876895Z",
     "shell.execute_reply": "2021-04-05T05:43:31.876198Z",
     "shell.execute_reply.started": "2021-04-05T05:43:31.871606Z"
    },
    "tags": []
   },
   "outputs": [],
   "source": [
    "import torch\n",
    "import numpy as np\n",
    "import pandas as pd\n",
    "from torchvision.transforms import PILToTensor\n",
    "from torch.utils.data import Dataset, DataLoader, random_split\n",
    "from pathlib import Path\n",
    "from PIL import Image\n",
    "import matplotlib.pyplot as plt\n",
    "\n",
    "from preprocessing import preprocess_image\n",
    "\n",
    "\n",
    "# This monkey-patch is there to be able to plot tensors\n",
    "torch.Tensor.ndim = property(lambda x: len(x.shape))"
   ]
  },
  {
   "cell_type": "code",
   "execution_count": 2,
   "id": "false-coordinate",
   "metadata": {
    "execution": {
     "iopub.execute_input": "2021-04-05T05:41:03.403582Z",
     "iopub.status.busy": "2021-04-05T05:41:03.403377Z",
     "iopub.status.idle": "2021-04-05T05:41:03.407040Z",
     "shell.execute_reply": "2021-04-05T05:41:03.406415Z",
     "shell.execute_reply.started": "2021-04-05T05:41:03.403548Z"
    },
    "tags": []
   },
   "outputs": [],
   "source": [
    "INP_SIZE = (128, 128)\n",
    "SAMPLE_SIZE = 10000\n",
    "N_WORKERS = 4\n",
    "BATCH_SIZE = 256\n",
    "\n",
    "DATADIR = Path(\"data\")\n",
    "TENSORED_DATADIR = Path(f'tensored_data_{INP_SIZE[0]}')"
   ]
  },
  {
   "cell_type": "code",
   "execution_count": 54,
   "id": "hybrid-update",
   "metadata": {
    "execution": {
     "iopub.execute_input": "2021-04-05T05:59:52.040686Z",
     "iopub.status.busy": "2021-04-05T05:59:52.040266Z",
     "iopub.status.idle": "2021-04-05T05:59:52.050820Z",
     "shell.execute_reply": "2021-04-05T05:59:52.049785Z",
     "shell.execute_reply.started": "2021-04-05T05:59:52.040634Z"
    },
    "tags": []
   },
   "outputs": [],
   "source": [
    "class RawDataset(Dataset):\n",
    "    def __init__(self, datadir, df=None):\n",
    "        super().__init__()\n",
    "        self.paths = list(Path(datadir).rglob(\"*.*\"))\n",
    "        if df is not None:\n",
    "            self.idtoinchi_dict = {\n",
    "                _id:_inchi for _id, _inchi in\n",
    "                zip(df[\"image_id\"].values.tolist(), df[\"InChI\"].values.tolist())\n",
    "            }\n",
    "        if len(self.paths) == 0:\n",
    "            print(\"No paths found.\")\n",
    "        self.piltotensor = PILToTensor()\n",
    "    \n",
    "    def __len__(self):\n",
    "        return len(self.paths)\n",
    "    \n",
    "    def __getitem__(self, idx):\n",
    "        imgpath = self.paths[idx]\n",
    "        imgid = imgpath.stem\n",
    "        img = preprocess_image(imgpath, out_size=INP_SIZE)\n",
    "        img = torch.from_numpy(np.array(img))\n",
    "        if hasattr(self, \"idtoinchi_dict\"):\n",
    "            target = self.idtoinchi_dict[imgid]\n",
    "            return img, target\n",
    "        return img, \"test_placeholder\""
   ]
  },
  {
   "cell_type": "code",
   "execution_count": 55,
   "id": "local-sigma",
   "metadata": {
    "execution": {
     "iopub.execute_input": "2021-04-05T05:59:55.535190Z",
     "iopub.status.busy": "2021-04-05T05:59:55.535008Z",
     "iopub.status.idle": "2021-04-05T06:00:45.152962Z",
     "shell.execute_reply": "2021-04-05T06:00:45.152516Z",
     "shell.execute_reply.started": "2021-04-05T05:59:55.535169Z"
    },
    "tags": []
   },
   "outputs": [
    {
     "name": "stdout",
     "output_type": "stream",
     "text": [
      "CPU times: user 30.3 s, sys: 2.91 s, total: 33.2 s\n",
      "Wall time: 49.6 s\n"
     ]
    },
    {
     "data": {
      "text/plain": [
       "(2424186, 1616107)"
      ]
     },
     "execution_count": 55,
     "metadata": {},
     "output_type": "execute_result"
    }
   ],
   "source": [
    "%%time\n",
    "\n",
    "df = pd.read_csv(\"data/train_labels.csv\")\n",
    "trainset = RawDataset(DATADIR/\"bms-molecular-translation/train\", df)\n",
    "testset = RawDataset(DATADIR/\"bms-molecular-translation/test\")\n",
    "len(trainset), len(testset)"
   ]
  },
  {
   "cell_type": "code",
   "execution_count": 56,
   "id": "portuguese-massage",
   "metadata": {
    "execution": {
     "iopub.execute_input": "2021-04-05T06:00:53.919444Z",
     "iopub.status.busy": "2021-04-05T06:00:53.919163Z",
     "iopub.status.idle": "2021-04-05T06:00:54.022227Z",
     "shell.execute_reply": "2021-04-05T06:00:54.021546Z",
     "shell.execute_reply.started": "2021-04-05T06:00:53.919410Z"
    },
    "tags": []
   },
   "outputs": [
    {
     "data": {
      "image/png": "[encoded data removed]",
      "text/plain": [
       "<Figure size 432x288 with 1 Axes>"
      ]
     },
     "metadata": {
      "needs_background": "light"
     },
     "output_type": "display_data"
    }
   ],
   "source": [
    "plt.imshow(trainset[50][0], cmap='gray')\n",
    "plt.axis(\"off\");"
   ]
  },
  {
   "cell_type": "code",
   "execution_count": 57,
   "id": "artificial-greek",
   "metadata": {
    "execution": {
     "iopub.execute_input": "2021-04-05T06:00:57.402668Z",
     "iopub.status.busy": "2021-04-05T06:00:57.402449Z",
     "iopub.status.idle": "2021-04-05T06:00:58.067753Z",
     "shell.execute_reply": "2021-04-05T06:00:58.067033Z",
     "shell.execute_reply.started": "2021-04-05T06:00:57.402649Z"
    },
    "tags": []
   },
   "outputs": [],
   "source": [
    "trainloader = DataLoader(trainset, BATCH_SIZE, num_workers=N_WORKERS)\n",
    "testloader  = DataLoader(testset,  BATCH_SIZE, num_workers=N_WORKERS)"
   ]
  },
  {
   "cell_type": "code",
   "execution_count": 7,
   "id": "infinite-carter",
   "metadata": {
    "execution": {
     "iopub.execute_input": "2021-04-05T05:41:45.190664Z",
     "iopub.status.busy": "2021-04-05T05:41:45.190347Z",
     "iopub.status.idle": "2021-04-05T05:41:49.212676Z",
     "shell.execute_reply": "2021-04-05T05:41:49.212148Z",
     "shell.execute_reply.started": "2021-04-05T05:41:45.190639Z"
    },
    "tags": []
   },
   "outputs": [
    {
     "name": "stdout",
     "output_type": "stream",
     "text": [
      "torch.Size([256, 128, 128]) torch.uint8\n"
     ]
    }
   ],
   "source": [
    "for batch in testloader:\n",
    "    print(batch[0].shape, batch[0].dtype)\n",
    "    torch.save(batch[0], \"test.pt\")\n",
    "    np.save(\"test.npy\", batch[0].detach().numpy())\n",
    "    break"
   ]
  },
  {
   "cell_type": "code",
   "execution_count": 8,
   "id": "charming-compiler",
   "metadata": {
    "execution": {
     "iopub.execute_input": "2021-04-05T05:41:49.213862Z",
     "iopub.status.busy": "2021-04-05T05:41:49.213617Z",
     "iopub.status.idle": "2021-04-05T05:41:49.217695Z",
     "shell.execute_reply": "2021-04-05T05:41:49.217240Z",
     "shell.execute_reply.started": "2021-04-05T05:41:49.213840Z"
    },
    "tags": []
   },
   "outputs": [
    {
     "data": {
      "text/plain": [
       "'38.839 GB'"
      ]
     },
     "execution_count": 8,
     "metadata": {},
     "output_type": "execute_result"
    }
   ],
   "source": [
    "fs = 4.2\n",
    "f\"{((2424170/BATCH_SIZE) * fs) / 1024:.3f} GB\""
   ]
  },
  {
   "cell_type": "code",
   "execution_count": 41,
   "id": "planned-fitness",
   "metadata": {
    "execution": {
     "iopub.execute_input": "2021-04-05T05:53:30.469006Z",
     "iopub.status.busy": "2021-04-05T05:53:30.468658Z",
     "iopub.status.idle": "2021-04-05T05:54:16.871641Z",
     "shell.execute_reply": "2021-04-05T05:54:16.870865Z",
     "shell.execute_reply.started": "2021-04-05T05:53:30.468963Z"
    },
    "tags": []
   },
   "outputs": [
    {
     "name": "stdout",
     "output_type": "stream",
     "text": [
      "torch.Size([256, 128, 128])\n",
      "CPU times: user 23.6 ms, sys: 188 ms, total: 212 ms\n",
      "Wall time: 46.4 s\n"
     ]
    }
   ],
   "source": [
    "%%time\n",
    "\n",
    "imgs, imgids = next(iter(trainloader))\n",
    "print(imgs.shape)"
   ]
  },
  {
   "cell_type": "code",
   "execution_count": 59,
   "id": "formed-charlotte",
   "metadata": {
    "execution": {
     "iopub.execute_input": "2021-04-05T06:01:33.771413Z",
     "iopub.status.busy": "2021-04-05T06:01:33.770698Z",
     "iopub.status.idle": "2021-04-05T06:01:37.488940Z",
     "shell.execute_reply": "2021-04-05T06:01:37.487951Z",
     "shell.execute_reply.started": "2021-04-05T06:01:33.771164Z"
    },
    "tags": []
   },
   "outputs": [
    {
     "name": "stdout",
     "output_type": "stream",
     "text": [
      "torch.Size([256, 128, 128])\n",
      "CPU times: user 14.1 ms, sys: 247 ms, total: 262 ms\n",
      "Wall time: 3.71 s\n"
     ]
    }
   ],
   "source": [
    "%%time\n",
    "\n",
    "imgs, imgids = next(iter(trainloader))\n",
    "print(imgs.shape)"
   ]
  }
 ],
 "metadata": {
  "kernelspec": {
   "display_name": "Python (pt)",
   "language": "python",
   "name": "pt"
  },
  "language_info": {
   "codemirror_mode": {
    "name": "ipython",
    "version": 3
   },
   "file_extension": ".py",
   "mimetype": "text/x-python",
   "name": "python",
   "nbconvert_exporter": "python",
   "pygments_lexer": "ipython3",
   "version": "3.9.2"
  },
  "widgets": {
   "application/vnd.jupyter.widget-state+json": {
    "state": {},
    "version_major": 2,
    "version_minor": 0
   }
  }
 },
 "nbformat": 4,
 "nbformat_minor": 5
}

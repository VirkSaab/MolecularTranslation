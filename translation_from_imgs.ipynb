{
 "cells": [
  {
   "cell_type": "markdown",
   "id": "canadian-provision",
   "metadata": {},
   "source": [
    "## Try these two experiments first\n",
    "1. Create original input image to inchi string translator and get accuracy and loss\n",
    "2. Create inchi image to inchi string translator and get accuracy and loss (Use [AutoEncoders](https://www.youtube.com/watch?v=E28CVTbNoSA&ab_channel=PascalPoupart))\n",
    "\n",
    "Now, compare the two. If the accuracy of inchi image -> inchi string is significantly higher than the original image -> inchi string then think about ***reconstruction experiments*** from original image to inchi image. [try this then](https://www.google.com/search?channel=fs&client=ubuntu&q=converting+shapes+from+one+to+another+using+deep+learning).\n",
    "\n",
    "# InChI decoding \n",
    "[Source](https://link.springer.com/content/pdf/10.1186%2Fs13321-015-0068-4.pdf)\n",
    "\n",
    "1. **Skeletal connections layer** This layer prefixed with `/c` represents connections between skeletal atoms by listing the canonical numbers in the chain of connected atoms. \n",
    "2. ***branches are given in parentheses***\n",
    "3. The canonical atomic numbers, which are used throughout the InChI, are always given in the formula’s element order. i.e. precendence is given to element according to periodic table while numbering elements. For example, `/C10H16N5O13P3` (the beginning of InChI for adenosine triphosphate) implies that atoms numbered 1–10 are carbons, 11–15 arenitrogens, 16–28 are oxygens, and 29–31 are phosporus. Hydrogen atoms are not explicitly numbered.\n"
   ]
  },
  {
   "cell_type": "markdown",
   "id": "humanitarian-reliance",
   "metadata": {
    "tags": []
   },
   "source": [
    "## image to inchi string"
   ]
  },
  {
   "cell_type": "code",
   "execution_count": 1,
   "id": "moving-hydrogen",
   "metadata": {
    "execution": {
     "iopub.execute_input": "2021-04-09T08:39:55.975414Z",
     "iopub.status.busy": "2021-04-09T08:39:55.975239Z",
     "iopub.status.idle": "2021-04-09T08:39:55.978202Z",
     "shell.execute_reply": "2021-04-09T08:39:55.977553Z",
     "shell.execute_reply.started": "2021-04-09T08:39:55.975394Z"
    },
    "tags": []
   },
   "outputs": [],
   "source": [
    "# Special Packages\n",
    "# !pip install PeriodicElements\n",
    "# !pip install albumentations\n",
    "# !pip install timm\n",
    "# !pip install python-Levenshtein\n",
    "# !pip install torchmetrics"
   ]
  },
  {
   "cell_type": "code",
   "execution_count": 2,
   "id": "rising-madagascar",
   "metadata": {
    "execution": {
     "iopub.execute_input": "2021-04-09T08:39:55.979663Z",
     "iopub.status.busy": "2021-04-09T08:39:55.979473Z",
     "iopub.status.idle": "2021-04-09T08:39:55.994986Z",
     "shell.execute_reply": "2021-04-09T08:39:55.994423Z",
     "shell.execute_reply.started": "2021-04-09T08:39:55.979643Z"
    },
    "tags": []
   },
   "outputs": [],
   "source": [
    "%load_ext tensorboard\n",
    "%load_ext autoreload\n",
    "%autoreload 2"
   ]
  },
  {
   "cell_type": "code",
   "execution_count": 3,
   "id": "imperial-hometown",
   "metadata": {
    "execution": {
     "iopub.execute_input": "2021-04-09T08:39:55.995891Z",
     "iopub.status.busy": "2021-04-09T08:39:55.995758Z",
     "iopub.status.idle": "2021-04-09T08:39:59.836823Z",
     "shell.execute_reply": "2021-04-09T08:39:59.836077Z",
     "shell.execute_reply.started": "2021-04-09T08:39:55.995874Z"
    },
    "tags": []
   },
   "outputs": [
    {
     "name": "stdout",
     "output_type": "stream",
     "text": [
      "Random Seed:  999\n"
     ]
    }
   ],
   "source": [
    "import torch, torchmetrics, timm, re, pickle, Levenshtein\n",
    "import torch.nn as nn\n",
    "import torchvision as tv\n",
    "import pytorch_lightning as pl\n",
    "import pandas as pd\n",
    "import numpy as np\n",
    "import matplotlib.pyplot as plt\n",
    "import albumentations as A\n",
    "from pathlib import Path\n",
    "from functools import partial\n",
    "from collections import defaultdict\n",
    "from fastprogress import progress_bar\n",
    "from typing import Optional, Union\n",
    "from sklearn.model_selection import train_test_split\n",
    "from torch.utils.data import Dataset, DataLoader, random_split\n",
    "from PIL import Image\n",
    "from elements import elements\n",
    "from albumentations.pytorch import ToTensorV2\n",
    "from preprocessing import preprocess_image\n",
    "\n",
    "\n",
    "# Set random seed for reproducibility\n",
    "manualSeed = 999\n",
    "#manualSeed = random.randint(1, 10000) # use if you want new results\n",
    "print(\"Random Seed: \", manualSeed)\n",
    "torch.manual_seed(manualSeed);\n",
    "\n",
    "# This monkey-patch is there to be able to plot tensors\n",
    "torch.Tensor.ndim = property(lambda x: len(x.shape))"
   ]
  },
  {
   "cell_type": "code",
   "execution_count": 102,
   "id": "confidential-truth",
   "metadata": {
    "execution": {
     "iopub.execute_input": "2021-04-09T09:52:38.215328Z",
     "iopub.status.busy": "2021-04-09T09:52:38.214918Z",
     "iopub.status.idle": "2021-04-09T09:52:38.251632Z",
     "shell.execute_reply": "2021-04-09T09:52:38.250832Z",
     "shell.execute_reply.started": "2021-04-09T09:52:38.215280Z"
    },
    "tags": []
   },
   "outputs": [],
   "source": [
    "CHKPTDIR = Path(\"TranslationChkpts\")\n",
    "DATADIR = \"data/bms-molecular-translation\"\n",
    "LABELS_CSV_PATH = \"data/train_labels.csv\"\n",
    "VOCAB_FILEPATH = CHKPTDIR/\"vocab.pt\"\n",
    "TRAINPATHS_PATH = CHKPTDIR/\"train_paths.feather\"\n",
    "TESTPATHS_PATH = CHKPTDIR/\"test_paths.feather\"\n",
    "CHKPTDIR.mkdir(parents=True, exist_ok=True)\n",
    "\n",
    "tb_logger = pl.loggers.TensorBoardLogger(CHKPTDIR, name=\"InchINet\")\n",
    "\n",
    "N_WORKERS = 4\n",
    "BATCH_SIZE = 256\n",
    "PRECISION = 16\n",
    "MAX_LEN = 16 # computed using corpus - max([len(vocab.tokenize(c)) for c in corpus]) 9 + 1 pad + 2 enclosing tokens\n",
    "EMB_SIZE = 512\n",
    "HDN_SIZE = 10\n",
    "INP_SIZE = (128, 128)\n",
    "N_INP_CH = 1\n",
    "N_OUT_CH = 3\n",
    "LR = 1e-2\n",
    "EPOCHS = 2\n",
    "beta1 = 0.5"
   ]
  },
  {
   "cell_type": "code",
   "execution_count": 5,
   "id": "brazilian-postcard",
   "metadata": {
    "execution": {
     "iopub.execute_input": "2021-04-09T08:39:59.867826Z",
     "iopub.status.busy": "2021-04-09T08:39:59.867418Z",
     "iopub.status.idle": "2021-04-09T08:40:00.047903Z",
     "shell.execute_reply": "2021-04-09T08:40:00.046404Z",
     "shell.execute_reply.started": "2021-04-09T08:39:59.867790Z"
    },
    "tags": []
   },
   "outputs": [
    {
     "name": "stdout",
     "output_type": "stream",
     "text": [
      "sample_submission.csv  test  train  train_labels.csv\n"
     ]
    }
   ],
   "source": [
    "!ls {DATADIR}"
   ]
  },
  {
   "cell_type": "markdown",
   "id": "wooden-angel",
   "metadata": {
    "tags": []
   },
   "source": [
    "# Data Block\n",
    "\n",
    "### LightningDataModule API\n",
    "\n",
    "To define a DataModule define 5 methods:\n",
    "1. prepare_data (how to download(), tokenize, etc…)\n",
    "2. setup (how to split, etc…)\n",
    "3. train_dataloader\n",
    "4. val_dataloader(s)\n",
    "5. test_dataloader(s)\n",
    "\n",
    "#### prepare_data\n",
    "Use this method to do things that might write to disk or that need to be done only from a single process in distributed settings.\n",
    "1. download\n",
    "2. tokenize\n",
    "3. etc…\n",
    "\n",
    "#### setup\n",
    "There are also data operations you might want to perform on every GPU. Use setup to do things like:\n",
    "1. count number of classes\n",
    "2. build vocabulary\n",
    "3. perform train/val/test splits\n",
    "4. apply transforms (defined explicitly in your datamodule or assigned in init)\n",
    "5. etc…\n"
   ]
  },
  {
   "cell_type": "markdown",
   "id": "equal-cisco",
   "metadata": {
    "tags": []
   },
   "source": [
    "## Vocab and Tokenizer"
   ]
  },
  {
   "cell_type": "code",
   "execution_count": 6,
   "id": "parental-customs",
   "metadata": {
    "execution": {
     "iopub.execute_input": "2021-04-09T08:40:00.050597Z",
     "iopub.status.busy": "2021-04-09T08:40:00.050135Z",
     "iopub.status.idle": "2021-04-09T08:40:00.097791Z",
     "shell.execute_reply": "2021-04-09T08:40:00.097200Z",
     "shell.execute_reply.started": "2021-04-09T08:40:00.050542Z"
    },
    "tags": []
   },
   "outputs": [],
   "source": [
    "class RawDataset(Dataset):\n",
    "    def __init__(self, datadir, df=None):\n",
    "        super().__init__()\n",
    "        self.paths = list(Path(datadir).rglob(\"*.*\"))\n",
    "        if df is not None:\n",
    "            self.idtoinchi_dict = {\n",
    "                _id:_inchi for _id, _inchi in\n",
    "                zip(df[\"image_id\"].values.tolist(), df[\"InChI\"].values.tolist())\n",
    "            }\n",
    "        if len(self.paths) == 0:\n",
    "            print(\"No paths found.\")\n",
    "        self.piltotensor = PILToTensor()\n",
    "    \n",
    "    def __len__(self):\n",
    "        return len(self.paths)\n",
    "    \n",
    "    def __getitem__(self, idx):\n",
    "        imgpath = self.paths[idx]\n",
    "        imgid = imgpath.stem\n",
    "        img = preprocess_image(imgpath, out_size=INP_SIZE)\n",
    "        img = torch.from_numpy(np.array(img))\n",
    "        if hasattr(self, \"idtoinchi_dict\"):\n",
    "            target = self.idtoinchi_dict[imgid]\n",
    "            return img, target\n",
    "        return img, \"test_placeholder\""
   ]
  },
  {
   "cell_type": "code",
   "execution_count": 7,
   "id": "loaded-yugoslavia",
   "metadata": {
    "execution": {
     "iopub.execute_input": "2021-04-09T08:40:00.099849Z",
     "iopub.status.busy": "2021-04-09T08:40:00.099680Z",
     "iopub.status.idle": "2021-04-09T08:40:00.140376Z",
     "shell.execute_reply": "2021-04-09T08:40:00.139838Z",
     "shell.execute_reply.started": "2021-04-09T08:40:00.099830Z"
    },
    "tags": []
   },
   "outputs": [],
   "source": [
    "class Vocab:\n",
    "    def __init__(self, vocab, add_special_tokens=True):\n",
    "        self.vocab = vocab\n",
    "        # Get all elements sorted according to Atomic number\n",
    "        data = elements.Elements\n",
    "        # All elements in periodic table\n",
    "        self.elements = sorted(data, key=lambda i:i.AtomicNumber)  # Based on their AtomicNumber\n",
    "        # Sort longer names first for regex pattern formation\n",
    "        self.element_symbols = sorted([e.Symbol for e in self.elements], key=lambda e: len(e), reverse=True)\n",
    "        # Create regex pattern\n",
    "        self.pattern = f\"({'|'.join([f'{e}[0-9]*' for e in self.element_symbols])})\"\n",
    "        \n",
    "        if type(vocab) != type(None):\n",
    "            if add_special_tokens:\n",
    "                self.pad_token = \"<pad>\"\n",
    "                self.unk_token = \"<unk>\"\n",
    "                self.bos_token = \"<bos>\"\n",
    "                self.eos_token = \"<eos>\"\n",
    "                self.vocab = [self.pad_token, self.unk_token,self.bos_token,self.eos_token] + list(self.vocab)\n",
    "            \n",
    "            # Adding elements names into vocab and sort according to atomic number\n",
    "#             self.vocab = np.unique(self.vocab.tolist() + self.element_symbols)\n",
    "#             self.vocab = sorted(self.vocab.tolist(), key=lambda x: eval(f\"elements.{''.join(re.findall(r'[A-Za-z]', x))}.AtomicNumber\"))\n",
    "            # create class to index mapping\n",
    "            self._ctoi = defaultdict(lambda : self.unk_token, {c:i for i, c in enumerate(self.vocab)})\n",
    "                \n",
    "    def tokenize(self, string):\n",
    "        tokens = re.split(self.pattern, string)\n",
    "        tokens = list(filter(None, tokens))\n",
    "        return tokens\n",
    "    \n",
    "    def ctoi(self, c):\n",
    "        return self._ctoi[c]\n",
    "    \n",
    "    def itoc(self, i):\n",
    "        return self.vocab[i]\n",
    "    \n",
    "    def __len__(self):\n",
    "        return len(self.vocab)\n",
    "    \n",
    "    def save_vocab(self, path):\n",
    "        torch.save(self.vocab, path)\n",
    "        print(\"Saved @\", path)\n",
    "    \n",
    "    @classmethod\n",
    "    def from_corpus(cls, corpus):\n",
    "        v = cls(None)\n",
    "        vocab = np.unique([w for s in corpus for w in v.tokenize(s)])\n",
    "        return cls(vocab)\n",
    "    \n",
    "    @classmethod\n",
    "    def load_vocab(cls, path):\n",
    "        vocab = torch.load(path)\n",
    "        return cls(vocab)\n",
    "    \n",
    "# Reference - https://huggingface.co/transformers/v2.11.0/main_classes/tokenizer.html#pretrainedtokenizer\n",
    "class Tokenizer:\n",
    "    def __init__(self, vocab=None):\n",
    "        self.vocab = vocab # Vocab class instance\n",
    "    \n",
    "    def tokenizer(self, x):\n",
    "        return self.vocab.tokenizer(x)\n",
    "    \n",
    "    def encode(self, s, max_len=None):\n",
    "        tokens = self.vocab.tokenize(s)\n",
    "        seq = [self.vocab.ctoi(t) for t in tokens]\n",
    "        attn_mask = [1]*len(seq)\n",
    "        \n",
    "        if max_len:\n",
    "            # Add padding to input\n",
    "            extra_len = max_len - len(seq) - 2 # 2 for start and end tokens\n",
    "            # Add start input token\n",
    "            seq = [self.vocab.ctoi(self.vocab.bos_token)] + seq\n",
    "            # Add end input token\n",
    "            seq += [self.vocab.ctoi(self.vocab.eos_token)]\n",
    "            attn_mask += [1, 1]\n",
    "            # Add padding token\n",
    "            seq += [self.vocab.ctoi(self.vocab.pad_token)]*extra_len\n",
    "            attn_mask += [0]*extra_len\n",
    "            \n",
    "        return {\"inp_seq\": seq, \"attn_mask\": attn_mask}\n",
    "    \n",
    "    def decode(self, tokens, inp_seq_name=\"inp_seq\"):\n",
    "        if isinstance(tokens, dict):\n",
    "            seq = tokens[inp_seq_name]\n",
    "            if isinstance(seq, (torch.Tensor, np.ndarray)):\n",
    "                seq = seq.tolist()\n",
    "        else:\n",
    "            seq = tokens\n",
    "        seq = ''.join([self.vocab.itoc(t) for t in seq])\n",
    "        # remove special tokens\n",
    "        for special_token in [self.vocab.pad_token, self.vocab.bos_token, self.vocab.eos_token]:\n",
    "            seq = seq.replace(special_token, '')\n",
    "        return seq\n",
    "    \n",
    "    @classmethod\n",
    "    def fit(cls, corpus):\n",
    "        vocab = Vocab.from_corpus(orcpus)\n",
    "        return cls(vocab)\n",
    "    \n",
    "    @classmethod\n",
    "    def load_from_file(cls, path):\n",
    "        vocab = torch.load(path)\n",
    "        return cls(vocab)"
   ]
  },
  {
   "cell_type": "markdown",
   "id": "silver-laugh",
   "metadata": {
    "tags": []
   },
   "source": [
    "## Lightning Data Module"
   ]
  },
  {
   "cell_type": "code",
   "execution_count": 8,
   "id": "educational-england",
   "metadata": {
    "execution": {
     "iopub.execute_input": "2021-04-09T08:40:00.141871Z",
     "iopub.status.busy": "2021-04-09T08:40:00.141707Z",
     "iopub.status.idle": "2021-04-09T08:40:00.182288Z",
     "shell.execute_reply": "2021-04-09T08:40:00.181669Z",
     "shell.execute_reply.started": "2021-04-09T08:40:00.141850Z"
    },
    "tags": []
   },
   "outputs": [],
   "source": [
    "class ImgtoInChIDataset(Dataset):\n",
    "    def __init__(self, paths, df=None, tsfms=None):\n",
    "        self.paths = paths\n",
    "        if df is not None:\n",
    "            self.idtoinchi_dict = {\n",
    "                _id:_inchi for _id, _inchi in\n",
    "                zip(df[\"image_id\"].values.tolist(), df[\"InChI\"].values.tolist())\n",
    "            }\n",
    "        self.tsfms = tsfms\n",
    "    \n",
    "    def __len__(self):\n",
    "        return len(self.paths)\n",
    "    \n",
    "    def __getitem__(self, idx):\n",
    "        imgpath = self.paths[idx]\n",
    "        imgid = Path(imgpath).stem\n",
    "        img = np.array(preprocess_image(imgpath, out_size=INP_SIZE), dtype=np.float32)/255.\n",
    "        if self.tsfms is not None:\n",
    "            img = self.tsfms(image=img)[\"image\"]\n",
    "        \n",
    "        if hasattr(self, \"idtoinchi_dict\"):\n",
    "            target = self.idtoinchi_dict[imgid]\n",
    "            target = target.split(\"/\")[1]\n",
    "            return img, target\n",
    "        \n",
    "        return img, \"test_placeholder\"\n",
    "    \n",
    "class ImgToInChIDataModule(pl.LightningDataModule):\n",
    "    def __init__(self, tb_logger, valset_ratio=0.05) -> None:\n",
    "        super().__init__()\n",
    "        self.tb_logger = tb_logger\n",
    "        self.valset_ratio = valset_ratio\n",
    "        self.dims = (1, *INP_SIZE)\n",
    "        \n",
    "        self.train_tsfms = A.Compose([\n",
    "#             A.Resize(*INP_SIZE, always_apply=True),\n",
    "#             A.ShiftScaleRotate(shift_limit=0.05, scale_limit=0.05, rotate_limit=15, p=0.5),\n",
    "#             A.RandomCrop(*INP_SIZE),\n",
    "#             A.RandomBrightnessContrast(p=0.5),\n",
    "#             A.Normalize(mean=(0.5), std=(0.229)),\n",
    "            ToTensorV2(),\n",
    "        ])\n",
    "        self.test_tsfms = A.Compose([\n",
    "#             A.Resize(*INP_SIZE, always_apply=True),\n",
    "#             A.Normalize(mean=(0.5), std=(0.229)),\n",
    "            ToTensorV2(),\n",
    "        ])\n",
    "        \n",
    "    def prepare_data(self, verbose=False):\n",
    "        \"\"\"Use this method to do things that might write to disk or that\n",
    "        need to be done only from a single process in distributed settings.\"\"\"\n",
    "        # Load labels in DataFrame\n",
    "        if verbose: print(\"Loading labels data...\", end=' ')\n",
    "        self.df = pd.read_csv(LABELS_CSV_PATH)\n",
    "        if verbose: print(\"DONE!\")\n",
    "        \n",
    "        # Load image paths\n",
    "        if verbose: print(\"Loading paths...\", end=' ')\n",
    "        if TRAINPATHS_PATH.exists():\n",
    "            self.train_paths = pd.read_feather(TRAINPATHS_PATH)\n",
    "            self.train_paths = self.train_paths.train_paths.tolist()\n",
    "        else:\n",
    "            self.train_paths = pd.DataFrame(list((Path(DATADIR)/\"train\").rglob(\"*.*\")), columns=[\"train_paths\"])\n",
    "            self.train_paths = self.train_paths.applymap(lambda x: str(x))\n",
    "            self.train_paths.to_feather(TRAINPATHS_PATH)\n",
    "            self.train_paths = self.train_paths.train_paths.tolist()\n",
    "        if TESTPATHS_PATH.exists():\n",
    "            self.test_paths = pd.read_feather(TESTPATHS_PATH)\n",
    "            self.test_paths = self.test_paths.test_paths.tolist()\n",
    "        else:\n",
    "            self.test_paths = pd.DataFrame(list((Path(DATADIR)/\"test\").rglob(\"*.*\")), columns=[\"test_paths\"])\n",
    "            self.test_paths = self.test_paths.applymap(lambda x: str(x))\n",
    "            self.test_paths.to_feather(TESTPATHS_PATH)\n",
    "            self.test_paths = self.test_paths.test_paths.tolist()\n",
    "        if verbose: print(\"DONE!\")\n",
    "        \n",
    "        # Get Vocab and Tokenizer\n",
    "        if verbose: print(\"Loading vocab and tokenizer...\", end=' ')\n",
    "        if Path(VOCAB_FILEPATH).exists():\n",
    "            vocab = Vocab.load_vocab(VOCAB_FILEPATH)\n",
    "        else:\n",
    "            corpus = [s.split(\"/\")[1] for s in self.df.InChI.tolist()]\n",
    "            vocab = Vocab.from_corpus(corpus)\n",
    "#             print(\"# words =\", len(vocab))\n",
    "            vocab.save_vocab(VOCAB_FILEPATH)\n",
    "        self.vocab_size = len(vocab)\n",
    "        self.tokenizer = Tokenizer(vocab)\n",
    "        if verbose: print(\"DONE!\")\n",
    "                \n",
    "    def setup(self, stage:Optional[str]=None) -> None:\n",
    "        # Assign train/val datasets for use in dataloaders\n",
    "        if stage == 'fit' or stage is None:\n",
    "            trainpaths, valpaths = train_test_split(self.train_paths, test_size=self.valset_ratio)\n",
    "            self.trainset = ImgtoInChIDataset(trainpaths, self.df, self.train_tsfms)\n",
    "            self.valset = ImgtoInChIDataset(valpaths, self.df, self.test_tsfms)\n",
    "            \n",
    "            # Sample batch\n",
    "            imgs, inp_seqs, attn_masks = next(iter(self.train_dataloader()))\n",
    "            self.tb_logger.experiment.add_images(\"Sample images\", imgs)\n",
    "\n",
    "        # Assign test dataset for use in dataloader(s)\n",
    "        if stage == 'test' or stage is None:\n",
    "            self.testset = ImgtoInChIDataset(self.test_paths, tsfms=self.test_tsfms)\n",
    "\n",
    "    def train_dataloader(self):\n",
    "        return DataLoader(self.trainset, BATCH_SIZE, shuffle=True, \n",
    "                          collate_fn=self.collate_fn, num_workers=N_WORKERS, pin_memory=True)\n",
    "\n",
    "    def val_dataloader(self):\n",
    "        return DataLoader(self.valset, BATCH_SIZE, shuffle=False, \n",
    "                          collate_fn=self.collate_fn, num_workers=N_WORKERS, pin_memory=True)\n",
    "    \n",
    "    def collate_fn(self, batch):\n",
    "        imgs = torch.cat([ins[0].unsqueeze(0) for ins in batch])\n",
    "        targets = [ins[1] for ins in batch]\n",
    "        targets = [self.tokenizer.encode(t, MAX_LEN) for t in targets]\n",
    "        inp_seqs = torch.Tensor([t[\"inp_seq\"] for t in targets]).long()\n",
    "        attn_masks = torch.Tensor([t[\"attn_mask\"] for t in targets]).float()\n",
    "        return imgs, inp_seqs, attn_masks\n",
    "    "
   ]
  },
  {
   "cell_type": "code",
   "execution_count": 9,
   "id": "following-corps",
   "metadata": {
    "execution": {
     "iopub.execute_input": "2021-04-09T08:40:00.183396Z",
     "iopub.status.busy": "2021-04-09T08:40:00.183195Z",
     "iopub.status.idle": "2021-04-09T08:40:18.448587Z",
     "shell.execute_reply": "2021-04-09T08:40:18.447669Z",
     "shell.execute_reply.started": "2021-04-09T08:40:00.183377Z"
    },
    "tags": []
   },
   "outputs": [
    {
     "name": "stdout",
     "output_type": "stream",
     "text": [
      "Loading labels data... DONE!\n",
      "Loading paths... DONE!\n",
      "Loading vocab and tokenizer... DONE!\n"
     ]
    }
   ],
   "source": [
    "dm = ImgToInChIDataModule(tb_logger=tb_logger)\n",
    "dm.prepare_data(verbose=True)\n",
    "dm.setup('fit')"
   ]
  },
  {
   "cell_type": "code",
   "execution_count": 10,
   "id": "applied-louis",
   "metadata": {
    "execution": {
     "iopub.execute_input": "2021-04-09T08:40:18.449761Z",
     "iopub.status.busy": "2021-04-09T08:40:18.449589Z",
     "iopub.status.idle": "2021-04-09T08:40:18.490301Z",
     "shell.execute_reply": "2021-04-09T08:40:18.489718Z",
     "shell.execute_reply.started": "2021-04-09T08:40:18.449739Z"
    },
    "tags": []
   },
   "outputs": [
    {
     "data": {
      "text/plain": [
       "'C13H15N3OS'"
      ]
     },
     "execution_count": 10,
     "metadata": {},
     "output_type": "execute_result"
    }
   ],
   "source": [
    "dm.trainset[0][1].replace(\"InChI=1S/\", \"\")"
   ]
  },
  {
   "cell_type": "code",
   "execution_count": 11,
   "id": "fancy-enforcement",
   "metadata": {
    "execution": {
     "iopub.execute_input": "2021-04-09T08:40:18.494637Z",
     "iopub.status.busy": "2021-04-09T08:40:18.494452Z",
     "iopub.status.idle": "2021-04-09T08:40:18.518799Z",
     "shell.execute_reply": "2021-04-09T08:40:18.518248Z",
     "shell.execute_reply.started": "2021-04-09T08:40:18.494617Z"
    },
    "tags": []
   },
   "outputs": [
    {
     "data": {
      "text/plain": [
       "'(Uun|Uuu|Uub|He|Li|Be|Ne|Na|Mg|Al|Si|Cl|Ar|Ca|Sc|Ti|Cr|Mn|Fe|Co|Ni|Cu|Zn|Ga|Ge|As|Se|Br|Kr|Rb|Sr|Zr|Nb|Mo|Tc|Ru|Rh|Pd|Ag|Cd|In|Sn|Sb|Te|Xe|Cs|Ba|La|Ce|Pr|Nd|Pm|Sm|Eu|Gd|Tb|Dy|Ho|Er|Tm|Yb|Lu|Hf|Ta|Re|Os|Ir|Pt|Au|Hg|Tl|Pb|Bi|Po|At|Rn|Fr|Ra|Ac|Th|Pa|Np|Pu|Am|Cm|Bk|Cf|Es|Fm|Md|No|Lr|Rf|Db|Sg|Bh|Hs|Mt|H|B|C|N|O|F|P|S|K|V|Y|I|W|U)'"
      ]
     },
     "execution_count": 11,
     "metadata": {},
     "output_type": "execute_result"
    }
   ],
   "source": [
    "ptn = f\"({'|'.join([f'{e}' for e in dm.tokenizer.vocab.element_symbols])})\"\n",
    "ptn"
   ]
  },
  {
   "cell_type": "code",
   "execution_count": 12,
   "id": "outside-mistress",
   "metadata": {
    "execution": {
     "iopub.execute_input": "2021-04-09T08:40:18.519883Z",
     "iopub.status.busy": "2021-04-09T08:40:18.519656Z",
     "iopub.status.idle": "2021-04-09T08:40:18.548084Z",
     "shell.execute_reply": "2021-04-09T08:40:18.547485Z",
     "shell.execute_reply.started": "2021-04-09T08:40:18.519848Z"
    },
    "tags": []
   },
   "outputs": [
    {
     "name": "stdout",
     "output_type": "stream",
     "text": [
      "InChI=1S/C21H30O4/c1-12(22)25-14-6-8-20(2)13(10-14)11-17(23)19-15-4-5-18(24)21(15,3)9-7-16(19)20/h13-16,19H,4-11H2,1-3H3/t13-,14+,15+,16-,19-,20+,21+/m1/\n"
     ]
    },
    {
     "data": {
      "text/plain": [
       "{'main_layer': 'C21H30O4',\n",
       " 'c_layer': '1-12(22)25-14-6-8-20(2)13(10-14)11-17(23)19-15-4-5-18(24)21(15,3)9-7-16(19)20',\n",
       " 'h_layer': '13-16,19H,4-11H2,1-3H3',\n",
       " 't_layer': '13-,14+,15+,16-,19-,20+,21+',\n",
       " 'm_layer': '1'}"
      ]
     },
     "execution_count": 12,
     "metadata": {},
     "output_type": "execute_result"
    }
   ],
   "source": [
    "def dissect_inchi(inchi_string):\n",
    "    if len(inchi_string) > 0:\n",
    "        layers_dict = {} \n",
    "        inchi_string = inchi_string.split(\"/\")\n",
    "        layers_counter = len(inchi_string) - 1 # layers_counter is for sanity check, -1 for InChI=1S\n",
    "        # Get InChI standard format and main layer from string\n",
    "        assert inchi_string[0] == 'InChI=1S', \"Error in `dissect_inchi` function, string must start with `InChI=1S`\"\n",
    "        layers_dict[\"main_layer\"] = inchi_string[1]\n",
    "        del inchi_string[0:2]\n",
    "\n",
    "        for layer in inchi_string:\n",
    "            if len(layer) == 0:\n",
    "                layers_counter -= 1\n",
    "            elif len(layer) == 1:\n",
    "                layers_dict[f\"{layer}_layer\"] = \"<NULL>\"\n",
    "            else:\n",
    "                layers_dict[f\"{layer[0]}_layer\"] = layer[1:]\n",
    "\n",
    "        assert layers_counter == len(layers_dict.keys()), \\\n",
    "        f\"\"\"Error in `dissect_inchi` function. String is not fully analysed.\n",
    "        Expected {layers_counter} layers but got {len(layers_dict.keys())} layers.\n",
    "        {inchi_string}\n",
    "        \"\"\"\n",
    "        return layers_dict\n",
    "    return ''\n",
    "    \n",
    "idx = 1\n",
    "print(dm.df.InChI[1][:-2])\n",
    "dissect_inchi(dm.df.InChI[1][:-2])"
   ]
  },
  {
   "cell_type": "code",
   "execution_count": 148,
   "id": "weird-small",
   "metadata": {
    "execution": {
     "iopub.execute_input": "2021-04-09T11:54:08.230644Z",
     "iopub.status.busy": "2021-04-09T11:54:08.230443Z",
     "iopub.status.idle": "2021-04-09T11:54:08.275610Z",
     "shell.execute_reply": "2021-04-09T11:54:08.275070Z",
     "shell.execute_reply.started": "2021-04-09T11:54:08.230626Z"
    },
    "tags": []
   },
   "outputs": [],
   "source": [
    "from typing import Union, Tuple\n",
    "class Vocab:\n",
    "    def __init__(self, vocab_dict:dict[list], max_lengths:dict[int], patterns_dict:dict[str], add_special_tokens:bool=True) -> None:\n",
    "        self.vocab_dict = vocab_dict\n",
    "        self.max_lengths = max_lengths\n",
    "        self.patterns_dict = patterns_dict\n",
    "        if add_special_tokens:\n",
    "            self.pad_token = \"<pad>\"\n",
    "            self.unk_token = \"<unk>\"\n",
    "            self.bos_token = \"<bos>\"\n",
    "            self.eos_token = \"<eos>\"\n",
    "            self.ctoi_dict = {}\n",
    "            for k, v in self.vocab_dict.items():\n",
    "                self.vocab_dict[k] = [self.pad_token, self.unk_token,self.bos_token,self.eos_token] + v\n",
    "                self.ctoi_dict[k] = defaultdict(lambda : self.unk_token, {c:i for i, c in enumerate(self.vocab_dict[k])})\n",
    "                            \n",
    "    def main_layer_tokenizer(self, string:str) -> list[str]:\n",
    "        tokens = re.split(self.patterns_dict[\"main_layer\"], string)\n",
    "        tokens = list(filter(None, tokens))\n",
    "        return tokens\n",
    "    \n",
    "    def slash_layer_tokenizer(self, string:str) -> list[str]:\n",
    "        tokens = re.split(self.patterns_dict[\"slash_layer\"], string)\n",
    "        tokens = list(filter(None, tokens))\n",
    "        return tokens\n",
    "    \n",
    "    def ctoi(self, c:str, layer_name:str=\"main_layer\") -> int:\n",
    "        return self.ctoi_dict[layer_name][c]\n",
    "    \n",
    "    def itoc(self, i:int, layer_name:str=\"main_layer\") -> str:\n",
    "        return self.vocab_dict[layer_name][i]\n",
    "    \n",
    "    def __len__(self) -> dict:\n",
    "        return {k:len(v) for k,v in self.vocab_dict.items()}\n",
    "    \n",
    "    def save_vocab(self, path:str) -> None:\n",
    "        torch.save({\"vocab_dict\": self.vocab_dict, \"max_lengths\": self.max_lengths, \"patterns_dict\": self.patterns_dict}, path)\n",
    "        print(\"Saved @\", path)\n",
    "        \n",
    "    @classmethod\n",
    "    def from_file(cls, path:str, add_special_tokens:bool=True) -> Vocab:\n",
    "        vocab = torch.load(path)\n",
    "        vocab_dict, max_lengths, patterns_dict = vocab[\"vocab_dict\"], vocab[\"max_lengths\"], vocab[\"patterns_dict\"]\n",
    "        return cls(vocab_dict, max_lengths, patterns_dict, add_special_tokens)\n",
    "    \n",
    "    @classmethod\n",
    "    def from_dataframe_column(cls, inchi_column:pd.Series, add_special_tokens:bool=True, verbose=True) -> Vocab:\n",
    "        # Create corpus from inchi strings\n",
    "        corpus_dict = Vocab.get_inchi_corpus(inchi_column)\n",
    "        return cls.from_corpus(corpus_dict, add_special_tokens, verbose)\n",
    "    \n",
    "    @classmethod\n",
    "    def from_corpus(cls, corpus_dict:dict[str], add_special_tokens:bool=True, verbose=True) -> Vocab:\n",
    "        names_list = list(corpus_dict.keys())\n",
    "        names_list.remove(\"main_layer\")\n",
    "        vocab_dict, max_lengths = {}, {}\n",
    "        # Create vocab for main layer\n",
    "        if verbose: print(f\"Creating main layer vocab...\", end=' ')\n",
    "        vocab_dict[\"main_layer\"], max_len, main_layer_pattern = Vocab.create_main_layer_vocab(corpus_dict[\"main_layer\"], True)\n",
    "        max_lengths[\"main_layer\"] = max_len\n",
    "        if verbose: print(\"done!\")\n",
    "            \n",
    "        # Create vocabs for rest of the inchi string layers\n",
    "        for layer_name in names_list:\n",
    "            if verbose: print(f\"Creating {layer_name} vocab...\", end=' ')\n",
    "            vocab_dict[layer_name], max_len, slash_layer_pattern = Vocab.create_slash_layer_vocab(corpus_dict[layer_name], True)\n",
    "            max_lengths[layer_name] = max_len\n",
    "            if verbose: print(\"done!\")\n",
    "        \n",
    "        # Patterns\n",
    "        patterns_dict = {\"main_layer\": main_layer_pattern, \"slash_layer\": slash_layer_pattern}\n",
    "    \n",
    "        return cls(vocab_dict, max_lengths, patterns_dict, add_special_tokens)\n",
    "        \n",
    "    @staticmethod\n",
    "    def get_inchi_corpus(inchi_column:pd.Series) -> dict[str]:\n",
    "        corpus, counter = {}, 0\n",
    "        for string in progress_bar(inchi_column):\n",
    "            try:\n",
    "                dissected = dissect_inchi(string)\n",
    "                for k, v in dissected.items():\n",
    "                    if k not in corpus:\n",
    "                        corpus[k] = [v]\n",
    "                    else:\n",
    "                        corpus[k].append(v)\n",
    "            except AssertionError:\n",
    "                counter += 1\n",
    "        if counter > 0:\n",
    "            print(f\"[Warning] Found {counter} assertions in data while creating layer-wise corpus.\")\n",
    "        return corpus\n",
    "    \n",
    "    @staticmethod\n",
    "    def create_main_layer_vocab(main_layer_corpus:list[str], return_pattern:bool=False) -> Union[Tuple[list, int], Tuple[list, int, str]]:\n",
    "        def tokenize(string):\n",
    "            tokens = re.split(pattern, string)\n",
    "            return list(filter(None, tokens))\n",
    "\n",
    "        data = elements.Elements\n",
    "        # All elements in periodic table\n",
    "        elems = sorted(data, key=lambda i:i.AtomicNumber)  # Based on their AtomicNumber\n",
    "        # Sort longer names first for regex pattern formation\n",
    "        element_symbols = sorted([e.Symbol for e in elems], key=lambda e: len(e), reverse=True)\n",
    "        # Create regex pattern\n",
    "        pattern = f\"({'|'.join([f'{e}[0-9]*' for e in element_symbols])})\"\n",
    "        vocab = [tokenize(string) for string in main_layer_corpus]\n",
    "        max_length = max(map(len, vocab))\n",
    "        vocab = np.unique([w for string in vocab for w in string]).tolist()\n",
    "        if return_pattern:\n",
    "            return vocab, max_length, pattern\n",
    "        return vocab, max_length\n",
    "    \n",
    "    @staticmethod\n",
    "    def create_slash_layer_vocab(layer_corpus:list[str], return_pattern:bool=False) -> Union[Tuple[list, int], Tuple[list, int, str]]:\n",
    "        def tokenize(string):\n",
    "            tokens = re.split(pattern, string)\n",
    "            return list(filter(None, tokens))\n",
    "            \n",
    "        pattern = r\"([\\d]*)\"\n",
    "        vocab = [tokenize(string) for string in layer_corpus]\n",
    "        max_length = max(map(len, vocab))\n",
    "        vocab = np.unique([w for string in vocab for w in string]).tolist()\n",
    "        if return_pattern:\n",
    "            return vocab, max_length, pattern\n",
    "        return vocab, max_length\n",
    "    \n",
    "    \n",
    "def unit_tests(corpus_dict:dict[list], max_lengths:dict[int]) -> str:\n",
    "    print(\"Checking main string length...\", end=' ')\n",
    "    main_flag = False\n",
    "    for string in progress_bar(corpus_dict['main_layer']):\n",
    "        if len(vocab.slash_layer_tokenizer(string)) == max_lengths[\"main_layer\"]:\n",
    "            main_flag = True\n",
    "    assert main_flag == True, \"Main string test failed :(\"\n",
    "    print(\"done!\")\n",
    "    del corpus_dict[\"main_layer\"]\n",
    "    for layer_name in corpus_dict.keys():\n",
    "        flag = False\n",
    "        print(f\"Checking {layer_name} string length...\", end=' ')\n",
    "        for string in progress_bar(corpus_dict[layer_name]):\n",
    "            if len(vocab.slash_layer_tokenizer(string)) == max_lengths[layer_name]:\n",
    "                flag = True\n",
    "        assert flag == True, f\"{layer_name} string test failed :(\"\n",
    "        print(\"done!\")\n",
    "    return \"ALL GOOD!\""
   ]
  },
  {
   "cell_type": "code",
   "execution_count": 144,
   "id": "automotive-coverage",
   "metadata": {
    "execution": {
     "iopub.execute_input": "2021-04-09T11:23:40.284933Z",
     "iopub.status.busy": "2021-04-09T11:23:40.284777Z",
     "iopub.status.idle": "2021-04-09T11:23:47.371928Z",
     "shell.execute_reply": "2021-04-09T11:23:47.371157Z",
     "shell.execute_reply.started": "2021-04-09T11:23:40.284914Z"
    },
    "scrolled": true,
    "tags": []
   },
   "outputs": [
    {
     "data": {
      "text/html": [
       "\n",
       "    <div>\n",
       "        <style>\n",
       "            /* Turns off some styling */\n",
       "            progress {\n",
       "                /* gets rid of default border in Firefox and Opera. */\n",
       "                border: none;\n",
       "                /* Needs to be in here for Safari polyfill so background images work as expected. */\n",
       "                background-size: auto;\n",
       "            }\n",
       "            .progress-bar-interrupted, .progress-bar-interrupted::-webkit-progress-bar {\n",
       "                background: #F44336;\n",
       "            }\n",
       "        </style>\n",
       "      <progress value='2424186' class='' max='2424186' style='width:300px; height:20px; vertical-align: middle;'></progress>\n",
       "      100.00% [2424186/2424186 00:07<00:00]\n",
       "    </div>\n",
       "    "
      ],
      "text/plain": [
       "<IPython.core.display.HTML object>"
      ]
     },
     "metadata": {},
     "output_type": "display_data"
    },
    {
     "name": "stdout",
     "output_type": "stream",
     "text": [
      "[Warning] Found 232 assertions in data while creating layer-wise corpus.\n"
     ]
    },
    {
     "data": {
      "text/plain": [
       "dict_keys(['main_layer', 'c_layer', 'h_layer', 't_layer', 'm_layer', 's_layer', 'b_layer', 'i_layer'])"
      ]
     },
     "execution_count": 144,
     "metadata": {},
     "output_type": "execute_result"
    }
   ],
   "source": [
    "corpus_dict = Vocab.get_inchi_corpus(dm.df.InChI)\n",
    "corpus_dict.keys()"
   ]
  },
  {
   "cell_type": "code",
   "execution_count": 149,
   "id": "certain-antarctica",
   "metadata": {
    "execution": {
     "iopub.execute_input": "2021-04-09T12:11:32.351174Z",
     "iopub.status.busy": "2021-04-09T12:11:32.350840Z",
     "iopub.status.idle": "2021-04-09T12:11:32.389123Z",
     "shell.execute_reply": "2021-04-09T12:11:32.388163Z",
     "shell.execute_reply.started": "2021-04-09T12:11:32.351134Z"
    },
    "tags": []
   },
   "outputs": [
    {
     "name": "stdout",
     "output_type": "stream",
     "text": [
      "CPU times: user 0 ns, sys: 2.34 ms, total: 2.34 ms\n",
      "Wall time: 9.76 ms\n"
     ]
    }
   ],
   "source": [
    "%%time \n",
    "\n",
    "# vocab = Vocab.from_corpus(corpus_dict)\n",
    "# vocab.save_vocab(VOCAB_FILEPATH)\n",
    "vocab = Vocab.from_file(VOCAB_FILEPATH)"
   ]
  },
  {
   "cell_type": "code",
   "execution_count": null,
   "id": "green-montgomery",
   "metadata": {
    "tags": []
   },
   "outputs": [],
   "source": []
  },
  {
   "cell_type": "code",
   "execution_count": null,
   "id": "organized-buddy",
   "metadata": {},
   "outputs": [],
   "source": []
  },
  {
   "cell_type": "code",
   "execution_count": null,
   "id": "pointed-assembly",
   "metadata": {},
   "outputs": [],
   "source": []
  },
  {
   "cell_type": "code",
   "execution_count": 15,
   "id": "numerical-configuration",
   "metadata": {
    "execution": {
     "iopub.execute_input": "2021-04-08T12:46:27.395380Z",
     "iopub.status.busy": "2021-04-08T12:46:27.395223Z",
     "iopub.status.idle": "2021-04-08T12:46:27.417405Z",
     "shell.execute_reply": "2021-04-08T12:46:27.416853Z",
     "shell.execute_reply.started": "2021-04-08T12:46:27.395361Z"
    },
    "tags": []
   },
   "outputs": [],
   "source": [
    "# imgs, inp_seqs, attn_masks = next(iter(trainloader))\n",
    "# tb_logger.experiment.add_images(\"Sample images\", imgs)\n",
    "\n",
    "\n",
    "# print(\"SAMPLE BATCH =\", imgs.shape)\n",
    "# fig, axes = plt.subplots(4, 8, figsize=(18, 10))\n",
    "# for i, ax in enumerate(axes.flat):\n",
    "#     ax.imshow(imgs[i].squeeze(0), cmap=\"gray\")\n",
    "#     ax.axis(\"off\")"
   ]
  },
  {
   "cell_type": "markdown",
   "id": "ranking-greece",
   "metadata": {
    "execution": {
     "iopub.execute_input": "2021-04-02T07:15:59.920534Z",
     "iopub.status.busy": "2021-04-02T07:15:59.920240Z",
     "iopub.status.idle": "2021-04-02T07:15:59.923276Z",
     "shell.execute_reply": "2021-04-02T07:15:59.922767Z",
     "shell.execute_reply.started": "2021-04-02T07:15:59.920510Z"
    },
    "tags": []
   },
   "source": [
    "# Model\n",
    "### At the time of sentence prediction can we use HMMs or [Beam Search](https://github.com/sgrvinod/a-PyTorch-Tutorial-to-Image-Captioning#overview) to make better decisions?\n",
    "\n",
    "Use different LSTM layers for each inchi substring like /c /h\n",
    "```\n",
    ">>> rnn = nn.LSTM(10, 20, 2)\n",
    ">>> input = torch.randn(1, 16, 10)\n",
    ">>> h0 = torch.randn(2, 16, 20)\n",
    ">>> c0 = torch.randn(2, 16, 20)\n",
    "```\n",
    "change number of layers here to num sublayers\n",
    "\n",
    "\n",
    "[Model from here](https://www.kaggle.com/yasufuminakama/inchi-resnet-lstm-with-attention-starter)"
   ]
  },
  {
   "cell_type": "code",
   "execution_count": 16,
   "id": "dated-brand",
   "metadata": {
    "execution": {
     "iopub.execute_input": "2021-04-08T12:46:27.418482Z",
     "iopub.status.busy": "2021-04-08T12:46:27.418256Z",
     "iopub.status.idle": "2021-04-08T12:46:27.455971Z",
     "shell.execute_reply": "2021-04-08T12:46:27.455378Z",
     "shell.execute_reply.started": "2021-04-08T12:46:27.418435Z"
    },
    "tags": []
   },
   "outputs": [],
   "source": [
    "class Encoder(nn.Module):\n",
    "    def __init__(self, model_name='resnet18', pretrained=False):\n",
    "        super().__init__()\n",
    "        self.cnn = timm.create_model(model_name, pretrained=pretrained)\n",
    "        self.cnn.conv1 = nn.Conv2d(1, 64, kernel_size=7, stride=2, padding=3, bias=False)\n",
    "        self.n_features = self.cnn.fc.in_features\n",
    "        self.cnn.global_pool = nn.Identity()\n",
    "        self.cnn.fc = nn.Identity()\n",
    "\n",
    "    def forward(self, x):\n",
    "        bs = x.size(0)\n",
    "        features = self.cnn(x)\n",
    "        features = features.permute(0, 2, 3, 1)\n",
    "        return features\n",
    "    \n",
    "class Attention(nn.Module):\n",
    "    \"\"\"\n",
    "    Attention network for calculate attention value\n",
    "    \"\"\"\n",
    "    def __init__(self, encoder_dim, decoder_dim, attention_dim):\n",
    "        \"\"\"\n",
    "        :param encoder_dim: input size of encoder network\n",
    "        :param decoder_dim: input size of decoder network\n",
    "        :param attention_dim: input size of attention network\n",
    "        \"\"\"\n",
    "        super(Attention, self).__init__()\n",
    "        self.encoder_att = nn.Linear(encoder_dim, attention_dim)  # linear layer to transform encoded image\n",
    "        self.decoder_att = nn.Linear(decoder_dim, attention_dim)  # linear layer to transform decoder's output\n",
    "        self.full_att = nn.Linear(attention_dim, 1)  # linear layer to calculate values to be softmax-ed\n",
    "        self.relu = nn.ReLU()\n",
    "        self.softmax = nn.Softmax(dim=1)  # softmax layer to calculate weights\n",
    "\n",
    "    def forward(self, encoder_out, decoder_hidden):\n",
    "        att1 = self.encoder_att(encoder_out)  # (batch_size, num_pixels, attention_dim)\n",
    "        att2 = self.decoder_att(decoder_hidden)  # (batch_size, attention_dim)\n",
    "        att = self.full_att(self.relu(att1 + att2.unsqueeze(1))).squeeze(2)  # (batch_size, num_pixels)\n",
    "        alpha = self.softmax(att)  # (batch_size, num_pixels)\n",
    "        attention_weighted_encoding = (encoder_out * alpha.unsqueeze(2)).sum(dim=1)  # (batch_size, encoder_dim)\n",
    "        return attention_weighted_encoding, alpha\n",
    "    \n",
    "class DecoderWithAttention(nn.Module):\n",
    "    \"\"\"Decoder network with attention network used for training\"\"\"\n",
    "\n",
    "    def __init__(self, attention_dim, embed_dim, decoder_dim, vocab_size, device, encoder_dim=512, dropout=0.5):\n",
    "        \"\"\"\n",
    "        :param attention_dim: input size of attention network\n",
    "        :param embed_dim: input size of embedding network\n",
    "        :param decoder_dim: input size of decoder network\n",
    "        :param vocab_size: total number of characters used in training\n",
    "        :param encoder_dim: input size of encoder network\n",
    "        :param dropout: dropout rate\n",
    "        \"\"\"\n",
    "        super().__init__()\n",
    "        self.encoder_dim = encoder_dim\n",
    "        self.attention_dim = attention_dim\n",
    "        self.embed_dim = embed_dim\n",
    "        self.decoder_dim = decoder_dim\n",
    "        self.vocab_size = vocab_size\n",
    "        self.dropout = dropout\n",
    "        self.device = device\n",
    "        self.attention = Attention(encoder_dim, decoder_dim, attention_dim)  # attention network\n",
    "        self.embedding = nn.Embedding(vocab_size, embed_dim)  # embedding layer\n",
    "        self.dropout = nn.Dropout(p=self.dropout)\n",
    "        self.decode_step = nn.LSTMCell(embed_dim + encoder_dim, decoder_dim, bias=True)  # decoding LSTMCell\n",
    "        self.init_h = nn.Linear(encoder_dim, decoder_dim)  # linear layer to find initial hidden state of LSTMCell\n",
    "        self.init_c = nn.Linear(encoder_dim, decoder_dim)  # linear layer to find initial cell state of LSTMCell\n",
    "        self.f_beta = nn.Linear(decoder_dim, encoder_dim)  # linear layer to create a sigmoid-activated gate\n",
    "        self.sigmoid = nn.Sigmoid()\n",
    "        self.fc = nn.Linear(decoder_dim, vocab_size)  # linear layer to find scores over vocabulary\n",
    "        self.init_weights()  # initialize some layers with the uniform distribution\n",
    "\n",
    "    def init_weights(self):\n",
    "        self.embedding.weight.data.uniform_(-0.1, 0.1)\n",
    "        self.fc.bias.data.fill_(0)\n",
    "        self.fc.weight.data.uniform_(-0.1, 0.1)\n",
    "\n",
    "    def load_pretrained_embeddings(self, embeddings):\n",
    "        self.embedding.weight = nn.Parameter(embeddings)\n",
    "\n",
    "    def fine_tune_embeddings(self, fine_tune=True):\n",
    "        for p in self.embedding.parameters():\n",
    "            p.requires_grad = fine_tune\n",
    "\n",
    "    def init_hidden_state(self, encoder_out):\n",
    "        mean_encoder_out = encoder_out.mean(dim=1)\n",
    "        h = self.init_h(mean_encoder_out)  # (batch_size, decoder_dim)\n",
    "        c = self.init_c(mean_encoder_out)\n",
    "        return h, c\n",
    "\n",
    "    def forward(self, encoder_out, encoded_captions, caption_lengths):\n",
    "        \"\"\"\n",
    "        :param encoder_out: output of encoder network\n",
    "        :param encoded_captions: transformed sequence from character to integer\n",
    "        :param caption_lengths: length of transformed sequence\n",
    "        \"\"\"\n",
    "        batch_size = encoder_out.size(0)\n",
    "        encoder_dim = encoder_out.size(-1)\n",
    "        vocab_size = self.vocab_size\n",
    "        encoder_out = encoder_out.view(batch_size, -1, encoder_dim)  # (batch_size, num_pixels, encoder_dim)\n",
    "        num_pixels = encoder_out.size(1)\n",
    "        caption_lengths, sort_ind = caption_lengths.squeeze(1).sort(dim=0, descending=True)\n",
    "        encoder_out = encoder_out[sort_ind]\n",
    "        encoded_captions = encoded_captions[sort_ind]\n",
    "        # embedding transformed sequence for vector\n",
    "        embeddings = self.embedding(encoded_captions)  # (batch_size, max_caption_length, embed_dim)\n",
    "        # initialize hidden state and cell state of LSTM cell\n",
    "        h, c = self.init_hidden_state(encoder_out)  # (batch_size, decoder_dim)\n",
    "        # set decode length by caption length - 1 because of omitting start token\n",
    "        decode_lengths = (caption_lengths - 1).tolist()\n",
    "        predictions = torch.zeros(batch_size, max(decode_lengths), vocab_size).to(self.device)\n",
    "        alphas = torch.zeros(batch_size, max(decode_lengths), num_pixels).to(self.device)\n",
    "        # predict sequence\n",
    "        for t in range(max(decode_lengths)):\n",
    "            batch_size_t = sum([l > t for l in decode_lengths])\n",
    "            attention_weighted_encoding, alpha = self.attention(encoder_out[:batch_size_t], h[:batch_size_t])\n",
    "            gate = self.sigmoid(self.f_beta(h[:batch_size_t]))  # gating scalar, (batch_size_t, encoder_dim)\n",
    "            attention_weighted_encoding = gate * attention_weighted_encoding\n",
    "            h, c = self.decode_step(\n",
    "                torch.cat([embeddings[:batch_size_t, t, :], attention_weighted_encoding], dim=1),\n",
    "                (h[:batch_size_t], c[:batch_size_t]))  # (batch_size_t, decoder_dim)\n",
    "            preds = self.fc(self.dropout(h))  # (batch_size_t, vocab_size)\n",
    "            predictions[:batch_size_t, t, :] = preds\n",
    "            alphas[:batch_size_t, t, :] = alpha\n",
    "        return predictions, encoded_captions, decode_lengths, alphas, sort_ind\n",
    "    \n",
    "    def predict(self, encoder_out, decode_lengths, tokenizer):\n",
    "        batch_size = encoder_out.size(0)\n",
    "        encoder_dim = encoder_out.size(-1)\n",
    "        vocab_size = self.vocab_size\n",
    "        encoder_out = encoder_out.view(batch_size, -1, encoder_dim)  # (batch_size, num_pixels, encoder_dim)\n",
    "        num_pixels = encoder_out.size(1)\n",
    "        # embed start tocken for LSTM input\n",
    "        start_tockens = torch.ones(batch_size, dtype=torch.long).to(self.device) * tokenizer.stoi[\"<sos>\"]\n",
    "        embeddings = self.embedding(start_tockens)\n",
    "        # initialize hidden state and cell state of LSTM cell\n",
    "        h, c = self.init_hidden_state(encoder_out)  # (batch_size, decoder_dim)\n",
    "        predictions = torch.zeros(batch_size, decode_lengths, vocab_size).to(self.device)\n",
    "        # predict sequence\n",
    "        for t in range(decode_lengths):\n",
    "            attention_weighted_encoding, alpha = self.attention(encoder_out, h)\n",
    "            gate = self.sigmoid(self.f_beta(h))  # gating scalar, (batch_size_t, encoder_dim)\n",
    "            attention_weighted_encoding = gate * attention_weighted_encoding\n",
    "            h, c = self.decode_step(\n",
    "                torch.cat([embeddings, attention_weighted_encoding], dim=1),\n",
    "                (h, c))  # (batch_size_t, decoder_dim)\n",
    "            preds = self.fc(self.dropout(h))  # (batch_size_t, vocab_size)\n",
    "            predictions[:, t, :] = preds\n",
    "            if np.argmax(preds.detach().cpu().numpy()) == tokenizer.stoi[\"<eos>\"]:\n",
    "                break\n",
    "            embeddings = self.embedding(torch.argmax(preds, -1))\n",
    "        return predictions"
   ]
  },
  {
   "cell_type": "code",
   "execution_count": 17,
   "id": "sufficient-portable",
   "metadata": {
    "execution": {
     "iopub.execute_input": "2021-04-08T12:46:27.456822Z",
     "iopub.status.busy": "2021-04-08T12:46:27.456667Z",
     "iopub.status.idle": "2021-04-08T12:46:27.479105Z",
     "shell.execute_reply": "2021-04-08T12:46:27.478498Z",
     "shell.execute_reply.started": "2021-04-08T12:46:27.456803Z"
    },
    "tags": []
   },
   "outputs": [],
   "source": [
    "# encoder_net = Encoder()\n",
    "# encoder_net(imgs).shape"
   ]
  },
  {
   "cell_type": "markdown",
   "id": "under-conditions",
   "metadata": {
    "execution": {
     "iopub.execute_input": "2021-04-08T09:09:45.905230Z",
     "iopub.status.busy": "2021-04-08T09:09:45.905073Z",
     "iopub.status.idle": "2021-04-08T09:09:45.952877Z",
     "shell.execute_reply": "2021-04-08T09:09:45.952451Z",
     "shell.execute_reply.started": "2021-04-08T09:09:45.905211Z"
    },
    "tags": []
   },
   "source": [
    "Network commented in this cell below DID NOT WORKED WELL. FALLING BACK...\n",
    "<!-- class Encoder(nn.Module):\n",
    "    def __init__(self, model_name='resnet18', pretrained=False, out_channels=512):\n",
    "        super().__init__()\n",
    "        last_stride = 2 if INP_SIZE[0] == 256 else 1\n",
    "        self.cnn = timm.create_model(model_name, pretrained=pretrained)\n",
    "        self.cnn.conv1 = nn.Conv2d(1, 64, kernel_size=7, stride=2, padding=3, bias=False)\n",
    "        self.out_channels = out_channels\n",
    "        self.cnn.global_pool = nn.Identity()\n",
    "        self.cnn.fc = nn.Identity()\n",
    "        self.resout = nn.Sequential(\n",
    "            nn.Conv2d(512, out_channels, kernel_size=3, stride=last_stride, padding=1, bias=False),\n",
    "            nn.BatchNorm2d(out_channels),\n",
    "            nn.ReLU(True)\n",
    "        )\n",
    "        self.encout = nn.Sequential(\n",
    "            nn.Conv1d(16, 1, kernel_size=3, stride=1, padding=1, bias=False),\n",
    "            nn.BatchNorm1d(1),\n",
    "        )\n",
    "        \n",
    "    def forward(self, x):\n",
    "        out = self.cnn(x)\n",
    "        out = self.resout(out)\n",
    "        out = out.view(x.size(0), self.out_channels, -1)\n",
    "        out = out.permute(0,2,1)\n",
    "        out = self.encout(out).squeeze(1)\n",
    "#         print(\"ENC out =\", out.shape)\n",
    "        return out\n",
    "\n",
    "class Decoder(nn.Module):\n",
    "    def __init__(self, vocab_size, enc_out_channels=512):\n",
    "        super().__init__()\n",
    "        self.embd = nn.Embedding(vocab_size, EMB_SIZE)\n",
    "        self.lstm = nn.LSTM(enc_out_channels, vocab_size, batch_first=True)\n",
    "        self.encfc = nn.Linear(enc_out_channels, vocab_size)\n",
    "        self.embfc = nn.Linear(vocab_size, vocab_size)\n",
    "    \n",
    "    def forward(self, encoder_out, inp_seqs):\n",
    "        encoder_out = self.encfc(encoder_out)\n",
    "        encoder_out = encoder_out.unsqueeze(1)\n",
    "#         print(\"encoder_out =\", encoder_out.shape)\n",
    "        \n",
    "        emb = self.embd(inp_seqs)\n",
    "        lstm_out, _ = self.lstm(emb)\n",
    "#         lstm_out = lstm_out.reshape(encoder_out.size(0), -1)\n",
    "#         print(\"lstm_out =\", lstm_out.shape)\n",
    "        enc_out = torch.repeat_interleave(encoder_out, lstm_out.size(1), dim=1)\n",
    "#         print(\"enc_out =\", enc_out.shape)\n",
    "        out = lstm_out + enc_out\n",
    "#         for i in range(lstm_out.size(1)):\n",
    "#             lstm_out[:,i,:] = self.embfc(lstm_out[:,i,:])\n",
    "#             lstm_out[:,i,:] = lstm_out[:,i,:] + encoder_out\n",
    "#         print(\"lstm_out after for =\", lstm_out.shape)\n",
    "        return out\n",
    "    \n",
    "    def predict(self, encoder_out, tokenizer):\n",
    "#         print(encoder_out.shape)\n",
    "        encoder_out = self.encfc(encoder_out)\n",
    "        bs = encoder_out.size(0)\n",
    "        syn_inp_seqs = torch.tensor(tokenizer.vocab.ctoi(tokenizer.vocab.bos_token), device=encoder_out.device)\n",
    "        syn_inp_seqs = torch.repeat_interleave(syn_inp_seqs, bs)\n",
    "        syn_inp_seqs = syn_inp_seqs.view(bs, 1)\n",
    "        \n",
    "        # Predict next tokens to start token\n",
    "        pred_emb = []\n",
    "        for i in range(MAX_LEN):\n",
    "            emb = self.embd(syn_inp_seqs)\n",
    "            pred, _ = self.lstm(emb)\n",
    "            pred = pred.squeeze(1)\n",
    "            \n",
    "#             pred = self.embfc(pred)\n",
    "            pred = pred + encoder_out\n",
    "            pred = pred.unsqueeze(1)\n",
    "            pred_emb.append(pred)\n",
    "            syn_inp_seqs = pred.argmax(dim=-1)\n",
    "#         print(\"len =\", len(pred_emb))\n",
    "        pred_emb = torch.cat(pred_emb, dim=1)\n",
    "        return pred_emb\n",
    "            \n",
    "class InChINet(pl.LightningModule):\n",
    "    def __init__(self, vocab_size, tokenizer):\n",
    "        super().__init__()\n",
    "        self.tokenizer = tokenizer\n",
    "        self.encoder_net = Encoder()\n",
    "        self.decoder_net = Decoder(vocab_size)\n",
    "        self.loss_fn = nn.CrossEntropyLoss()\n",
    "        \n",
    "    def forward(self, imgs, inp_seqs):\n",
    "        encoder_out = self.encoder_net(imgs)\n",
    "#         print(\"Encoder =\", encoder_out.shape)\n",
    "        pred_tokens = self.decoder_net(encoder_out, inp_seqs)\n",
    "        return pred_tokens\n",
    "    \n",
    "    def training_step(self, train_batch, batch_idx):\n",
    "        imgs, inp_seqs, attn_masks = train_batch\n",
    "        output = self.forward(imgs, inp_seqs)\n",
    "        loss = self.loss_fn(output.permute(0,2,1).float(), inp_seqs)\n",
    "        # Logging to TensorBoard by default\n",
    "        self.log('train_loss', loss, on_step=True, on_epoch=True, logger=True)\n",
    "        return loss\n",
    "    \n",
    "    def training_epoch_end(self, outputs):\n",
    "        for name,params in self.named_parameters():\n",
    "            self.logger.experiment.add_histogram(name, params, self.current_epoch)\n",
    "    \n",
    "    def validation_step(self, val_batch, batch_idx):\n",
    "        imgs, inp_seqs, attn_masks = val_batch\n",
    "        output = self.predict(imgs, self.tokenizer)\n",
    "        loss = self.loss_fn(output.permute(0,2,1).float(), inp_seqs)\n",
    "        self.log('val_loss', loss, on_step=True, on_epoch=True, logger=True)\n",
    "        \n",
    "        lv_metric = self.calculate_lvdistance(output, inp_seqs)\n",
    "        self.logger.log_metrics({\"LvDistance\": lv_metric}, step=1)\n",
    "        return loss\n",
    "    \n",
    "    def predict(self, imgs, tokenizer):\n",
    "        encoder_out = self.encoder_net(imgs)\n",
    "        pred_tokens = self.decoder_net.predict(encoder_out, tokenizer)\n",
    "        return pred_tokens\n",
    "\n",
    "    def configure_optimizers(self):\n",
    "        optimizer = torch.optim.Adam(self.parameters(), lr=1e-2)\n",
    "        lr_scheduler = {\n",
    "            'scheduler': torch.optim.lr_scheduler.OneCycleLR(optimizer, LR, epochs=EPOCHS, steps_per_epoch=8996),\n",
    "            'name': 'OneCycleLR'\n",
    "        }\n",
    "        return [optimizer], [lr_scheduler]\n",
    "    \n",
    "    def inference(self, imgs):\n",
    "        output = self.predict(imgs, self.tokenizer)\n",
    "        return self.postprocessing(output)\n",
    "    \n",
    "    def calculate_lvdistance(self, output, target):\n",
    "        pred_seqs = self.postprocessing(output)\n",
    "        batch_distance = np.mean([\n",
    "            Levenshtein.distance(pred_seq, self.tokenizer.decode(inp_seq))\n",
    "            for pred_seq, inp_seq in zip(pred_seqs, target)\n",
    "        ])\n",
    "        return batch_distance\n",
    "    \n",
    "    def postprocessing(self, output):\n",
    "        final_preds = []\n",
    "        pred_tokens = output.argmax(dim=-1)\n",
    "        for i in range(pred_tokens.size(0)): # iterate on each sample\n",
    "            pred = pred_tokens[i].unique(dim=-1).tolist()\n",
    "            pred = self.tokenizer.decode(pred)\n",
    "            res = re.search(r'C', pred)\n",
    "            if res:\n",
    "                pred = pred[res.span()[0]:]\n",
    "            final_preds.append(pred)\n",
    "        return final_preds\n",
    "    \n",
    "\n",
    "# dm = ImgToInChIDataModule(tb_logger=tb_logger)\n",
    "# dm.prepare_data(verbose=True)\n",
    "# dm.setup('fit')\n",
    "# imgs, inp_seqs, attn_masks = next(iter(dm.train_dataloader()))\n",
    "\n",
    "# encoder_net = Encoder()\n",
    "# encoder_out = encoder_net(imgs)\n",
    "# print(\"Encoder =\", encoder_out.shape)\n",
    "\n",
    "# decoder_net = Decoder(dm.vocab_size)\n",
    "# pred_tokens = decoder_net(encoder_out, inp_seqs)\n",
    "# print(pred_tokens.shape)\n",
    "\n",
    "# pred_tokens = decoder_net.predict(encoder_out, dm.tokenizer)\n",
    "# pred_tokens.shape -->"
   ]
  },
  {
   "cell_type": "code",
   "execution_count": 18,
   "id": "clinical-airline",
   "metadata": {
    "execution": {
     "iopub.execute_input": "2021-04-08T12:46:27.480088Z",
     "iopub.status.busy": "2021-04-08T12:46:27.479930Z",
     "iopub.status.idle": "2021-04-08T12:46:27.516551Z",
     "shell.execute_reply": "2021-04-08T12:46:27.515883Z",
     "shell.execute_reply.started": "2021-04-08T12:46:27.480069Z"
    }
   },
   "outputs": [],
   "source": [
    "class Encoder(nn.Module):\n",
    "    def __init__(self, model_name='resnet18', pretrained=False, out_channels=512):\n",
    "        super().__init__()\n",
    "        last_stride = 2 if INP_SIZE[0] == 256 else 1\n",
    "        self.cnn = timm.create_model(model_name, pretrained=pretrained)\n",
    "        self.cnn.conv1 = nn.Conv2d(1, 64, kernel_size=7, stride=2, padding=3, bias=False)\n",
    "        self.out_channels = out_channels\n",
    "        self.cnn.global_pool = nn.Identity()\n",
    "        self.cnn.fc = nn.Identity()\n",
    "        self.outfc = nn.Sequential(\n",
    "            nn.Conv2d(512, out_channels, kernel_size=3, stride=last_stride, padding=1, bias=False),\n",
    "            nn.BatchNorm2d(out_channels),\n",
    "            nn.ReLU(True)\n",
    "        )\n",
    "#         self.maxpool = nn.MaxPool2d(4,1,ceil_mode=True)\n",
    "\n",
    "    def forward(self, x):\n",
    "        out = self.cnn(x)\n",
    "        out = self.outfc(out)\n",
    "        out = out.view(x.size(0), self.out_channels, -1)\n",
    "        out = out.permute(0, 2, 1)\n",
    "        \n",
    "#         out = self.maxpool(out)\n",
    "#         out = out.view(out.size(0), -1)\n",
    "        return out\n",
    "\n",
    "class Decoder(nn.Module):\n",
    "    def __init__(self, vocab_size, enc_out_channels=512, device=torch.device(\"cuda\")):\n",
    "        super().__init__()\n",
    "        \n",
    "        \n",
    "        self.embd = nn.Embedding(vocab_size, EMB_SIZE)\n",
    "        \n",
    "        self.init_h = nn.Linear(enc_out_channels, MAX_LEN)  # linear layer to find initial hidden state\n",
    "        self.init_c = nn.Linear(enc_out_channels, MAX_LEN)  # linear layer to find initial cell state\n",
    "        self.lstm = nn.LSTM(enc_out_channels, vocab_size, batch_first=True)\n",
    "        self.decfc = nn.Linear(64, MAX_LEN)\n",
    "        \n",
    "        self.softmax = nn.Softmax(dim=-1)\n",
    "        self.device = device\n",
    "    \n",
    "    def init_hidden_state(self, encoder_out):\n",
    "        mean_encoder_out = encoder_out.mean(dim=1)\n",
    "        h = self.init_h(mean_encoder_out)  # (batch_size, decoder_dim)\n",
    "        c = self.init_c(mean_encoder_out)\n",
    "        return h, c\n",
    "    \n",
    "    def forward(self, encoder_out, inp_seqs):\n",
    "#         print(\"inp_seq before emb =\", inp_seqs.shape)\n",
    "        emb = self.embd(inp_seqs)\n",
    "#         print(f\"emb = {emb.shape}, encoder_out = {encoder_out.shape}\")\n",
    "        lstm_out, _ = self.lstm(emb)\n",
    "        out = lstm_out + encoder_out\n",
    "        return out\n",
    "    \n",
    "    def predict(self, encoder_out, tokenizer):\n",
    "        bs = encoder_out.size(0)\n",
    "        syn_inp_seqs = torch.tensor(tokenizer.vocab.ctoi(tokenizer.vocab.bos_token), device=encoder_out.device)\n",
    "        syn_inp_seqs = torch.repeat_interleave(syn_inp_seqs, bs)\n",
    "        syn_inp_seqs = syn_inp_seqs.view(bs, 1)\n",
    "#         print(\"syn_inp_seqs before emb =\", syn_inp_seqs.shape)\n",
    "        \n",
    "        # Predict next tokens to start token\n",
    "        pred_emb = []\n",
    "        for i in range(MAX_LEN):\n",
    "            emb = self.embd(syn_inp_seqs)\n",
    "            pred, _ = self.lstm(emb)\n",
    "            pred_emb.append(pred)\n",
    "            syn_inp_seqs = pred.argmax(dim=-1)\n",
    "#         print(\"len =\", len(pred_emb))\n",
    "        pred_emb = torch.cat(pred_emb, dim=1)\n",
    "#         print(\"pred_emb =\", pred_emb.shape)\n",
    "        out = pred_emb + encoder_out\n",
    "        return out\n",
    "            \n",
    "class InChINet(pl.LightningModule):\n",
    "    def __init__(self, vocab_size, tokenizer):\n",
    "        super().__init__()\n",
    "        self.tokenizer = tokenizer\n",
    "        self.encoder_net = Encoder(out_channels=vocab_size)\n",
    "        self.decoder_net = Decoder(vocab_size)\n",
    "        self.loss_fn = nn.CrossEntropyLoss()\n",
    "        \n",
    "    def forward(self, imgs, inp_seqs):\n",
    "        encoder_out = self.encoder_net(imgs)\n",
    "#         print(\"Encoder =\", encoder_out.shape)\n",
    "        pred_tokens = self.decoder_net(encoder_out, inp_seqs)\n",
    "        return pred_tokens\n",
    "    \n",
    "    def training_step(self, train_batch, batch_idx):\n",
    "        imgs, inp_seqs, attn_masks = train_batch\n",
    "        output = self.forward(imgs, inp_seqs)\n",
    "        loss = self.loss_fn(output.permute(0,2,1).float(), inp_seqs)\n",
    "        # Logging to TensorBoard by default\n",
    "        self.log('train_loss', loss, on_step=True, on_epoch=True, logger=True)\n",
    "        return loss\n",
    "    \n",
    "    def training_epoch_end(self, outputs):\n",
    "        for name,params in self.named_parameters():\n",
    "            self.logger.experiment.add_histogram(name, params, self.current_epoch)\n",
    "    \n",
    "    def validation_step(self, val_batch, batch_idx):\n",
    "        imgs, inp_seqs, attn_masks = val_batch\n",
    "        output = self.predict(imgs, self.tokenizer)\n",
    "        loss = self.loss_fn(output.permute(0,2,1).float(), inp_seqs)\n",
    "        self.log('val_loss', loss, on_step=True, on_epoch=True, logger=True)\n",
    "        \n",
    "        lv_metric = self.calculate_lvdistance(output, inp_seqs)\n",
    "        self.logger.log_metrics({\"LvDistance\": lv_metric}, step=1)\n",
    "        return loss\n",
    "    \n",
    "    def predict(self, imgs, tokenizer):\n",
    "        encoder_out = self.encoder_net(imgs)\n",
    "        pred_tokens = self.decoder_net.predict(encoder_out, tokenizer)\n",
    "        return pred_tokens\n",
    "\n",
    "    def configure_optimizers(self):\n",
    "        optimizer = torch.optim.Adam(self.parameters(), lr=1e-2)\n",
    "        lr_scheduler = {\n",
    "            'scheduler': torch.optim.lr_scheduler.CosineAnnealingLR(optimizer, 100),\n",
    "            'name': 'AnnealingLR'\n",
    "        }\n",
    "        return [optimizer], [lr_scheduler]\n",
    "    \n",
    "    def inference(self, imgs):\n",
    "        output = self.predict(imgs, self.tokenizer)\n",
    "        return self.postprocessing(output)\n",
    "    \n",
    "    def calculate_lvdistance(self, output, target):\n",
    "        pred_seqs = self.postprocessing(output)\n",
    "        batch_distance = np.mean([\n",
    "            Levenshtein.distance(pred_seq, self.tokenizer.decode(inp_seq))\n",
    "            for pred_seq, inp_seq in zip(pred_seqs, target)\n",
    "        ])\n",
    "        return batch_distance\n",
    "    \n",
    "    def postprocessing(self, output):\n",
    "        final_preds = []\n",
    "        pred_tokens = output.argmax(dim=-1)\n",
    "        for i in range(pred_tokens.size(0)): # iterate on each sample\n",
    "            pred = pred_tokens[i].unique(dim=-1).tolist()\n",
    "            pred = self.tokenizer.decode(pred)\n",
    "            res = re.search(r'C', pred)\n",
    "            if res:\n",
    "                pred = pred[res.span()[0]:]\n",
    "            final_preds.append(pred)\n",
    "        return final_preds\n",
    "    \n",
    "# encoder_net = Encoder()\n",
    "# decoder_net = Decoder(len(vocab))\n",
    "# encoder_out = encoder_net(imgs)\n",
    "# print(\"Encoder =\", encoder_out.shape)\n",
    "# print(inp_seqs.shape)\n",
    "# pred_tokens = decoder_net(encoder_out, inp_seqs, tokenizer)\n",
    "# print(pred_tokens.shape)\n",
    "# pred_tokens = decoder_net.predict(encoder_out, tokenizer)\n",
    "# pred_tokens.shape"
   ]
  },
  {
   "cell_type": "markdown",
   "id": "junior-redhead",
   "metadata": {},
   "source": [
    "# Training and Validation"
   ]
  },
  {
   "cell_type": "code",
   "execution_count": 19,
   "id": "activated-doctor",
   "metadata": {
    "execution": {
     "iopub.execute_input": "2021-04-08T12:46:27.517479Z",
     "iopub.status.busy": "2021-04-08T12:46:27.517332Z",
     "iopub.status.idle": "2021-04-08T14:35:53.582761Z",
     "shell.execute_reply": "2021-04-08T14:35:53.581981Z",
     "shell.execute_reply.started": "2021-04-08T12:46:27.517461Z"
    },
    "tags": []
   },
   "outputs": [
    {
     "name": "stdout",
     "output_type": "stream",
     "text": [
      "Loading labels data... DONE!\n",
      "Loading paths... DONE!\n",
      "Loading vocab and tokenizer... DONE!\n"
     ]
    },
    {
     "name": "stderr",
     "output_type": "stream",
     "text": [
      "GPU available: True, used: True\n",
      "TPU available: None, using: 0 TPU cores\n",
      "Using native 16bit precision.\n",
      "LOCAL_RANK: 0 - CUDA_VISIBLE_DEVICES: [0]\n",
      "\n",
      "  | Name        | Type             | Params\n",
      "-------------------------------------------------\n",
      "0 | encoder_net | Encoder          | 13.2 M\n",
      "1 | decoder_net | Decoder          | 1.9 M \n",
      "2 | loss_fn     | CrossEntropyLoss | 0     \n",
      "-------------------------------------------------\n",
      "15.0 M    Trainable params\n",
      "0         Non-trainable params\n",
      "15.0 M    Total params\n",
      "60.055    Total estimated model params size (MB)\n"
     ]
    },
    {
     "data": {
      "application/vnd.jupyter.widget-view+json": {
       "model_id": "",
       "version_major": 2,
       "version_minor": 0
      },
      "text/plain": [
       "Validation sanity check: 0it [00:00, ?it/s]"
      ]
     },
     "metadata": {},
     "output_type": "display_data"
    },
    {
     "data": {
      "application/vnd.jupyter.widget-view+json": {
       "model_id": "628d5f7485904a98b34ef13a3a76de8f",
       "version_major": 2,
       "version_minor": 0
      },
      "text/plain": [
       "Training: 0it [00:00, ?it/s]"
      ]
     },
     "metadata": {},
     "output_type": "display_data"
    },
    {
     "data": {
      "application/vnd.jupyter.widget-view+json": {
       "model_id": "",
       "version_major": 2,
       "version_minor": 0
      },
      "text/plain": [
       "Validating: 0it [00:00, ?it/s]"
      ]
     },
     "metadata": {},
     "output_type": "display_data"
    },
    {
     "name": "stderr",
     "output_type": "stream",
     "text": [
      "\n",
      "\n",
      "Profiler Report\n",
      "\n",
      "Action                             \t|  Mean duration (s)\t|Num calls      \t|  Total time (s) \t|  Percentage %   \t|\n",
      "------------------------------------------------------------------------------------------------------------------------------------\n",
      "Total                              \t|  -              \t|_              \t|  6560.8         \t|  100 %          \t|\n",
      "------------------------------------------------------------------------------------------------------------------------------------\n",
      "run_training_epoch                 \t|  6548.0         \t|1              \t|  6548.0         \t|  99.804         \t|\n",
      "run_training_batch                 \t|  0.69379        \t|8996           \t|  6241.3         \t|  95.13          \t|\n",
      "optimizer_step_and_closure_0       \t|  0.68856        \t|8996           \t|  6194.3         \t|  94.414         \t|\n",
      "training_step_and_backward         \t|  0.21319        \t|8996           \t|  1917.9         \t|  29.232         \t|\n",
      "model_backward                     \t|  0.20312        \t|8996           \t|  1827.3         \t|  27.851         \t|\n",
      "evaluation_step_and_end            \t|  0.29826        \t|476            \t|  141.97         \t|  2.164          \t|\n",
      "validation_step                    \t|  0.29788        \t|476            \t|  141.79         \t|  2.1612         \t|\n",
      "model_forward                      \t|  0.0089229      \t|8996           \t|  80.27          \t|  1.2235         \t|\n",
      "training_step                      \t|  0.0085843      \t|8996           \t|  77.224         \t|  1.1771         \t|\n",
      "on_train_batch_end                 \t|  0.0022145      \t|8996           \t|  19.921         \t|  0.30364        \t|\n",
      "get_train_batch                    \t|  0.00073156     \t|8996           \t|  6.5812         \t|  0.10031        \t|\n",
      "on_validation_batch_end            \t|  0.0026536      \t|476            \t|  1.2631         \t|  0.019253       \t|\n",
      "cache_result                       \t|  2.6879e-05     \t|46428          \t|  1.2479         \t|  0.019021       \t|\n",
      "on_validation_end                  \t|  0.47031        \t|2              \t|  0.94062        \t|  0.014337       \t|\n",
      "on_batch_start                     \t|  2.823e-05      \t|8996           \t|  0.25396        \t|  0.0038708      \t|\n",
      "on_train_batch_start               \t|  2.6497e-05     \t|8996           \t|  0.23836        \t|  0.0036331      \t|\n",
      "on_before_zero_grad                \t|  2.2734e-05     \t|8996           \t|  0.20452        \t|  0.0031172      \t|\n",
      "on_after_backward                  \t|  2.2301e-05     \t|8996           \t|  0.20062        \t|  0.0030579      \t|\n",
      "on_batch_end                       \t|  1.8822e-05     \t|8996           \t|  0.16932        \t|  0.0025808      \t|\n",
      "training_step_end                  \t|  1.5817e-05     \t|8996           \t|  0.14229        \t|  0.0021688      \t|\n",
      "on_train_end                       \t|  0.075964       \t|1              \t|  0.075964       \t|  0.0011578      \t|\n",
      "on_train_start                     \t|  0.042653       \t|1              \t|  0.042653       \t|  0.00065012     \t|\n",
      "on_validation_start                \t|  0.013981       \t|2              \t|  0.027961       \t|  0.00042618     \t|\n",
      "on_validation_batch_start          \t|  2.4833e-05     \t|476            \t|  0.01182        \t|  0.00018017     \t|\n",
      "validation_step_end                \t|  1.3277e-05     \t|476            \t|  0.0063199      \t|  9.6328e-05     \t|\n",
      "on_epoch_start                     \t|  0.0016627      \t|1              \t|  0.0016627      \t|  2.5343e-05     \t|\n",
      "on_validation_epoch_start          \t|  1.8614e-05     \t|2              \t|  3.7228e-05     \t|  5.6743e-07     \t|\n",
      "on_epoch_end                       \t|  1.0083e-05     \t|3              \t|  3.025e-05      \t|  4.6107e-07     \t|\n",
      "on_validation_epoch_end            \t|  1.3545e-05     \t|2              \t|  2.709e-05      \t|  4.1291e-07     \t|\n",
      "on_fit_start                       \t|  2.4966e-05     \t|1              \t|  2.4966e-05     \t|  3.8053e-07     \t|\n",
      "on_train_epoch_end                 \t|  2.2248e-05     \t|1              \t|  2.2248e-05     \t|  3.3911e-07     \t|\n",
      "on_before_accelerator_backend_setup\t|  1.9282e-05     \t|1              \t|  1.9282e-05     \t|  2.939e-07      \t|\n",
      "on_train_epoch_start               \t|  1.2782e-05     \t|1              \t|  1.2782e-05     \t|  1.9482e-07     \t|\n",
      "\n"
     ]
    },
    {
     "data": {
      "text/plain": [
       "1"
      ]
     },
     "execution_count": 19,
     "metadata": {},
     "output_type": "execute_result"
    }
   ],
   "source": [
    "# %tensorboard --logdir {CHKPTDIR}\n",
    "\n",
    "dm = ImgToInChIDataModule(tb_logger=tb_logger)\n",
    "dm.prepare_data(verbose=True)\n",
    "\n",
    "model = InChINet(dm.vocab_size, dm.tokenizer)\n",
    "# Add network graph to tensorboard\n",
    "# tb_logger.log_graph(model, [imgs[0].unsqueeze(0).to(model.device), inp_seqs[0].unsqueeze(0).to(model.device)])\n",
    "lr_monitor = pl.callbacks.LearningRateMonitor(logging_interval='step')\n",
    "\n",
    "trainer = pl.Trainer(gpus=1, auto_lr_find=True, max_epochs=1, precision=PRECISION, profiler=\"simple\", \n",
    "                     default_root_dir=CHKPTDIR, logger=tb_logger, callbacks=[lr_monitor])\n",
    "\n",
    "trainer.fit(model, dm)"
   ]
  },
  {
   "cell_type": "code",
   "execution_count": 25,
   "id": "tribal-estimate",
   "metadata": {
    "execution": {
     "iopub.execute_input": "2021-04-08T15:45:34.014025Z",
     "iopub.status.busy": "2021-04-08T15:45:34.013775Z",
     "iopub.status.idle": "2021-04-08T15:49:48.510185Z",
     "shell.execute_reply": "2021-04-08T15:49:48.509412Z",
     "shell.execute_reply.started": "2021-04-08T15:45:34.014001Z"
    },
    "tags": []
   },
   "outputs": [
    {
     "data": {
      "text/html": [
       "\n",
       "    <div>\n",
       "        <style>\n",
       "            /* Turns off some styling */\n",
       "            progress {\n",
       "                /* gets rid of default border in Firefox and Opera. */\n",
       "                border: none;\n",
       "                /* Needs to be in here for Safari polyfill so background images work as expected. */\n",
       "                background-size: auto;\n",
       "            }\n",
       "            .progress-bar-interrupted, .progress-bar-interrupted::-webkit-progress-bar {\n",
       "                background: #F44336;\n",
       "            }\n",
       "        </style>\n",
       "      <progress value='474' class='' max='474' style='width:300px; height:20px; vertical-align: middle;'></progress>\n",
       "      100.00% [474/474 04:14<00:00]\n",
       "    </div>\n",
       "    "
      ],
      "text/plain": [
       "<IPython.core.display.HTML object>"
      ]
     },
     "metadata": {},
     "output_type": "display_data"
    },
    {
     "data": {
      "text/plain": [
       "2.6722135137364904"
      ]
     },
     "execution_count": 25,
     "metadata": {},
     "output_type": "execute_result"
    }
   ],
   "source": [
    "device = torch.device(\"cuda\")\n",
    "total_distance = []\n",
    "for (imgs, inp_seqs, attn_masks) in progress_bar(dm.val_dataloader()):\n",
    "    model.eval()\n",
    "    model = model.to(device)\n",
    "    imgs = imgs.to(device)\n",
    "    pred_seqs = model.inference(imgs)\n",
    "#     print([(pred_seq, dm.tokenizer.decode(inp_seq)) for pred_seq, inp_seq in zip(pred_seqs, inp_seqs)])\n",
    "#     break\n",
    "    batch_distance = [\n",
    "        Levenshtein.distance(pred_seq, dm.tokenizer.decode(inp_seq))\n",
    "        for pred_seq, inp_seq in zip(pred_seqs, inp_seqs)\n",
    "    ]\n",
    "    total_distance += batch_distance\n",
    "np.mean(total_distance)"
   ]
  },
  {
   "cell_type": "code",
   "execution_count": 21,
   "id": "excited-titanium",
   "metadata": {
    "execution": {
     "iopub.execute_input": "2021-04-08T14:35:58.143250Z",
     "iopub.status.busy": "2021-04-08T14:35:58.143080Z",
     "iopub.status.idle": "2021-04-08T14:35:58.170199Z",
     "shell.execute_reply": "2021-04-08T14:35:58.169561Z",
     "shell.execute_reply.started": "2021-04-08T14:35:58.143231Z"
    },
    "tags": []
   },
   "outputs": [],
   "source": [
    "# 2.3149080108901905"
   ]
  }
 ],
 "metadata": {
  "kernelspec": {
   "display_name": "Python (pt)",
   "language": "python",
   "name": "pt"
  },
  "language_info": {
   "codemirror_mode": {
    "name": "ipython",
    "version": 3
   },
   "file_extension": ".py",
   "mimetype": "text/x-python",
   "name": "python",
   "nbconvert_exporter": "python",
   "pygments_lexer": "ipython3",
   "version": "3.9.2"
  },
  "widgets": {
   "application/vnd.jupyter.widget-state+json": {
    "state": {},
    "version_major": 2,
    "version_minor": 0
   }
  }
 },
 "nbformat": 4,
 "nbformat_minor": 5
}

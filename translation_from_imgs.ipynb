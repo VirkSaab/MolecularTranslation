{
 "cells": [
  {
   "cell_type": "markdown",
   "id": "chubby-launch",
   "metadata": {},
   "source": [
    "## Try these two experiments first\n",
    "1. Create original input image to inchi string translator and get accuracy and loss\n",
    "2. Create inchi image to inchi string translator and get accuracy and loss (Use [AutoEncoders](https://www.youtube.com/watch?v=E28CVTbNoSA&ab_channel=PascalPoupart))\n",
    "\n",
    "Now, compare the two. If the accuracy of inchi image -> inchi string is significantly higher than the original image -> inchi string then think about ***reconstruction experiments*** from original image to inchi image. [try this then](https://www.google.com/search?channel=fs&client=ubuntu&q=converting+shapes+from+one+to+another+using+deep+learning).\n",
    "\n",
    "# InChI decoding \n",
    "[Source](https://link.springer.com/content/pdf/10.1186%2Fs13321-015-0068-4.pdf)\n",
    "\n",
    "1. **Skeletal connections layer** This layer prefixed with `/c` represents connections between skeletal atoms by listing the canonical numbers in the chain of connected atoms. \n",
    "2. ***branches are given in parentheses***\n",
    "3. The canonical atomic numbers, which are used throughout the InChI, are always given in the formula’s element order. i.e. precendence is given to element according to periodic table while numbering elements. For example, `/C10H16N5O13P3` (the beginning of InChI for adenosine triphosphate) implies that atoms numbered 1–10 are carbons, 11–15 arenitrogens, 16–28 are oxygens, and 29–31 are phosporus. Hydrogen atoms are not explicitly numbered.\n"
   ]
  },
  {
   "cell_type": "markdown",
   "id": "atlantic-scope",
   "metadata": {
    "tags": []
   },
   "source": [
    "## image to inchi string"
   ]
  },
  {
   "cell_type": "code",
   "execution_count": 1,
   "id": "correct-measure",
   "metadata": {
    "execution": {
     "iopub.execute_input": "2021-04-11T08:28:54.400682Z",
     "iopub.status.busy": "2021-04-11T08:28:54.400445Z",
     "iopub.status.idle": "2021-04-11T08:28:54.403590Z",
     "shell.execute_reply": "2021-04-11T08:28:54.402731Z",
     "shell.execute_reply.started": "2021-04-11T08:28:54.400651Z"
    },
    "tags": []
   },
   "outputs": [],
   "source": [
    "# Special Packages\n",
    "# !pip install PeriodicElements\n",
    "# !pip install albumentations\n",
    "# !pip install timm\n",
    "# !pip install python-Levenshtein\n",
    "# !pip install torchmetrics"
   ]
  },
  {
   "cell_type": "code",
   "execution_count": 2,
   "id": "pressed-manual",
   "metadata": {
    "execution": {
     "iopub.execute_input": "2021-04-11T08:28:54.405154Z",
     "iopub.status.busy": "2021-04-11T08:28:54.404791Z",
     "iopub.status.idle": "2021-04-11T08:28:54.428853Z",
     "shell.execute_reply": "2021-04-11T08:28:54.428199Z",
     "shell.execute_reply.started": "2021-04-11T08:28:54.405116Z"
    },
    "tags": []
   },
   "outputs": [],
   "source": [
    "%load_ext tensorboard\n",
    "%load_ext autoreload\n",
    "%autoreload 2"
   ]
  },
  {
   "cell_type": "code",
   "execution_count": 3,
   "id": "alone-wealth",
   "metadata": {
    "execution": {
     "iopub.execute_input": "2021-04-11T08:28:54.430151Z",
     "iopub.status.busy": "2021-04-11T08:28:54.429890Z",
     "iopub.status.idle": "2021-04-11T08:28:56.472506Z",
     "shell.execute_reply": "2021-04-11T08:28:56.471854Z",
     "shell.execute_reply.started": "2021-04-11T08:28:54.430120Z"
    },
    "tags": []
   },
   "outputs": [
    {
     "name": "stdout",
     "output_type": "stream",
     "text": [
      "Random Seed:  999\n"
     ]
    }
   ],
   "source": [
    "import torch, torchmetrics, timm, re, pickle, Levenshtein\n",
    "import torch.nn as nn\n",
    "import torchvision as tv\n",
    "import pytorch_lightning as pl\n",
    "import pandas as pd\n",
    "import numpy as np\n",
    "import matplotlib.pyplot as plt\n",
    "import albumentations as A\n",
    "from pathlib import Path\n",
    "from functools import partial\n",
    "from collections import defaultdict\n",
    "from fastprogress import progress_bar\n",
    "from typing import Optional, Union\n",
    "from sklearn.model_selection import train_test_split\n",
    "from torch.utils.data import Dataset, DataLoader, random_split\n",
    "from PIL import Image\n",
    "from elements import elements\n",
    "from albumentations.pytorch import ToTensorV2\n",
    "from preprocessing import preprocess_image\n",
    "\n",
    "\n",
    "# Set random seed for reproducibility\n",
    "manualSeed = 999\n",
    "#manualSeed = random.randint(1, 10000) # use if you want new results\n",
    "print(\"Random Seed: \", manualSeed)\n",
    "torch.manual_seed(manualSeed);\n",
    "\n",
    "# This monkey-patch is there to be able to plot tensors\n",
    "torch.Tensor.ndim = property(lambda x: len(x.shape))"
   ]
  },
  {
   "cell_type": "code",
   "execution_count": 4,
   "id": "radical-linux",
   "metadata": {
    "execution": {
     "iopub.execute_input": "2021-04-11T08:28:56.473471Z",
     "iopub.status.busy": "2021-04-11T08:28:56.473300Z",
     "iopub.status.idle": "2021-04-11T08:28:56.499120Z",
     "shell.execute_reply": "2021-04-11T08:28:56.498512Z",
     "shell.execute_reply.started": "2021-04-11T08:28:56.473450Z"
    },
    "tags": []
   },
   "outputs": [],
   "source": [
    "CHKPTDIR = Path(\"TranslationChkpts\")\n",
    "DATADIR = \"data/bms-molecular-translation\"\n",
    "LABELS_CSV_PATH = \"data/train_labels.csv\"\n",
    "VOCAB_FILEPATH = CHKPTDIR/\"vocab.pt\"\n",
    "TRAINPATHS_PATH = CHKPTDIR/\"train_paths.feather\"\n",
    "TESTPATHS_PATH = CHKPTDIR/\"test_paths.feather\"\n",
    "CHKPTDIR.mkdir(parents=True, exist_ok=True)\n",
    "\n",
    "tb_logger = pl.loggers.TensorBoardLogger(CHKPTDIR, name=\"InchINet\")\n",
    "\n",
    "N_WORKERS = 4\n",
    "BATCH_SIZE = 256\n",
    "PRECISION = 16\n",
    "MAX_LEN = 16 # computed using corpus - max([len(vocab.tokenize(c)) for c in corpus]) 9 + 1 pad + 2 enclosing tokens\n",
    "EMB_SIZE = 512\n",
    "HDN_SIZE = 10\n",
    "INP_SIZE = (128, 128)\n",
    "N_INP_CH = 1\n",
    "N_OUT_CH = 3\n",
    "LR = 1e-2\n",
    "EPOCHS = 1\n",
    "beta1 = 0.5"
   ]
  },
  {
   "cell_type": "code",
   "execution_count": 5,
   "id": "taken-intersection",
   "metadata": {
    "execution": {
     "iopub.execute_input": "2021-04-11T08:28:56.502181Z",
     "iopub.status.busy": "2021-04-11T08:28:56.501864Z",
     "iopub.status.idle": "2021-04-11T08:28:56.667559Z",
     "shell.execute_reply": "2021-04-11T08:28:56.666233Z",
     "shell.execute_reply.started": "2021-04-11T08:28:56.502147Z"
    },
    "tags": []
   },
   "outputs": [
    {
     "name": "stdout",
     "output_type": "stream",
     "text": [
      "sample_submission.csv  test  train  train_labels.csv\n"
     ]
    }
   ],
   "source": [
    "!ls {DATADIR}"
   ]
  },
  {
   "cell_type": "markdown",
   "id": "broadband-madrid",
   "metadata": {
    "tags": []
   },
   "source": [
    "# Data Block\n",
    "\n",
    "### LightningDataModule API\n",
    "\n",
    "To define a DataModule define 5 methods:\n",
    "1. prepare_data (how to download(), tokenize, etc…)\n",
    "2. setup (how to split, etc…)\n",
    "3. train_dataloader\n",
    "4. val_dataloader(s)\n",
    "5. test_dataloader(s)\n",
    "\n",
    "#### prepare_data\n",
    "Use this method to do things that might write to disk or that need to be done only from a single process in distributed settings.\n",
    "1. download\n",
    "2. tokenize\n",
    "3. etc…\n",
    "\n",
    "#### setup\n",
    "There are also data operations you might want to perform on every GPU. Use setup to do things like:\n",
    "1. count number of classes\n",
    "2. build vocabulary\n",
    "3. perform train/val/test splits\n",
    "4. apply transforms (defined explicitly in your datamodule or assigned in init)\n",
    "5. etc…\n"
   ]
  },
  {
   "cell_type": "markdown",
   "id": "subjective-classroom",
   "metadata": {
    "tags": []
   },
   "source": [
    "## Vocab and Tokenizer"
   ]
  },
  {
   "cell_type": "code",
   "execution_count": 6,
   "id": "respected-detroit",
   "metadata": {
    "execution": {
     "iopub.execute_input": "2021-04-11T08:28:56.671383Z",
     "iopub.status.busy": "2021-04-11T08:28:56.671060Z",
     "iopub.status.idle": "2021-04-11T08:28:56.714176Z",
     "shell.execute_reply": "2021-04-11T08:28:56.713490Z",
     "shell.execute_reply.started": "2021-04-11T08:28:56.671340Z"
    },
    "tags": []
   },
   "outputs": [],
   "source": [
    "class RawDataset(Dataset):\n",
    "    def __init__(self, datadir, df=None):\n",
    "        super().__init__()\n",
    "        self.paths = list(Path(datadir).rglob(\"*.*\"))\n",
    "        if df is not None:\n",
    "            self.idtoinchi_dict = {\n",
    "                _id:_inchi for _id, _inchi in\n",
    "                zip(df[\"image_id\"].values.tolist(), df[\"InChI\"].values.tolist())\n",
    "            }\n",
    "        if len(self.paths) == 0:\n",
    "            print(\"No paths found.\")\n",
    "        self.piltotensor = PILToTensor()\n",
    "    \n",
    "    def __len__(self):\n",
    "        return len(self.paths)\n",
    "    \n",
    "    def __getitem__(self, idx):\n",
    "        imgpath = self.paths[idx]\n",
    "        imgid = imgpath.stem\n",
    "        img = preprocess_image(imgpath, out_size=INP_SIZE)\n",
    "        img = torch.from_numpy(np.array(img))\n",
    "        if hasattr(self, \"idtoinchi_dict\"):\n",
    "            target = self.idtoinchi_dict[imgid]\n",
    "            return img, target\n",
    "        return img, \"test_placeholder\""
   ]
  },
  {
   "cell_type": "code",
   "execution_count": 7,
   "id": "photographic-photography",
   "metadata": {
    "execution": {
     "iopub.execute_input": "2021-04-11T08:28:56.715252Z",
     "iopub.status.busy": "2021-04-11T08:28:56.715104Z",
     "iopub.status.idle": "2021-04-11T08:28:56.748583Z",
     "shell.execute_reply": "2021-04-11T08:28:56.747782Z",
     "shell.execute_reply.started": "2021-04-11T08:28:56.715233Z"
    },
    "tags": []
   },
   "outputs": [],
   "source": [
    "class Vocab:\n",
    "    def __init__(self, vocab, add_special_tokens=True):\n",
    "        self.vocab = vocab\n",
    "        # Get all elements sorted according to Atomic number\n",
    "        data = elements.Elements\n",
    "        # All elements in periodic table\n",
    "        self.elements = sorted(data, key=lambda i:i.AtomicNumber)  # Based on their AtomicNumber\n",
    "        # Sort longer names first for regex pattern formation\n",
    "        self.element_symbols = sorted([e.Symbol for e in self.elements], key=lambda e: len(e), reverse=True)\n",
    "        # Create regex pattern\n",
    "        self.pattern = f\"({'|'.join([f'{e}[0-9]*' for e in self.element_symbols])})\"\n",
    "        \n",
    "        if type(vocab) != type(None):\n",
    "            if add_special_tokens:\n",
    "                self.pad_token = \"<pad>\"\n",
    "                self.unk_token = \"<unk>\"\n",
    "                self.bos_token = \"<bos>\"\n",
    "                self.eos_token = \"<eos>\"\n",
    "                self.vocab = [self.pad_token, self.unk_token,self.bos_token,self.eos_token] + list(self.vocab)\n",
    "            \n",
    "            # Adding elements names into vocab and sort according to atomic number\n",
    "#             self.vocab = np.unique(self.vocab.tolist() + self.element_symbols)\n",
    "#             self.vocab = sorted(self.vocab.tolist(), key=lambda x: eval(f\"elements.{''.join(re.findall(r'[A-Za-z]', x))}.AtomicNumber\"))\n",
    "            # create class to index mapping\n",
    "            self._ctoi = defaultdict(lambda : self.unk_token, {c:i for i, c in enumerate(self.vocab)})\n",
    "                \n",
    "    def tokenize(self, string):\n",
    "        tokens = re.split(self.pattern, string)\n",
    "        tokens = list(filter(None, tokens))\n",
    "        return tokens\n",
    "    \n",
    "    def ctoi(self, c):\n",
    "        return self._ctoi[c]\n",
    "    \n",
    "    def itoc(self, i):\n",
    "        return self.vocab[i]\n",
    "    \n",
    "    def __len__(self):\n",
    "        return len(self.vocab)\n",
    "    \n",
    "    def save_vocab(self, path):\n",
    "        torch.save(self.vocab, path)\n",
    "        print(\"Saved @\", path)\n",
    "    \n",
    "    @classmethod\n",
    "    def from_corpus(cls, corpus):\n",
    "        v = cls(None)\n",
    "        vocab = np.unique([w for s in corpus for w in v.tokenize(s)])\n",
    "        return cls(vocab)\n",
    "    \n",
    "    @classmethod\n",
    "    def load_vocab(cls, path):\n",
    "        vocab = torch.load(path)\n",
    "        return cls(vocab)\n",
    "    \n",
    "# Reference - https://huggingface.co/transformers/v2.11.0/main_classes/tokenizer.html#pretrainedtokenizer\n",
    "class Tokenizer:\n",
    "    def __init__(self, vocab=None):\n",
    "        self.vocab = vocab # Vocab class instance\n",
    "    \n",
    "    def tokenizer(self, x):\n",
    "        return self.vocab.tokenizer(x)\n",
    "    \n",
    "    def encode(self, s, max_len=None):\n",
    "        tokens = self.vocab.tokenize(s)\n",
    "        seq = [self.vocab.ctoi(t) for t in tokens]\n",
    "        attn_mask = [1]*len(seq)\n",
    "        \n",
    "        if max_len:\n",
    "            # Add padding to input\n",
    "            extra_len = max_len - len(seq) - 2 # 2 for start and end tokens\n",
    "            # Add start input token\n",
    "            seq = [self.vocab.ctoi(self.vocab.bos_token)] + seq\n",
    "            # Add end input token\n",
    "            seq += [self.vocab.ctoi(self.vocab.eos_token)]\n",
    "            attn_mask += [1, 1]\n",
    "            # Add padding token\n",
    "            seq += [self.vocab.ctoi(self.vocab.pad_token)]*extra_len\n",
    "            attn_mask += [0]*extra_len\n",
    "            \n",
    "        return {\"inp_seq\": seq, \"attn_mask\": attn_mask}\n",
    "    \n",
    "    def decode(self, tokens, inp_seq_name=\"inp_seq\"):\n",
    "        if isinstance(tokens, dict):\n",
    "            seq = tokens[inp_seq_name]\n",
    "            if isinstance(seq, (torch.Tensor, np.ndarray)):\n",
    "                seq = seq.tolist()\n",
    "        else:\n",
    "            seq = tokens\n",
    "        seq = ''.join([self.vocab.itoc(t) for t in seq])\n",
    "        # remove special tokens\n",
    "        for special_token in [self.vocab.pad_token, self.vocab.bos_token, self.vocab.eos_token]:\n",
    "            seq = seq.replace(special_token, '')\n",
    "        return seq\n",
    "    \n",
    "    @classmethod\n",
    "    def fit(cls, corpus):\n",
    "        vocab = Vocab.from_corpus(orcpus)\n",
    "        return cls(vocab)\n",
    "    \n",
    "    @classmethod\n",
    "    def load_from_file(cls, path):\n",
    "        vocab = torch.load(path)\n",
    "        return cls(vocab)"
   ]
  },
  {
   "cell_type": "markdown",
   "id": "suffering-grenada",
   "metadata": {
    "tags": []
   },
   "source": [
    "## Lightning Data Module"
   ]
  },
  {
   "cell_type": "code",
   "execution_count": 8,
   "id": "further-electronics",
   "metadata": {
    "execution": {
     "iopub.execute_input": "2021-04-11T08:28:56.749816Z",
     "iopub.status.busy": "2021-04-11T08:28:56.749614Z",
     "iopub.status.idle": "2021-04-11T08:28:56.784446Z",
     "shell.execute_reply": "2021-04-11T08:28:56.783724Z",
     "shell.execute_reply.started": "2021-04-11T08:28:56.749796Z"
    },
    "tags": []
   },
   "outputs": [],
   "source": [
    "class ImgtoInChIDataset(Dataset):\n",
    "    def __init__(self, paths, df=None, tsfms=None):\n",
    "        self.paths = paths\n",
    "        if df is not None:\n",
    "            self.idtoinchi_dict = {\n",
    "                _id:_inchi for _id, _inchi in\n",
    "                zip(df[\"image_id\"].values.tolist(), df[\"InChI\"].values.tolist())\n",
    "            }\n",
    "        self.tsfms = tsfms\n",
    "    \n",
    "    def __len__(self):\n",
    "        return len(self.paths)\n",
    "    \n",
    "    def __getitem__(self, idx):\n",
    "        imgpath = self.paths[idx]\n",
    "        imgid = Path(imgpath).stem\n",
    "        img = np.array(preprocess_image(imgpath, out_size=INP_SIZE), dtype=np.float32)/255.\n",
    "        if self.tsfms is not None:\n",
    "            img = self.tsfms(image=img)[\"image\"]\n",
    "        \n",
    "        if hasattr(self, \"idtoinchi_dict\"):\n",
    "            target = self.idtoinchi_dict[imgid]\n",
    "            target = target.split(\"/\")[1]\n",
    "            return img, target\n",
    "        \n",
    "        return img, \"test_placeholder\"\n",
    "    \n",
    "class ImgToInChIDataModule(pl.LightningDataModule):\n",
    "    def __init__(self, tb_logger, valset_ratio=0.05) -> None:\n",
    "        super().__init__()\n",
    "        self.tb_logger = tb_logger\n",
    "        self.valset_ratio = valset_ratio\n",
    "        self.dims = (1, *INP_SIZE)\n",
    "        \n",
    "        self.train_tsfms = A.Compose([\n",
    "#             A.Resize(*INP_SIZE, always_apply=True),\n",
    "            A.ShiftScaleRotate(shift_limit=0.05, scale_limit=0.05, rotate_limit=15, p=0.5),\n",
    "#             A.RandomCrop(*INP_SIZE),\n",
    "            A.RandomBrightnessContrast(p=0.5),\n",
    "#             A.Normalize(mean=(0.5), std=(0.229)),\n",
    "            ToTensorV2(),\n",
    "        ])\n",
    "        self.test_tsfms = A.Compose([\n",
    "#             A.Resize(*INP_SIZE, always_apply=True),\n",
    "#             A.Normalize(mean=(0.5), std=(0.229)),\n",
    "            ToTensorV2(),\n",
    "        ])\n",
    "        \n",
    "    def prepare_data(self, verbose=False):\n",
    "        \"\"\"Use this method to do things that might write to disk or that\n",
    "        need to be done only from a single process in distributed settings.\"\"\"\n",
    "        # Load labels in DataFrame\n",
    "        if verbose: print(\"Loading labels data...\", end=' ')\n",
    "        self.df = pd.read_csv(LABELS_CSV_PATH)\n",
    "        if verbose: print(\"DONE!\")\n",
    "        \n",
    "        # Load image paths\n",
    "        if verbose: print(\"Loading paths...\", end=' ')\n",
    "        if TRAINPATHS_PATH.exists():\n",
    "            self.train_paths = pd.read_feather(TRAINPATHS_PATH)\n",
    "            self.train_paths = self.train_paths.train_paths.tolist()\n",
    "        else:\n",
    "            self.train_paths = pd.DataFrame(list((Path(DATADIR)/\"train\").rglob(\"*.*\")), columns=[\"train_paths\"])\n",
    "            self.train_paths = self.train_paths.applymap(lambda x: str(x))\n",
    "            self.train_paths.to_feather(TRAINPATHS_PATH)\n",
    "            self.train_paths = self.train_paths.train_paths.tolist()\n",
    "        if TESTPATHS_PATH.exists():\n",
    "            self.test_paths = pd.read_feather(TESTPATHS_PATH)\n",
    "            self.test_paths = self.test_paths.test_paths.tolist()\n",
    "        else:\n",
    "            self.test_paths = pd.DataFrame(list((Path(DATADIR)/\"test\").rglob(\"*.*\")), columns=[\"test_paths\"])\n",
    "            self.test_paths = self.test_paths.applymap(lambda x: str(x))\n",
    "            self.test_paths.to_feather(TESTPATHS_PATH)\n",
    "            self.test_paths = self.test_paths.test_paths.tolist()\n",
    "        if verbose: print(\"DONE!\")\n",
    "        \n",
    "        # Get Vocab and Tokenizer\n",
    "        if verbose: print(\"Loading vocab and tokenizer...\", end=' ')\n",
    "        if Path(VOCAB_FILEPATH).exists():\n",
    "            vocab = Vocab.load_vocab(VOCAB_FILEPATH)\n",
    "        else:\n",
    "            corpus = [s.split(\"/\")[1] for s in self.df.InChI.tolist()]\n",
    "            vocab = Vocab.from_corpus(corpus)\n",
    "#             print(\"# words =\", len(vocab))\n",
    "            vocab.save_vocab(VOCAB_FILEPATH)\n",
    "        self.vocab_size = len(vocab)\n",
    "        self.tokenizer = Tokenizer(vocab)\n",
    "        if verbose: print(\"DONE!\")\n",
    "                \n",
    "    def setup(self, stage:Optional[str]=None) -> None:\n",
    "        # Assign train/val datasets for use in dataloaders\n",
    "        if stage == 'fit' or stage is None:\n",
    "            trainpaths, valpaths = train_test_split(self.train_paths, test_size=self.valset_ratio)\n",
    "            self.trainset = ImgtoInChIDataset(trainpaths, self.df, self.train_tsfms)\n",
    "            self.valset = ImgtoInChIDataset(valpaths, self.df, self.test_tsfms)\n",
    "            \n",
    "            # Sample batch\n",
    "            imgs, inp_seqs, attn_masks = next(iter(self.train_dataloader()))\n",
    "            self.tb_logger.experiment.add_images(\"Sample images\", imgs)\n",
    "\n",
    "        # Assign test dataset for use in dataloader(s)\n",
    "        if stage == 'test' or stage is None:\n",
    "            self.testset = ImgtoInChIDataset(self.test_paths, tsfms=self.test_tsfms)\n",
    "\n",
    "    def train_dataloader(self):\n",
    "        return DataLoader(self.trainset, BATCH_SIZE, shuffle=True, \n",
    "                          collate_fn=self.collate_fn, num_workers=N_WORKERS, pin_memory=True)\n",
    "\n",
    "    def val_dataloader(self):\n",
    "        return DataLoader(self.valset, BATCH_SIZE, shuffle=False, \n",
    "                          collate_fn=self.collate_fn, num_workers=N_WORKERS, pin_memory=True)\n",
    "    \n",
    "    def collate_fn(self, batch):\n",
    "        imgs = torch.cat([ins[0].unsqueeze(0) for ins in batch])\n",
    "        targets = [ins[1] for ins in batch]\n",
    "        targets = [self.tokenizer.encode(t, MAX_LEN) for t in targets]\n",
    "        inp_seqs = torch.Tensor([t[\"inp_seq\"] for t in targets]).long()\n",
    "        attn_masks = torch.Tensor([t[\"attn_mask\"] for t in targets]).float()\n",
    "        return imgs, inp_seqs, attn_masks\n",
    "    "
   ]
  },
  {
   "cell_type": "code",
   "execution_count": 9,
   "id": "severe-marine",
   "metadata": {
    "execution": {
     "iopub.execute_input": "2021-04-11T08:28:56.785366Z",
     "iopub.status.busy": "2021-04-11T08:28:56.785198Z",
     "iopub.status.idle": "2021-04-11T08:28:56.808379Z",
     "shell.execute_reply": "2021-04-11T08:28:56.807768Z",
     "shell.execute_reply.started": "2021-04-11T08:28:56.785346Z"
    },
    "tags": []
   },
   "outputs": [],
   "source": [
    "# dm = ImgToInChIDataModule(tb_logger=tb_logger)\n",
    "# dm.prepare_data(verbose=True)\n",
    "# dm.setup('fit')\n",
    "# imgs, inp_seqs, attn_masks = next(iter(dm.train_dataloader()))"
   ]
  },
  {
   "cell_type": "code",
   "execution_count": 10,
   "id": "photographic-sleeve",
   "metadata": {
    "execution": {
     "iopub.execute_input": "2021-04-11T08:28:56.809231Z",
     "iopub.status.busy": "2021-04-11T08:28:56.809088Z",
     "iopub.status.idle": "2021-04-11T08:28:56.834256Z",
     "shell.execute_reply": "2021-04-11T08:28:56.833701Z",
     "shell.execute_reply.started": "2021-04-11T08:28:56.809212Z"
    },
    "tags": []
   },
   "outputs": [],
   "source": [
    "# imgs, inp_seqs, attn_masks = next(iter(trainloader))\n",
    "# tb_logger.experiment.add_images(\"Sample images\", imgs)\n",
    "\n",
    "\n",
    "# print(\"SAMPLE BATCH =\", imgs.shape)\n",
    "# fig, axes = plt.subplots(4, 8, figsize=(18, 10))\n",
    "# for i, ax in enumerate(axes.flat):\n",
    "#     ax.imshow(imgs[i].squeeze(0), cmap=\"gray\")\n",
    "#     ax.axis(\"off\")"
   ]
  },
  {
   "cell_type": "markdown",
   "id": "talented-nigeria",
   "metadata": {
    "execution": {
     "iopub.execute_input": "2021-04-02T07:15:59.920534Z",
     "iopub.status.busy": "2021-04-02T07:15:59.920240Z",
     "iopub.status.idle": "2021-04-02T07:15:59.923276Z",
     "shell.execute_reply": "2021-04-02T07:15:59.922767Z",
     "shell.execute_reply.started": "2021-04-02T07:15:59.920510Z"
    },
    "tags": []
   },
   "source": [
    "# Model\n",
    "### At the time of sentence prediction can we use HMMs or [Beam Search](https://github.com/sgrvinod/a-PyTorch-Tutorial-to-Image-Captioning#overview) to make better decisions?\n",
    "\n",
    "Use different LSTM layers for each inchi substring like /c /h\n",
    "```\n",
    ">>> rnn = nn.LSTM(10, 20, 2)\n",
    ">>> input = torch.randn(1, 16, 10)\n",
    ">>> h0 = torch.randn(2, 16, 20)\n",
    ">>> c0 = torch.randn(2, 16, 20)\n",
    "```\n",
    "change number of layers here to num sublayers\n",
    "\n",
    "\n",
    "[Model from here](https://www.kaggle.com/yasufuminakama/inchi-resnet-lstm-with-attention-starter)"
   ]
  },
  {
   "cell_type": "code",
   "execution_count": 11,
   "id": "dimensional-monthly",
   "metadata": {
    "execution": {
     "iopub.execute_input": "2021-04-11T08:28:56.835691Z",
     "iopub.status.busy": "2021-04-11T08:28:56.835424Z",
     "iopub.status.idle": "2021-04-11T08:28:56.876475Z",
     "shell.execute_reply": "2021-04-11T08:28:56.876032Z",
     "shell.execute_reply.started": "2021-04-11T08:28:56.835661Z"
    },
    "tags": []
   },
   "outputs": [],
   "source": [
    "class Encoder(nn.Module):\n",
    "    def __init__(self, model_name='resnet18', pretrained=False):\n",
    "        super().__init__()\n",
    "        self.cnn = timm.create_model(model_name, pretrained=pretrained)\n",
    "        self.cnn.conv1 = nn.Conv2d(1, 64, kernel_size=7, stride=2, padding=3, bias=False)\n",
    "        self.n_features = self.cnn.fc.in_features\n",
    "        self.cnn.global_pool = nn.Identity()\n",
    "        self.cnn.fc = nn.Identity()\n",
    "\n",
    "    def forward(self, x):\n",
    "        bs = x.size(0)\n",
    "        features = self.cnn(x)\n",
    "        features = features.permute(0, 2, 3, 1)\n",
    "        return features\n",
    "    \n",
    "class Attention(nn.Module):\n",
    "    \"\"\"\n",
    "    Attention network for calculate attention value\n",
    "    \"\"\"\n",
    "    def __init__(self, encoder_dim, decoder_dim, attention_dim):\n",
    "        \"\"\"\n",
    "        :param encoder_dim: input size of encoder network\n",
    "        :param decoder_dim: input size of decoder network\n",
    "        :param attention_dim: input size of attention network\n",
    "        \"\"\"\n",
    "        super(Attention, self).__init__()\n",
    "        self.encoder_att = nn.Linear(encoder_dim, attention_dim)  # linear layer to transform encoded image\n",
    "        self.decoder_att = nn.Linear(decoder_dim, attention_dim)  # linear layer to transform decoder's output\n",
    "        self.full_att = nn.Linear(attention_dim, 1)  # linear layer to calculate values to be softmax-ed\n",
    "        self.relu = nn.ReLU()\n",
    "        self.softmax = nn.Softmax(dim=1)  # softmax layer to calculate weights\n",
    "\n",
    "    def forward(self, encoder_out, decoder_hidden):\n",
    "        att1 = self.encoder_att(encoder_out)  # (batch_size, num_pixels, attention_dim)\n",
    "        att2 = self.decoder_att(decoder_hidden)  # (batch_size, attention_dim)\n",
    "        att = self.full_att(self.relu(att1 + att2.unsqueeze(1))).squeeze(2)  # (batch_size, num_pixels)\n",
    "        alpha = self.softmax(att)  # (batch_size, num_pixels)\n",
    "        attention_weighted_encoding = (encoder_out * alpha.unsqueeze(2)).sum(dim=1)  # (batch_size, encoder_dim)\n",
    "        return attention_weighted_encoding, alpha\n",
    "    \n",
    "class DecoderWithAttention(nn.Module):\n",
    "    \"\"\"Decoder network with attention network used for training\"\"\"\n",
    "\n",
    "    def __init__(self, attention_dim, embed_dim, decoder_dim, vocab_size, device, encoder_dim=512, dropout=0.5):\n",
    "        \"\"\"\n",
    "        :param attention_dim: input size of attention network\n",
    "        :param embed_dim: input size of embedding network\n",
    "        :param decoder_dim: input size of decoder network\n",
    "        :param vocab_size: total number of characters used in training\n",
    "        :param encoder_dim: input size of encoder network\n",
    "        :param dropout: dropout rate\n",
    "        \"\"\"\n",
    "        super().__init__()\n",
    "        self.encoder_dim = encoder_dim\n",
    "        self.attention_dim = attention_dim\n",
    "        self.embed_dim = embed_dim\n",
    "        self.decoder_dim = decoder_dim\n",
    "        self.vocab_size = vocab_size\n",
    "        self.dropout = dropout\n",
    "        self.device = device\n",
    "        self.attention = Attention(encoder_dim, decoder_dim, attention_dim)  # attention network\n",
    "        self.embedding = nn.Embedding(vocab_size, embed_dim)  # embedding layer\n",
    "        self.dropout = nn.Dropout(p=self.dropout)\n",
    "        self.decode_step = nn.LSTMCell(embed_dim + encoder_dim, decoder_dim, bias=True)  # decoding LSTMCell\n",
    "        self.init_h = nn.Linear(encoder_dim, decoder_dim)  # linear layer to find initial hidden state of LSTMCell\n",
    "        self.init_c = nn.Linear(encoder_dim, decoder_dim)  # linear layer to find initial cell state of LSTMCell\n",
    "        self.f_beta = nn.Linear(decoder_dim, encoder_dim)  # linear layer to create a sigmoid-activated gate\n",
    "        self.sigmoid = nn.Sigmoid()\n",
    "        self.fc = nn.Linear(decoder_dim, vocab_size)  # linear layer to find scores over vocabulary\n",
    "        self.init_weights()  # initialize some layers with the uniform distribution\n",
    "\n",
    "    def init_weights(self):\n",
    "        self.embedding.weight.data.uniform_(-0.1, 0.1)\n",
    "        self.fc.bias.data.fill_(0)\n",
    "        self.fc.weight.data.uniform_(-0.1, 0.1)\n",
    "\n",
    "    def load_pretrained_embeddings(self, embeddings):\n",
    "        self.embedding.weight = nn.Parameter(embeddings)\n",
    "\n",
    "    def fine_tune_embeddings(self, fine_tune=True):\n",
    "        for p in self.embedding.parameters():\n",
    "            p.requires_grad = fine_tune\n",
    "\n",
    "    def init_hidden_state(self, encoder_out):\n",
    "        mean_encoder_out = encoder_out.mean(dim=1)\n",
    "        h = self.init_h(mean_encoder_out)  # (batch_size, decoder_dim)\n",
    "        c = self.init_c(mean_encoder_out)\n",
    "        return h, c\n",
    "\n",
    "    def forward(self, encoder_out, encoded_captions, caption_lengths):\n",
    "        \"\"\"\n",
    "        :param encoder_out: output of encoder network\n",
    "        :param encoded_captions: transformed sequence from character to integer\n",
    "        :param caption_lengths: length of transformed sequence\n",
    "        \"\"\"\n",
    "        batch_size = encoder_out.size(0)\n",
    "        encoder_dim = encoder_out.size(-1)\n",
    "        vocab_size = self.vocab_size\n",
    "        encoder_out = encoder_out.view(batch_size, -1, encoder_dim)  # (batch_size, num_pixels, encoder_dim)\n",
    "        num_pixels = encoder_out.size(1)\n",
    "        caption_lengths, sort_ind = caption_lengths.squeeze(1).sort(dim=0, descending=True)\n",
    "        encoder_out = encoder_out[sort_ind]\n",
    "        encoded_captions = encoded_captions[sort_ind]\n",
    "        # embedding transformed sequence for vector\n",
    "        embeddings = self.embedding(encoded_captions)  # (batch_size, max_caption_length, embed_dim)\n",
    "        # initialize hidden state and cell state of LSTM cell\n",
    "        h, c = self.init_hidden_state(encoder_out)  # (batch_size, decoder_dim)\n",
    "        # set decode length by caption length - 1 because of omitting start token\n",
    "        decode_lengths = (caption_lengths - 1).tolist()\n",
    "        predictions = torch.zeros(batch_size, max(decode_lengths), vocab_size).to(self.device)\n",
    "        alphas = torch.zeros(batch_size, max(decode_lengths), num_pixels).to(self.device)\n",
    "        # predict sequence\n",
    "        for t in range(max(decode_lengths)):\n",
    "            batch_size_t = sum([l > t for l in decode_lengths])\n",
    "            attention_weighted_encoding, alpha = self.attention(encoder_out[:batch_size_t], h[:batch_size_t])\n",
    "            gate = self.sigmoid(self.f_beta(h[:batch_size_t]))  # gating scalar, (batch_size_t, encoder_dim)\n",
    "            attention_weighted_encoding = gate * attention_weighted_encoding\n",
    "            h, c = self.decode_step(\n",
    "                torch.cat([embeddings[:batch_size_t, t, :], attention_weighted_encoding], dim=1),\n",
    "                (h[:batch_size_t], c[:batch_size_t]))  # (batch_size_t, decoder_dim)\n",
    "            preds = self.fc(self.dropout(h))  # (batch_size_t, vocab_size)\n",
    "            predictions[:batch_size_t, t, :] = preds\n",
    "            alphas[:batch_size_t, t, :] = alpha\n",
    "        return predictions, encoded_captions, decode_lengths, alphas, sort_ind\n",
    "    \n",
    "    def predict(self, encoder_out, decode_lengths, tokenizer):\n",
    "        batch_size = encoder_out.size(0)\n",
    "        encoder_dim = encoder_out.size(-1)\n",
    "        vocab_size = self.vocab_size\n",
    "        encoder_out = encoder_out.view(batch_size, -1, encoder_dim)  # (batch_size, num_pixels, encoder_dim)\n",
    "        num_pixels = encoder_out.size(1)\n",
    "        # embed start tocken for LSTM input\n",
    "        start_tockens = torch.ones(batch_size, dtype=torch.long).to(self.device) * tokenizer.stoi[\"<sos>\"]\n",
    "        embeddings = self.embedding(start_tockens)\n",
    "        # initialize hidden state and cell state of LSTM cell\n",
    "        h, c = self.init_hidden_state(encoder_out)  # (batch_size, decoder_dim)\n",
    "        predictions = torch.zeros(batch_size, decode_lengths, vocab_size).to(self.device)\n",
    "        # predict sequence\n",
    "        for t in range(decode_lengths):\n",
    "            attention_weighted_encoding, alpha = self.attention(encoder_out, h)\n",
    "            gate = self.sigmoid(self.f_beta(h))  # gating scalar, (batch_size_t, encoder_dim)\n",
    "            attention_weighted_encoding = gate * attention_weighted_encoding\n",
    "            h, c = self.decode_step(\n",
    "                torch.cat([embeddings, attention_weighted_encoding], dim=1),\n",
    "                (h, c))  # (batch_size_t, decoder_dim)\n",
    "            preds = self.fc(self.dropout(h))  # (batch_size_t, vocab_size)\n",
    "            predictions[:, t, :] = preds\n",
    "            if np.argmax(preds.detach().cpu().numpy()) == tokenizer.stoi[\"<eos>\"]:\n",
    "                break\n",
    "            embeddings = self.embedding(torch.argmax(preds, -1))\n",
    "        return predictions"
   ]
  },
  {
   "cell_type": "code",
   "execution_count": 12,
   "id": "binary-correction",
   "metadata": {
    "execution": {
     "iopub.execute_input": "2021-04-11T08:28:56.877609Z",
     "iopub.status.busy": "2021-04-11T08:28:56.877371Z",
     "iopub.status.idle": "2021-04-11T08:28:56.902354Z",
     "shell.execute_reply": "2021-04-11T08:28:56.901742Z",
     "shell.execute_reply.started": "2021-04-11T08:28:56.877581Z"
    },
    "tags": []
   },
   "outputs": [],
   "source": [
    "# encoder_net = Encoder()\n",
    "# encoder_net(imgs).shape"
   ]
  },
  {
   "cell_type": "markdown",
   "id": "capital-chester",
   "metadata": {
    "execution": {
     "iopub.execute_input": "2021-04-08T09:09:45.905230Z",
     "iopub.status.busy": "2021-04-08T09:09:45.905073Z",
     "iopub.status.idle": "2021-04-08T09:09:45.952877Z",
     "shell.execute_reply": "2021-04-08T09:09:45.952451Z",
     "shell.execute_reply.started": "2021-04-08T09:09:45.905211Z"
    },
    "tags": []
   },
   "source": [
    "Network commented in this cell below DID NOT WORKED WELL. FALLING BACK...\n",
    "<!-- class Encoder(nn.Module):\n",
    "    def __init__(self, model_name='resnet18', pretrained=False, out_channels=512):\n",
    "        super().__init__()\n",
    "        last_stride = 2 if INP_SIZE[0] == 256 else 1\n",
    "        self.cnn = timm.create_model(model_name, pretrained=pretrained)\n",
    "        self.cnn.conv1 = nn.Conv2d(1, 64, kernel_size=7, stride=2, padding=3, bias=False)\n",
    "        self.out_channels = out_channels\n",
    "        self.cnn.global_pool = nn.Identity()\n",
    "        self.cnn.fc = nn.Identity()\n",
    "        self.resout = nn.Sequential(\n",
    "            nn.Conv2d(512, out_channels, kernel_size=3, stride=last_stride, padding=1, bias=False),\n",
    "            nn.BatchNorm2d(out_channels),\n",
    "            nn.ReLU(True)\n",
    "        )\n",
    "        self.encout = nn.Sequential(\n",
    "            nn.Conv1d(16, 1, kernel_size=3, stride=1, padding=1, bias=False),\n",
    "            nn.BatchNorm1d(1),\n",
    "        )\n",
    "        \n",
    "    def forward(self, x):\n",
    "        out = self.cnn(x)\n",
    "        out = self.resout(out)\n",
    "        out = out.view(x.size(0), self.out_channels, -1)\n",
    "        out = out.permute(0,2,1)\n",
    "        out = self.encout(out).squeeze(1)\n",
    "#         print(\"ENC out =\", out.shape)\n",
    "        return out\n",
    "\n",
    "class Decoder(nn.Module):\n",
    "    def __init__(self, vocab_size, enc_out_channels=512):\n",
    "        super().__init__()\n",
    "        self.embd = nn.Embedding(vocab_size, EMB_SIZE)\n",
    "        self.lstm = nn.LSTM(enc_out_channels, vocab_size, batch_first=True)\n",
    "        self.encfc = nn.Linear(enc_out_channels, vocab_size)\n",
    "        self.embfc = nn.Linear(vocab_size, vocab_size)\n",
    "    \n",
    "    def forward(self, encoder_out, inp_seqs):\n",
    "        encoder_out = self.encfc(encoder_out)\n",
    "        encoder_out = encoder_out.unsqueeze(1)\n",
    "#         print(\"encoder_out =\", encoder_out.shape)\n",
    "        \n",
    "        emb = self.embd(inp_seqs)\n",
    "        lstm_out, _ = self.lstm(emb)\n",
    "#         lstm_out = lstm_out.reshape(encoder_out.size(0), -1)\n",
    "#         print(\"lstm_out =\", lstm_out.shape)\n",
    "        enc_out = torch.repeat_interleave(encoder_out, lstm_out.size(1), dim=1)\n",
    "#         print(\"enc_out =\", enc_out.shape)\n",
    "        out = lstm_out + enc_out\n",
    "#         for i in range(lstm_out.size(1)):\n",
    "#             lstm_out[:,i,:] = self.embfc(lstm_out[:,i,:])\n",
    "#             lstm_out[:,i,:] = lstm_out[:,i,:] + encoder_out\n",
    "#         print(\"lstm_out after for =\", lstm_out.shape)\n",
    "        return out\n",
    "    \n",
    "    def predict(self, encoder_out, tokenizer):\n",
    "#         print(encoder_out.shape)\n",
    "        encoder_out = self.encfc(encoder_out)\n",
    "        bs = encoder_out.size(0)\n",
    "        syn_inp_seqs = torch.tensor(tokenizer.vocab.ctoi(tokenizer.vocab.bos_token), device=encoder_out.device)\n",
    "        syn_inp_seqs = torch.repeat_interleave(syn_inp_seqs, bs)\n",
    "        syn_inp_seqs = syn_inp_seqs.view(bs, 1)\n",
    "        \n",
    "        # Predict next tokens to start token\n",
    "        pred_emb = []\n",
    "        for i in range(MAX_LEN):\n",
    "            emb = self.embd(syn_inp_seqs)\n",
    "            pred, _ = self.lstm(emb)\n",
    "            pred = pred.squeeze(1)\n",
    "            \n",
    "#             pred = self.embfc(pred)\n",
    "            pred = pred + encoder_out\n",
    "            pred = pred.unsqueeze(1)\n",
    "            pred_emb.append(pred)\n",
    "            syn_inp_seqs = pred.argmax(dim=-1)\n",
    "#         print(\"len =\", len(pred_emb))\n",
    "        pred_emb = torch.cat(pred_emb, dim=1)\n",
    "        return pred_emb\n",
    "            \n",
    "class InChINet(pl.LightningModule):\n",
    "    def __init__(self, vocab_size, tokenizer):\n",
    "        super().__init__()\n",
    "        self.tokenizer = tokenizer\n",
    "        self.encoder_net = Encoder()\n",
    "        self.decoder_net = Decoder(vocab_size)\n",
    "        self.loss_fn = nn.CrossEntropyLoss()\n",
    "        \n",
    "    def forward(self, imgs, inp_seqs):\n",
    "        encoder_out = self.encoder_net(imgs)\n",
    "#         print(\"Encoder =\", encoder_out.shape)\n",
    "        pred_tokens = self.decoder_net(encoder_out, inp_seqs)\n",
    "        return pred_tokens\n",
    "    \n",
    "    def training_step(self, train_batch, batch_idx):\n",
    "        imgs, inp_seqs, attn_masks = train_batch\n",
    "        output = self.forward(imgs, inp_seqs)\n",
    "        loss = self.loss_fn(output.permute(0,2,1).float(), inp_seqs)\n",
    "        # Logging to TensorBoard by default\n",
    "        self.log('train_loss', loss, on_step=True, on_epoch=True, logger=True)\n",
    "        return loss\n",
    "    \n",
    "    def training_epoch_end(self, outputs):\n",
    "        for name,params in self.named_parameters():\n",
    "            self.logger.experiment.add_histogram(name, params, self.current_epoch)\n",
    "    \n",
    "    def validation_step(self, val_batch, batch_idx):\n",
    "        imgs, inp_seqs, attn_masks = val_batch\n",
    "        output = self.predict(imgs, self.tokenizer)\n",
    "        loss = self.loss_fn(output.permute(0,2,1).float(), inp_seqs)\n",
    "        self.log('val_loss', loss, on_step=True, on_epoch=True, logger=True)\n",
    "        \n",
    "        lv_metric = self.calculate_lvdistance(output, inp_seqs)\n",
    "        self.logger.log_metrics({\"LvDistance\": lv_metric}, step=1)\n",
    "        return loss\n",
    "    \n",
    "    def predict(self, imgs, tokenizer):\n",
    "        encoder_out = self.encoder_net(imgs)\n",
    "        pred_tokens = self.decoder_net.predict(encoder_out, tokenizer)\n",
    "        return pred_tokens\n",
    "\n",
    "    def configure_optimizers(self):\n",
    "        optimizer = torch.optim.Adam(self.parameters(), lr=1e-2)\n",
    "        lr_scheduler = {\n",
    "            'scheduler': torch.optim.lr_scheduler.OneCycleLR(optimizer, LR, epochs=EPOCHS, steps_per_epoch=8996),\n",
    "            'name': 'OneCycleLR'\n",
    "        }\n",
    "        return [optimizer], [lr_scheduler]\n",
    "    \n",
    "    def inference(self, imgs):\n",
    "        output = self.predict(imgs, self.tokenizer)\n",
    "        return self.postprocessing(output)\n",
    "    \n",
    "    def calculate_lvdistance(self, output, target):\n",
    "        pred_seqs = self.postprocessing(output)\n",
    "        batch_distance = np.mean([\n",
    "            Levenshtein.distance(pred_seq, self.tokenizer.decode(inp_seq))\n",
    "            for pred_seq, inp_seq in zip(pred_seqs, target)\n",
    "        ])\n",
    "        return batch_distance\n",
    "    \n",
    "    def postprocessing(self, output):\n",
    "        final_preds = []\n",
    "        pred_tokens = output.argmax(dim=-1)\n",
    "        for i in range(pred_tokens.size(0)): # iterate on each sample\n",
    "            pred = pred_tokens[i].unique(dim=-1).tolist()\n",
    "            pred = self.tokenizer.decode(pred)\n",
    "            res = re.search(r'C', pred)\n",
    "            if res:\n",
    "                pred = pred[res.span()[0]:]\n",
    "            final_preds.append(pred)\n",
    "        return final_preds\n",
    "    \n",
    "\n",
    "# dm = ImgToInChIDataModule(tb_logger=tb_logger)\n",
    "# dm.prepare_data(verbose=True)\n",
    "# dm.setup('fit')\n",
    "# imgs, inp_seqs, attn_masks = next(iter(dm.train_dataloader()))\n",
    "\n",
    "# encoder_net = Encoder()\n",
    "# encoder_out = encoder_net(imgs)\n",
    "# print(\"Encoder =\", encoder_out.shape)\n",
    "\n",
    "# decoder_net = Decoder(dm.vocab_size)\n",
    "# pred_tokens = decoder_net(encoder_out, inp_seqs)\n",
    "# print(pred_tokens.shape)\n",
    "\n",
    "# pred_tokens = decoder_net.predict(encoder_out, dm.tokenizer)\n",
    "# pred_tokens.shape -->"
   ]
  },
  {
   "cell_type": "code",
   "execution_count": 13,
   "id": "scheduled-mixer",
   "metadata": {
    "execution": {
     "iopub.execute_input": "2021-04-11T08:28:56.903504Z",
     "iopub.status.busy": "2021-04-11T08:28:56.903296Z",
     "iopub.status.idle": "2021-04-11T08:28:56.942744Z",
     "shell.execute_reply": "2021-04-11T08:28:56.942093Z",
     "shell.execute_reply.started": "2021-04-11T08:28:56.903475Z"
    },
    "tags": []
   },
   "outputs": [],
   "source": [
    "class Encoder(nn.Module):\n",
    "    def __init__(self, model_name='resnet18', pretrained=False, out_channels=512):\n",
    "        super().__init__()\n",
    "        last_stride = 2 if INP_SIZE[0] == 256 else 1\n",
    "        self.cnn = timm.create_model(model_name, pretrained=pretrained)\n",
    "        self.cnn.conv1 = nn.Conv2d(1, 64, kernel_size=7, stride=2, padding=3, bias=False)\n",
    "        self.out_channels = out_channels\n",
    "        self.cnn.global_pool = nn.Identity()\n",
    "        self.cnn.fc = nn.Identity()\n",
    "        self.outfc = nn.Sequential(\n",
    "            nn.Conv2d(512, out_channels, kernel_size=3, stride=last_stride, padding=1, bias=False),\n",
    "            nn.BatchNorm2d(out_channels),\n",
    "            nn.ReLU(True)\n",
    "        )\n",
    "#         self.maxpool = nn.MaxPool2d(4,1,ceil_mode=True)\n",
    "\n",
    "    def forward(self, x):\n",
    "        out = self.cnn(x)\n",
    "        out = self.outfc(out)\n",
    "        out = out.view(x.size(0), self.out_channels, -1)\n",
    "        out = out.permute(0, 2, 1)\n",
    "        \n",
    "#         out = self.maxpool(out)\n",
    "#         out = out.view(out.size(0), -1)\n",
    "        return out\n",
    "\n",
    "class Decoder(nn.Module):\n",
    "    def __init__(self, vocab_size, enc_out_channels=512, device=torch.device(\"cuda\")):\n",
    "        super().__init__()\n",
    "        \n",
    "        self.embd = nn.Embedding(vocab_size, vocab_size)\n",
    "        self.init_h = nn.Linear(vocab_size, vocab_size)  # linear layer to find initial hidden state of LSTMCell\n",
    "        self.init_c = nn.Linear(vocab_size, vocab_size)  # linear layer to find initial cell state of LSTMCell\n",
    "        self.lstm = nn.LSTMCell(vocab_size, vocab_size)\n",
    "        self.decfc = nn.Linear(64, MAX_LEN)\n",
    "        self.conv = nn.Sequential(\n",
    "            nn.Conv1d(16, 1, 3, 1, 1, bias=False),\n",
    "            nn.BatchNorm1d(1),\n",
    "            nn.ReLU(True)\n",
    "        )\n",
    "    \n",
    "    def init_hidden_state(self, encoder_out):\n",
    "        mean_encoder_out = encoder_out.mean(dim=1)\n",
    "        h = self.init_h(mean_encoder_out)  # (batch_size, decoder_dim)\n",
    "        c = self.init_c(mean_encoder_out)\n",
    "        return h, c\n",
    "    \n",
    "    def forward(self, encoder_out, inp_seqs):\n",
    "#         print(\"inp_seq before emb =\", inp_seqs.shape)\n",
    "        h, c = self.init_hidden_state(encoder_out)  # (batch_size, decoder_dim)\n",
    "        pred_emb = []\n",
    "        for i in range(MAX_LEN):\n",
    "            emb = self.embd(inp_seqs[:, i])\n",
    "            if i == 0:\n",
    "                emb = emb + self.conv(encoder_out).squeeze(1)\n",
    "            h, c = self.lstm(emb, (h, c))\n",
    "            pred_emb.append(h.unsqueeze(1))\n",
    "        pred_emb = torch.cat(pred_emb, dim=1)\n",
    "        out = pred_emb + encoder_out\n",
    "        return out\n",
    "    \n",
    "    def predict(self, encoder_out, tokenizer):\n",
    "        bs = encoder_out.size(0)\n",
    "        syn_inp_seqs = torch.tensor(tokenizer.vocab.ctoi(tokenizer.vocab.bos_token), device=encoder_out.device)\n",
    "        syn_inp_seqs = torch.repeat_interleave(syn_inp_seqs, bs)\n",
    "        syn_inp_seqs = syn_inp_seqs.view(bs, 1)\n",
    "#         print(\"syn_inp_seqs before emb =\", syn_inp_seqs.shape)\n",
    "#         print('syn_inp_seqs', syn_inp_seqs.shape)\n",
    "        h, c = self.init_hidden_state(encoder_out)  # (batch_size, decoder_dim)\n",
    "        # Predict next tokens to start token\n",
    "        pred_emb = []\n",
    "        for i in range(MAX_LEN):\n",
    "            emb = self.embd(syn_inp_seqs)\n",
    "            if i == 0:\n",
    "                emb = emb.squeeze(1) + self.conv(encoder_out).squeeze(1)\n",
    "#             print(\"h, c, emb =\", h.shape, c.shape, emb.shape)\n",
    "            h, c = self.lstm(emb, (h, c))\n",
    "            pred_emb.append(h.unsqueeze(1))\n",
    "            syn_inp_seqs = h.argmax(dim=-1)\n",
    "            \n",
    "#         print(\"len =\", len(pred_emb))\n",
    "        pred_emb = torch.cat(pred_emb, dim=1)\n",
    "#         print(\"pred_emb =\", pred_emb.shape, encoder_out.shape)\n",
    "\n",
    "        out = pred_emb + encoder_out\n",
    "        return out\n",
    "            \n",
    "class InChINet(pl.LightningModule):\n",
    "    def __init__(self, vocab_size, tokenizer):\n",
    "        super().__init__()\n",
    "        self.tokenizer = tokenizer\n",
    "        self.encoder_net = Encoder(out_channels=vocab_size)\n",
    "        self.decoder_net = Decoder(vocab_size)\n",
    "        self.loss_fn = nn.CrossEntropyLoss()\n",
    "        \n",
    "    def forward(self, imgs, inp_seqs):\n",
    "        encoder_out = self.encoder_net(imgs)\n",
    "#         print(\"Encoder =\", encoder_out.shape)\n",
    "        pred_tokens = self.decoder_net(encoder_out, inp_seqs)\n",
    "        return pred_tokens\n",
    "    \n",
    "    def training_step(self, train_batch, batch_idx):\n",
    "        imgs, inp_seqs, attn_masks = train_batch\n",
    "        output = self.forward(imgs, inp_seqs)\n",
    "        loss = self.loss_fn(output.permute(0,2,1).float(), inp_seqs)\n",
    "        # Logging to TensorBoard by default\n",
    "        self.log('train_loss', loss, on_step=True, on_epoch=True, logger=True)\n",
    "        return loss\n",
    "    \n",
    "    def training_epoch_end(self, outputs):\n",
    "        for name,params in self.named_parameters():\n",
    "            self.logger.experiment.add_histogram(name, params, self.current_epoch)\n",
    "    \n",
    "    def validation_step(self, val_batch, batch_idx):\n",
    "        imgs, inp_seqs, attn_masks = val_batch\n",
    "        output = self.predict(imgs, self.tokenizer)\n",
    "        loss = self.loss_fn(output.permute(0,2,1).float(), inp_seqs)\n",
    "        self.log('val_loss', loss, on_step=True, on_epoch=True, logger=True)\n",
    "        \n",
    "        lv_metric = self.calculate_lvdistance(output, inp_seqs)\n",
    "        self.logger.log_metrics({\"LvDistance\": lv_metric}, step=1)\n",
    "        return loss\n",
    "    \n",
    "    def predict(self, imgs, tokenizer):\n",
    "        encoder_out = self.encoder_net(imgs)\n",
    "        pred_tokens = self.decoder_net.predict(encoder_out, tokenizer)\n",
    "        return pred_tokens\n",
    "\n",
    "    def configure_optimizers(self):\n",
    "        optimizer = torch.optim.Adam(self.parameters(), lr=1e-2)\n",
    "        lr_scheduler = {\n",
    "            'scheduler': torch.optim.lr_scheduler.CosineAnnealingLR(optimizer, 100),\n",
    "            'name': 'AnnealingLR'\n",
    "        }\n",
    "        return [optimizer], [lr_scheduler]\n",
    "    \n",
    "    def inference(self, imgs):\n",
    "        output = self.predict(imgs, self.tokenizer)\n",
    "        return self.postprocessing(output)\n",
    "    \n",
    "    def calculate_lvdistance(self, output, target):\n",
    "        pred_seqs = self.postprocessing(output)\n",
    "        batch_distance = np.mean([\n",
    "            Levenshtein.distance(pred_seq, self.tokenizer.decode(inp_seq))\n",
    "            for pred_seq, inp_seq in zip(pred_seqs, target)\n",
    "        ])\n",
    "        return batch_distance\n",
    "    \n",
    "    def postprocessing(self, output):\n",
    "        final_preds = []\n",
    "        pred_tokens = output.argmax(dim=-1)\n",
    "        for i in range(pred_tokens.size(0)): # iterate on each sample\n",
    "            pred = pred_tokens[i].unique(dim=-1).tolist()\n",
    "            pred = self.tokenizer.decode(pred)\n",
    "            res = re.search(r'C', pred)\n",
    "            if res:\n",
    "                pred = pred[res.span()[0]:]\n",
    "            final_preds.append(pred)\n",
    "        return final_preds\n",
    "    \n",
    "    \n",
    "# dm.setup('fit')\n",
    "# imgs, inp_seqs, attn_masks = next(iter(dm.train_dataloader()))\n",
    "\n",
    "# encoder_net = Encoder(out_channels=dm.vocab_size)\n",
    "# encoder_out = encoder_net(imgs)\n",
    "# print(\"Encoder =\", encoder_out.shape)\n",
    "\n",
    "# decoder_net = Decoder(dm.vocab_size)\n",
    "# print(inp_seqs.shape)\n",
    "# pred_tokens = decoder_net(encoder_out, inp_seqs)\n",
    "# print(pred_tokens.shape)\n",
    "\n",
    "# pred_tokens = decoder_net.predict(encoder_out, dm.tokenizer)\n",
    "# pred_tokens.shape"
   ]
  },
  {
   "cell_type": "markdown",
   "id": "equal-combat",
   "metadata": {},
   "source": [
    "# Training and Validation"
   ]
  },
  {
   "cell_type": "code",
   "execution_count": 14,
   "id": "collectible-effort",
   "metadata": {
    "execution": {
     "iopub.execute_input": "2021-04-11T08:28:56.943769Z",
     "iopub.status.busy": "2021-04-11T08:28:56.943607Z",
     "iopub.status.idle": "2021-04-11T10:22:07.374120Z",
     "shell.execute_reply": "2021-04-11T10:22:07.373484Z",
     "shell.execute_reply.started": "2021-04-11T08:28:56.943749Z"
    },
    "tags": []
   },
   "outputs": [
    {
     "name": "stdout",
     "output_type": "stream",
     "text": [
      "Loading labels data... DONE!\n",
      "Loading paths... DONE!\n",
      "Loading vocab and tokenizer... DONE!\n"
     ]
    },
    {
     "name": "stderr",
     "output_type": "stream",
     "text": [
      "GPU available: True, used: True\n",
      "TPU available: None, using: 0 TPU cores\n",
      "Using native 16bit precision.\n",
      "LOCAL_RANK: 0 - CUDA_VISIBLE_DEVICES: [0]\n",
      "\n",
      "  | Name        | Type             | Params\n",
      "-------------------------------------------------\n",
      "0 | encoder_net | Encoder          | 13.2 M\n",
      "1 | decoder_net | Decoder          | 2.0 M \n",
      "2 | loss_fn     | CrossEntropyLoss | 0     \n",
      "-------------------------------------------------\n",
      "15.2 M    Trainable params\n",
      "0         Non-trainable params\n",
      "15.2 M    Total params\n",
      "60.767    Total estimated model params size (MB)\n"
     ]
    },
    {
     "data": {
      "application/vnd.jupyter.widget-view+json": {
       "model_id": "",
       "version_major": 2,
       "version_minor": 0
      },
      "text/plain": [
       "Validation sanity check: 0it [00:00, ?it/s]"
      ]
     },
     "metadata": {},
     "output_type": "display_data"
    },
    {
     "data": {
      "application/vnd.jupyter.widget-view+json": {
       "model_id": "b47624896f2e4ebca62079041fb2276d",
       "version_major": 2,
       "version_minor": 0
      },
      "text/plain": [
       "Training: 0it [00:00, ?it/s]"
      ]
     },
     "metadata": {},
     "output_type": "display_data"
    },
    {
     "data": {
      "application/vnd.jupyter.widget-view+json": {
       "model_id": "",
       "version_major": 2,
       "version_minor": 0
      },
      "text/plain": [
       "Validating: 0it [00:00, ?it/s]"
      ]
     },
     "metadata": {},
     "output_type": "display_data"
    },
    {
     "name": "stderr",
     "output_type": "stream",
     "text": [
      "\n",
      "\n",
      "Profiler Report\n",
      "\n",
      "Action                             \t|  Mean duration (s)\t|Num calls      \t|  Total time (s) \t|  Percentage %   \t|\n",
      "------------------------------------------------------------------------------------------------------------------------------------\n",
      "Total                              \t|  -              \t|_              \t|  6784.7         \t|  100 %          \t|\n",
      "------------------------------------------------------------------------------------------------------------------------------------\n",
      "run_training_epoch                 \t|  6771.5         \t|1              \t|  6771.5         \t|  99.806         \t|\n",
      "run_training_batch                 \t|  0.71721        \t|8996           \t|  6452.0         \t|  95.096         \t|\n",
      "optimizer_step_and_closure_0       \t|  0.7124         \t|8996           \t|  6408.8         \t|  94.459         \t|\n",
      "training_step_and_backward         \t|  0.029253       \t|8996           \t|  263.16         \t|  3.8787         \t|\n",
      "evaluation_step_and_end            \t|  0.30174        \t|476            \t|  143.63         \t|  2.1169         \t|\n",
      "validation_step                    \t|  0.30131        \t|476            \t|  143.42         \t|  2.1139         \t|\n",
      "model_backward                     \t|  0.014721       \t|8996           \t|  132.43         \t|  1.9518         \t|\n",
      "model_forward                      \t|  0.013041       \t|8996           \t|  117.32         \t|  1.7291         \t|\n",
      "training_step                      \t|  0.012669       \t|8996           \t|  113.97         \t|  1.6798         \t|\n",
      "on_train_batch_end                 \t|  0.0024387      \t|8996           \t|  21.938         \t|  0.32335        \t|\n",
      "get_train_batch                    \t|  0.00081558     \t|8996           \t|  7.3369         \t|  0.10814        \t|\n",
      "on_validation_batch_end            \t|  0.0030008      \t|476            \t|  1.4284         \t|  0.021053       \t|\n",
      "cache_result                       \t|  2.8807e-05     \t|46428          \t|  1.3375         \t|  0.019713       \t|\n",
      "on_validation_end                  \t|  0.48716        \t|2              \t|  0.97432        \t|  0.014361       \t|\n",
      "on_batch_start                     \t|  3.181e-05      \t|8996           \t|  0.28616        \t|  0.0042177      \t|\n",
      "on_train_batch_start               \t|  2.8633e-05     \t|8996           \t|  0.25758        \t|  0.0037965      \t|\n",
      "on_after_backward                  \t|  2.8215e-05     \t|8996           \t|  0.25382        \t|  0.0037411      \t|\n",
      "on_before_zero_grad                \t|  2.4618e-05     \t|8996           \t|  0.22147        \t|  0.0032642      \t|\n",
      "on_batch_end                       \t|  2.084e-05      \t|8996           \t|  0.18748        \t|  0.0027632      \t|\n",
      "training_step_end                  \t|  1.9142e-05     \t|8996           \t|  0.1722         \t|  0.0025381      \t|\n",
      "on_train_end                       \t|  0.12974        \t|1              \t|  0.12974        \t|  0.0019123      \t|\n",
      "on_train_start                     \t|  0.042587       \t|1              \t|  0.042587       \t|  0.00062769     \t|\n",
      "on_validation_start                \t|  0.015952       \t|2              \t|  0.031904       \t|  0.00047023     \t|\n",
      "on_validation_batch_start          \t|  3.3411e-05     \t|476            \t|  0.015903       \t|  0.0002344      \t|\n",
      "validation_step_end                \t|  1.713e-05      \t|476            \t|  0.0081539      \t|  0.00012018     \t|\n",
      "on_epoch_start                     \t|  0.0019461      \t|1              \t|  0.0019461      \t|  2.8684e-05     \t|\n",
      "on_validation_epoch_start          \t|  2.1382e-05     \t|2              \t|  4.2765e-05     \t|  6.3031e-07     \t|\n",
      "on_epoch_end                       \t|  1.1662e-05     \t|3              \t|  3.4987e-05     \t|  5.1567e-07     \t|\n",
      "on_validation_epoch_end            \t|  1.6664e-05     \t|2              \t|  3.3328e-05     \t|  4.9122e-07     \t|\n",
      "on_fit_start                       \t|  2.414e-05      \t|1              \t|  2.414e-05      \t|  3.558e-07      \t|\n",
      "on_before_accelerator_backend_setup\t|  2.1351e-05     \t|1              \t|  2.1351e-05     \t|  3.1469e-07     \t|\n",
      "on_train_epoch_end                 \t|  2.0084e-05     \t|1              \t|  2.0084e-05     \t|  2.9602e-07     \t|\n",
      "on_train_epoch_start               \t|  1.3931e-05     \t|1              \t|  1.3931e-05     \t|  2.0533e-07     \t|\n",
      "\n"
     ]
    },
    {
     "data": {
      "text/plain": [
       "1"
      ]
     },
     "execution_count": 14,
     "metadata": {},
     "output_type": "execute_result"
    }
   ],
   "source": [
    "# %tensorboard --logdir {CHKPTDIR}\n",
    "\n",
    "dm = ImgToInChIDataModule(tb_logger=tb_logger)\n",
    "dm.prepare_data(verbose=True)\n",
    "\n",
    "model = InChINet(dm.vocab_size, dm.tokenizer)\n",
    "# Add network graph to tensorboard\n",
    "# tb_logger.log_graph(model, [imgs[0].unsqueeze(0).to(model.device), inp_seqs[0].unsqueeze(0).to(model.device)])\n",
    "lr_monitor = pl.callbacks.LearningRateMonitor(logging_interval='step')\n",
    "\n",
    "trainer = pl.Trainer(gpus=1, auto_lr_find=True, max_epochs=EPOCHS, precision=PRECISION, profiler=\"simple\", \n",
    "                     default_root_dir=CHKPTDIR, logger=tb_logger, callbacks=[lr_monitor])\n",
    "\n",
    "trainer.fit(model, dm)"
   ]
  },
  {
   "cell_type": "code",
   "execution_count": 15,
   "id": "billion-shopper",
   "metadata": {
    "execution": {
     "iopub.execute_input": "2021-04-11T10:22:07.376068Z",
     "iopub.status.busy": "2021-04-11T10:22:07.375881Z",
     "iopub.status.idle": "2021-04-11T10:26:27.469398Z",
     "shell.execute_reply": "2021-04-11T10:26:27.468787Z",
     "shell.execute_reply.started": "2021-04-11T10:22:07.376046Z"
    },
    "tags": []
   },
   "outputs": [
    {
     "data": {
      "text/html": [
       "\n",
       "    <div>\n",
       "        <style>\n",
       "            /* Turns off some styling */\n",
       "            progress {\n",
       "                /* gets rid of default border in Firefox and Opera. */\n",
       "                border: none;\n",
       "                /* Needs to be in here for Safari polyfill so background images work as expected. */\n",
       "                background-size: auto;\n",
       "            }\n",
       "            .progress-bar-interrupted, .progress-bar-interrupted::-webkit-progress-bar {\n",
       "                background: #F44336;\n",
       "            }\n",
       "        </style>\n",
       "      <progress value='474' class='' max='474' style='width:300px; height:20px; vertical-align: middle;'></progress>\n",
       "      100.00% [474/474 04:19<00:00]\n",
       "    </div>\n",
       "    "
      ],
      "text/plain": [
       "<IPython.core.display.HTML object>"
      ]
     },
     "metadata": {},
     "output_type": "display_data"
    },
    {
     "data": {
      "text/plain": [
       "2.9538404422077384"
      ]
     },
     "execution_count": 15,
     "metadata": {},
     "output_type": "execute_result"
    }
   ],
   "source": [
    "device = torch.device(\"cuda\")\n",
    "total_distance = []\n",
    "for (imgs, inp_seqs, attn_masks) in progress_bar(dm.val_dataloader()):\n",
    "    model.eval()\n",
    "    model = model.to(device)\n",
    "    imgs = imgs.to(device)\n",
    "    pred_seqs = model.inference(imgs)\n",
    "#     print([(pred_seq, dm.tokenizer.decode(inp_seq)) for pred_seq, inp_seq in zip(pred_seqs, inp_seqs)])\n",
    "#     break\n",
    "    batch_distance = [\n",
    "        Levenshtein.distance(pred_seq, dm.tokenizer.decode(inp_seq))\n",
    "        for pred_seq, inp_seq in zip(pred_seqs, inp_seqs)\n",
    "    ]\n",
    "    total_distance += batch_distance\n",
    "np.mean(total_distance)"
   ]
  },
  {
   "cell_type": "code",
   "execution_count": 16,
   "id": "touched-thread",
   "metadata": {
    "execution": {
     "iopub.execute_input": "2021-04-11T10:26:27.470942Z",
     "iopub.status.busy": "2021-04-11T10:26:27.470553Z",
     "iopub.status.idle": "2021-04-11T10:26:27.502895Z",
     "shell.execute_reply": "2021-04-11T10:26:27.501994Z",
     "shell.execute_reply.started": "2021-04-11T10:26:27.470886Z"
    },
    "tags": []
   },
   "outputs": [
    {
     "name": "stdout",
     "output_type": "stream",
     "text": [
      "[('C15ClH14N3', 'C16H14ClN3'), ('C34H32N2O2', 'C33H32N2O2'), ('C14F3H20N3O', 'C13H20F3N3O2'), ('C12H20N4O3S', 'C11H18N4O3S'), ('C17H27N3S', 'C16H27N3S'), ('C8F3H12NO', 'C7H12F3NO'), ('C14H14N4O2', 'C14H15N3O2'), ('C20H26N8', 'C19H24N8'), ('C17H25NO2S', 'C17H25NO2S'), ('C23H28N2O2', 'C22H28N2O2'), ('C22H27N3O5S', 'C21H25N3O5S'), ('C20Cl2H26N6', 'C19H26Cl2N6'), ('C15Cl2H18N2O2', 'C14H18Cl2N2O2'), ('C15ClH15N2O3', 'C15H15ClN2O3'), ('C22H23N3O3', 'C22H23N3O3'), ('C20FH18NO3', 'C20H18FNO3'), ('C20ClH17N2S2', 'C20H17ClF2N2O4S2'), ('C16F2H21N3', 'C16H21F2N3'), ('C28H33N5O5', 'C26H32N4O4'), ('C15H26N2O2S', 'C16H26N2O2S'), ('C12H26N2S', 'C12H26N2S'), ('C20FH20N3O2', 'C18H20FN3O2'), ('C15H20N4O3S', 'C15H18N4O3S2'), ('C17H22N2O2', 'C16H22N2O2'), ('C20H17N3OS2', 'C19H15N3OS2'), ('C13H17N3O3S', 'C13H15N3O3S'), ('C28H24N2OS', 'C28H24N2OS'), ('C18H22N4O3S', 'C17H22N4O3S'), ('C23H27N3O2S', 'C22H27N3O2S'), ('C14H21N5', 'C13H21N5'), ('C25H21N3O4', 'C24H19N3O4'), ('C15F2H17NO2', 'C14H18BrF2NO2'), ('C28ClH48N2', 'C28H47BrN2O3'), ('C15H26N4O3S', 'C15H26N4O3S'), ('C25H22N6O3', 'C22H24N6O2S'), ('C20FH27N4O3', 'C20H25FN4O3'), ('C14ClFH11O', 'C14H11BrClFO'), ('C18H17N6O', 'C17H18N6O'), ('C20F2H17N2S', 'C17H14I2N2O4S'), ('C20FH19N2O3', 'C20H21FN2O3'), ('C15FH13NO', 'C15H13BrFNO'), ('C12H15N5O2S', 'C12H13N5O2S'), ('C22H28N2O3', 'C22H28N2O3'), ('C22ClH26N6O3S', 'C22H25ClN6O3S'), ('C10H15N3O2', 'C9H13N3O2'), ('C22F3H24N3O3', 'C21H22F3N3O3'), ('C15H21N3O', 'C15H21N3O'), ('C25ClFH20N2O5', 'C24H18ClFN2O4'), ('C26Cl2H26N2O3', 'C25H24Cl2N2O3'), ('C25H25N3O2', 'C24H25N3O2'), ('C12H17N2', 'C12H19ClN2'), ('C28H48N7O3', 'C30H44N6O3S'), ('C14F4H12NS', 'C14H12BrF4NS'), ('C18H13NO5', 'C17H13NO5'), ('C20F3H17N3', 'C19H18F2IN3O4'), ('C20H17N3O2S', 'C18H17N3O2S'), ('C18ClH11N6', 'C17H11ClN6'), ('C17H16O4S', 'C17H16O4S'), ('C25ClFH27O3', 'C23H24ClN3O3'), ('C20H17N2O4', 'C20H22N2O4'), ('C13H13N7O2', 'C12H13N7O2'), ('C11FH12NS', 'C11H12FNS'), ('C11H18N4O', 'C10H18N4O'), ('C18H16N2O2S', 'C17H16N2O2S'), ('C9H16N2OS', 'C9H16N2OS'), ('C9H7N4', 'C9H7BrN4'), ('C22ClH22N3O2S', 'C22H20ClN3O2S'), ('C17H22N2O4', 'C16H22N2O4'), ('C15H23NO2', 'C15H23NO2'), ('C28H40N2O6', 'C27H39N3O5'), ('C28H32N4O3', 'C27H32N4O3'), ('C20H25N7O2S', 'C18H25N7O2S'), ('C28H33N3O4', 'C25H33N3O4S'), ('C20H28N4O3S', 'C19H28N4O3S'), ('C22H20N4O2', 'C22H20N4O2'), ('C14H22N2O2S', 'C13H22N2O2S'), ('C22H19N3O4S2', 'C22H19N3O4S2'), ('C18H17N9', 'C17H19N9'), ('C13F2H11N3O2S2', 'C12H11F2N3O2S2'), ('C15H25N3O2S', 'C16H25N3O2S'), ('C20H30N2O4', 'C19H30N2O4'), ('C20F2H12N2OS', 'C18H12F2N2OS'), ('C17H22N2O', 'C16H22N2O'), ('C15H20N2O2', 'C15H20NO2'), ('C23ClH26N5O2', 'C23H24ClN5O2'), ('C16H21N3O', 'C16H21N3O'), ('C20Cl2FH20N4O', 'C20H19Cl2FN4O'), ('C22ClFH20N2O2S', 'C21H22ClFN2O2S'), ('C15H13N3OS2', 'C14H13N3OS2'), ('C28F3H34N2O7', 'C28H32F3N3O5'), ('C15FH8NO4', 'C14H8INO4'), ('C22H23N3O2', 'C23H25N3O2'), ('C20H23N3O6', 'C18H23N3O6'), ('C17H27NO2', 'C17H27NO2'), ('C24H28N4OS', 'C23H28N4OS'), ('C34H36N3O6', 'C33H35N3O6'), ('C9ClH9N2O2', 'C9H9ClN2O2'), ('C15ClH24NO', 'C15H24ClNO'), ('C14ClH12N5', 'C13H12ClN5O'), ('C15H30N5O12', 'C15H29N5O15P2'), ('C15H17N3O4S2', 'C14H15N3O4S2'), ('C10H17N5O', 'C10H17N5O'), ('C13H25N3OS', 'C13H25N3OS'), ('C28F6H40N2S', 'C26H34F3NO8S2'), ('C57H94O6', 'C57H102O6'), ('C12H17N2', 'C11H17BrN2'), ('C20H17N5O3', 'C18H17N5O3'), ('C20H28N2O3S', 'C21H28N2O4S'), ('C20H35NO2', 'C20H35NO2'), ('C25H29N2O6S2', 'C24H29NO6S2'), ('C9H20N2O6S', 'C9H18N2O6S'), ('C20H21N3O3', 'C20H21N3O3'), ('C28H40N2', 'C24H39NO4S'), ('C28H58N2', 'C24H56N6O'), ('C31H32N4O6S2', 'C31H34N4O6S2'), ('C12H17N2O4', 'C10H14N2O5'), ('C9H13N2O4S', 'C9H11BrN2O4S'), ('C17ClH18N3O', 'C16H18ClN3O'), ('C22H39N', 'C22H37N'), ('C15H21N5O2', 'C15H21N5O2'), ('C28H23NO4', 'C26H21NO4'), ('C18ClH16N2O2', 'C17H14BrClN2O2')]\n"
     ]
    }
   ],
   "source": [
    "print([(pred_seq, dm.tokenizer.decode(inp_seq)) for pred_seq, inp_seq in zip(pred_seqs, inp_seqs)])"
   ]
  },
  {
   "cell_type": "code",
   "execution_count": 17,
   "id": "miniature-celtic",
   "metadata": {
    "execution": {
     "iopub.execute_input": "2021-04-11T10:26:27.504187Z",
     "iopub.status.busy": "2021-04-11T10:26:27.503916Z",
     "iopub.status.idle": "2021-04-11T10:26:27.527622Z",
     "shell.execute_reply": "2021-04-11T10:26:27.527121Z",
     "shell.execute_reply.started": "2021-04-11T10:26:27.504158Z"
    },
    "tags": []
   },
   "outputs": [],
   "source": [
    "# 2.3149080108901905"
   ]
  },
  {
   "cell_type": "code",
   "execution_count": null,
   "id": "rough-surname",
   "metadata": {},
   "outputs": [],
   "source": []
  }
 ],
 "metadata": {
  "kernelspec": {
   "display_name": "Python (pt)",
   "language": "python",
   "name": "pt"
  },
  "language_info": {
   "codemirror_mode": {
    "name": "ipython",
    "version": 3
   },
   "file_extension": ".py",
   "mimetype": "text/x-python",
   "name": "python",
   "nbconvert_exporter": "python",
   "pygments_lexer": "ipython3",
   "version": "3.9.2"
  },
  "widgets": {
   "application/vnd.jupyter.widget-state+json": {
    "state": {
     "044c785c324441578d84711056a1b1e6": {
      "model_module": "@jupyter-widgets/base",
      "model_module_version": "1.2.0",
      "model_name": "LayoutModel",
      "state": {}
     },
     "0c56ddf857934db69e9ef056be522544": {
      "model_module": "@jupyter-widgets/controls",
      "model_module_version": "1.5.0",
      "model_name": "HTMLModel",
      "state": {
       "layout": "IPY_MODEL_044c785c324441578d84711056a1b1e6",
       "style": "IPY_MODEL_a7e5ebf14bd44fbe8ee5625b578dbe29",
       "value": "Validation sanity check: 100%"
      }
     },
     "181fb1aa2ef0458d9bf228c6026ad676": {
      "model_module": "@jupyter-widgets/base",
      "model_module_version": "1.2.0",
      "model_name": "LayoutModel",
      "state": {}
     },
     "18b00564ff734d199bba3613e06ea508": {
      "model_module": "@jupyter-widgets/controls",
      "model_module_version": "1.5.0",
      "model_name": "FloatProgressModel",
      "state": {
       "layout": "IPY_MODEL_7422af5a441444488b654c8b2da4198a",
       "max": 2,
       "style": "IPY_MODEL_729d7c20abfd4f18a502acd470f1dd59",
       "value": 2
      }
     },
     "1ab2b869eb554a1dba8096c553d6f38f": {
      "model_module": "@jupyter-widgets/controls",
      "model_module_version": "1.5.0",
      "model_name": "FloatProgressModel",
      "state": {
       "bar_style": "success",
       "layout": "IPY_MODEL_64efffa4c91846158a2ab473cd6baa3e",
       "max": 9470,
       "style": "IPY_MODEL_8644ada510be419282fc327058d1ffe1",
       "value": 9470
      }
     },
     "3a48904e9c4a4ec5a62ecce5366433e7": {
      "model_module": "@jupyter-widgets/base",
      "model_module_version": "1.2.0",
      "model_name": "LayoutModel",
      "state": {
       "display": "inline-flex",
       "flex_flow": "row wrap",
       "width": "100%"
      }
     },
     "3da893554dfb4cbc80fe4c8f68ddc0d5": {
      "model_module": "@jupyter-widgets/controls",
      "model_module_version": "1.5.0",
      "model_name": "HTMLModel",
      "state": {
       "layout": "IPY_MODEL_69dfebaa1a114dfb9a523b21494bd626",
       "style": "IPY_MODEL_b9cabee416e0467d964352d5252a43ea",
       "value": " 2/2 [00:03&lt;00:00,  1.50s/it]"
      }
     },
     "42ec2725a9844c719d894b720abc12db": {
      "model_module": "@jupyter-widgets/base",
      "model_module_version": "1.2.0",
      "model_name": "LayoutModel",
      "state": {}
     },
     "4c0f72954e7f46cca6fd5897de343849": {
      "model_module": "@jupyter-widgets/controls",
      "model_module_version": "1.5.0",
      "model_name": "DescriptionStyleModel",
      "state": {
       "description_width": ""
      }
     },
     "52a1e88b6b964e089f5c97f139ff5cf8": {
      "model_module": "@jupyter-widgets/controls",
      "model_module_version": "1.5.0",
      "model_name": "HTMLModel",
      "state": {
       "layout": "IPY_MODEL_b5c14883b20345f597af78d2b6e8d3ac",
       "style": "IPY_MODEL_ad1c4a1d54874b0d9a5b57f7887dc7a9",
       "value": " 9470/9470 [1:52:51&lt;00:00,  1.40it/s, loss=0.147, v_num=18]"
      }
     },
     "5f38db88534044ab90656cc446bcda83": {
      "model_module": "@jupyter-widgets/controls",
      "model_module_version": "1.5.0",
      "model_name": "DescriptionStyleModel",
      "state": {
       "description_width": ""
      }
     },
     "64efffa4c91846158a2ab473cd6baa3e": {
      "model_module": "@jupyter-widgets/base",
      "model_module_version": "1.2.0",
      "model_name": "LayoutModel",
      "state": {
       "flex": "2"
      }
     },
     "69dfebaa1a114dfb9a523b21494bd626": {
      "model_module": "@jupyter-widgets/base",
      "model_module_version": "1.2.0",
      "model_name": "LayoutModel",
      "state": {}
     },
     "729d7c20abfd4f18a502acd470f1dd59": {
      "model_module": "@jupyter-widgets/controls",
      "model_module_version": "1.5.0",
      "model_name": "ProgressStyleModel",
      "state": {
       "description_width": ""
      }
     },
     "7422af5a441444488b654c8b2da4198a": {
      "model_module": "@jupyter-widgets/base",
      "model_module_version": "1.2.0",
      "model_name": "LayoutModel",
      "state": {
       "flex": "2"
      }
     },
     "76ea666f956e4ed1bf1f2248f86a6618": {
      "model_module": "@jupyter-widgets/base",
      "model_module_version": "1.2.0",
      "model_name": "LayoutModel",
      "state": {
       "display": "inline-flex",
       "flex_flow": "row wrap",
       "width": "100%"
      }
     },
     "8644ada510be419282fc327058d1ffe1": {
      "model_module": "@jupyter-widgets/controls",
      "model_module_version": "1.5.0",
      "model_name": "ProgressStyleModel",
      "state": {
       "description_width": ""
      }
     },
     "92660d4f3ef04ca1b3f970412c7f55b5": {
      "model_module": "@jupyter-widgets/controls",
      "model_module_version": "1.5.0",
      "model_name": "HTMLModel",
      "state": {
       "layout": "IPY_MODEL_42ec2725a9844c719d894b720abc12db",
       "style": "IPY_MODEL_4c0f72954e7f46cca6fd5897de343849",
       "value": "Epoch 0: 100%"
      }
     },
     "9a299260ab664e898547fff1ed416ca3": {
      "model_module": "@jupyter-widgets/controls",
      "model_module_version": "1.5.0",
      "model_name": "HTMLModel",
      "state": {
       "layout": "IPY_MODEL_181fb1aa2ef0458d9bf228c6026ad676",
       "style": "IPY_MODEL_5f38db88534044ab90656cc446bcda83",
       "value": " 474/474 [04:38&lt;00:00,  2.80it/s]"
      }
     },
     "a421982e168d4c09815ab8962d202a95": {
      "model_module": "@jupyter-widgets/controls",
      "model_module_version": "1.5.0",
      "model_name": "FloatProgressModel",
      "state": {
       "layout": "IPY_MODEL_da0eb50a78d145b2a3a6d5e4e9ac5cf0",
       "max": 474,
       "style": "IPY_MODEL_d303bd1e3e9e445a8ebdc1555ed06f49",
       "value": 474
      }
     },
     "a7e5ebf14bd44fbe8ee5625b578dbe29": {
      "model_module": "@jupyter-widgets/controls",
      "model_module_version": "1.5.0",
      "model_name": "DescriptionStyleModel",
      "state": {
       "description_width": ""
      }
     },
     "a8e9b31e708242e39c7c5315d9004828": {
      "model_module": "@jupyter-widgets/base",
      "model_module_version": "1.2.0",
      "model_name": "LayoutModel",
      "state": {}
     },
     "ad1c4a1d54874b0d9a5b57f7887dc7a9": {
      "model_module": "@jupyter-widgets/controls",
      "model_module_version": "1.5.0",
      "model_name": "DescriptionStyleModel",
      "state": {
       "description_width": ""
      }
     },
     "b47624896f2e4ebca62079041fb2276d": {
      "model_module": "@jupyter-widgets/controls",
      "model_module_version": "1.5.0",
      "model_name": "HBoxModel",
      "state": {
       "children": [
        "IPY_MODEL_92660d4f3ef04ca1b3f970412c7f55b5",
        "IPY_MODEL_1ab2b869eb554a1dba8096c553d6f38f",
        "IPY_MODEL_52a1e88b6b964e089f5c97f139ff5cf8"
       ],
       "layout": "IPY_MODEL_76ea666f956e4ed1bf1f2248f86a6618"
      }
     },
     "b559042aba5d4c5c99c1a06d5b97127c": {
      "model_module": "@jupyter-widgets/controls",
      "model_module_version": "1.5.0",
      "model_name": "DescriptionStyleModel",
      "state": {
       "description_width": ""
      }
     },
     "b5c14883b20345f597af78d2b6e8d3ac": {
      "model_module": "@jupyter-widgets/base",
      "model_module_version": "1.2.0",
      "model_name": "LayoutModel",
      "state": {}
     },
     "b9cabee416e0467d964352d5252a43ea": {
      "model_module": "@jupyter-widgets/controls",
      "model_module_version": "1.5.0",
      "model_name": "DescriptionStyleModel",
      "state": {
       "description_width": ""
      }
     },
     "d17215871ae84d71b2154284e01403d3": {
      "model_module": "@jupyter-widgets/base",
      "model_module_version": "1.2.0",
      "model_name": "LayoutModel",
      "state": {
       "display": "inline-flex",
       "flex_flow": "row wrap",
       "width": "100%"
      }
     },
     "d303bd1e3e9e445a8ebdc1555ed06f49": {
      "model_module": "@jupyter-widgets/controls",
      "model_module_version": "1.5.0",
      "model_name": "ProgressStyleModel",
      "state": {
       "description_width": ""
      }
     },
     "da0eb50a78d145b2a3a6d5e4e9ac5cf0": {
      "model_module": "@jupyter-widgets/base",
      "model_module_version": "1.2.0",
      "model_name": "LayoutModel",
      "state": {
       "flex": "2"
      }
     },
     "ec43ef72784347b68fe668b5ae45b9d1": {
      "model_module": "@jupyter-widgets/controls",
      "model_module_version": "1.5.0",
      "model_name": "HTMLModel",
      "state": {
       "layout": "IPY_MODEL_a8e9b31e708242e39c7c5315d9004828",
       "style": "IPY_MODEL_b559042aba5d4c5c99c1a06d5b97127c",
       "value": "Validating: 100%"
      }
     }
    },
    "version_major": 2,
    "version_minor": 0
   }
  }
 },
 "nbformat": 4,
 "nbformat_minor": 5
}

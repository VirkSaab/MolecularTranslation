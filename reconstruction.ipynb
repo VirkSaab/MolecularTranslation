{
 "cells": [
  {
   "cell_type": "code",
   "execution_count": 2,
   "id": "amended-baseball",
   "metadata": {
    "ExecuteTime": {
     "start_time": "2021-03-29T08:31:24.428Z"
    },
    "execution": {
     "iopub.execute_input": "2021-03-29T13:03:17.264697Z",
     "iopub.status.busy": "2021-03-29T13:03:17.264508Z",
     "iopub.status.idle": "2021-03-29T13:03:17.632349Z",
     "shell.execute_reply": "2021-03-29T13:03:17.631574Z",
     "shell.execute_reply.started": "2021-03-29T13:03:17.264679Z"
    },
    "tags": []
   },
   "outputs": [
    {
     "name": "stdout",
     "output_type": "stream",
     "text": [
      "Random Seed:  999\n"
     ]
    }
   ],
   "source": [
    "import os\n",
    "import random\n",
    "import numpy as np\n",
    "import pandas as pd\n",
    "import matplotlib.pyplot as plt\n",
    "import matplotlib.animation as animation\n",
    "import torch\n",
    "import torch.nn as nn\n",
    "import torch.nn.parallel\n",
    "import torch.backends.cudnn as cudnn\n",
    "import torch.optim as optim\n",
    "import torchvision.datasets as dset\n",
    "import torchvision.transforms as transforms\n",
    "from torch.utils.data import DataLoader, Dataset, random_split\n",
    "from IPython.display import HTML\n",
    "from pathlib import Path\n",
    "from PIL import Image\n",
    "from pytorch_msssim import SSIM\n",
    "\n",
    "# Set random seed for reproducibility\n",
    "manualSeed = 999\n",
    "#manualSeed = random.randint(1, 10000) # use if you want new results\n",
    "print(\"Random Seed: \", manualSeed)\n",
    "random.seed(manualSeed)\n",
    "torch.manual_seed(manualSeed);\n",
    "\n",
    "# This monkey-patch is there to be able to plot tensors\n",
    "torch.Tensor.ndim = property(lambda x: len(x.shape))"
   ]
  },
  {
   "cell_type": "code",
   "execution_count": 3,
   "id": "specialized-metabolism",
   "metadata": {
    "ExecuteTime": {
     "end_time": "2021-03-29T08:30:43.175577Z",
     "start_time": "2021-03-29T08:30:43.145809Z"
    },
    "execution": {
     "iopub.execute_input": "2021-03-29T13:03:18.020217Z",
     "iopub.status.busy": "2021-03-29T13:03:18.019787Z",
     "iopub.status.idle": "2021-03-29T13:03:18.061095Z",
     "shell.execute_reply": "2021-03-29T13:03:18.060447Z",
     "shell.execute_reply.started": "2021-03-29T13:03:18.020159Z"
    },
    "tags": []
   },
   "outputs": [],
   "source": [
    "pathsdf = pd.read_feather(\"input_and_inchi_imgs_paths.feather\")\n",
    "\n",
    "BATCH_SIZE = 32\n",
    "INP_SIZE = (256, 256)\n",
    "N_INP_CH = 1\n",
    "N_OUT_CH = 3\n",
    "LR = 1e-2\n",
    "EPOCHS = 10\n",
    "beta1 = 0.5"
   ]
  },
  {
   "cell_type": "markdown",
   "id": "conscious-conditioning",
   "metadata": {},
   "source": [
    "# Data"
   ]
  },
  {
   "cell_type": "code",
   "execution_count": 55,
   "id": "julian-makeup",
   "metadata": {
    "ExecuteTime": {
     "end_time": "2021-03-29T08:30:43.180857Z",
     "start_time": "2021-03-29T08:30:43.177241Z"
    },
    "execution": {
     "iopub.execute_input": "2021-03-29T13:20:12.355727Z",
     "iopub.status.busy": "2021-03-29T13:20:12.355471Z",
     "iopub.status.idle": "2021-03-29T13:20:12.360701Z",
     "shell.execute_reply": "2021-03-29T13:20:12.360010Z",
     "shell.execute_reply.started": "2021-03-29T13:20:12.355673Z"
    },
    "tags": []
   },
   "outputs": [],
   "source": [
    "from PIL import ImageFilter\n",
    "class ReconsDataset(Dataset):\n",
    "    def __init__(self, pathsdf, tsfmsX, tsfmsY):\n",
    "        super().__init__()\n",
    "        self.pathsdf = pathsdf\n",
    "        self.tsfmsX = tsfmsX\n",
    "        self.tsfmsY = tsfmsY\n",
    "    \n",
    "    def __len__(self):\n",
    "        return len(self.pathsdf)\n",
    "    \n",
    "    def __getitem__(self, idx):\n",
    "        inp_imgpath, inchi_imgpath = self.pathsdf.iloc[idx,:]\n",
    "        inp_img = Image.open(inp_imgpath)\n",
    "        inchi_img = Image.open(inchi_imgpath)\n",
    "#         inchi_img = inchi_img.filter(ImageFilter.MaxFilter(3))\n",
    "        \n",
    "        inp_img = self.tsfmsX(inp_img)\n",
    "        inchi_img = self.tsfmsY(inchi_img)\n",
    "        return inp_img, inchi_img"
   ]
  },
  {
   "cell_type": "code",
   "execution_count": 102,
   "id": "italic-postcard",
   "metadata": {
    "ExecuteTime": {
     "end_time": "2021-03-29T08:30:43.187470Z",
     "start_time": "2021-03-29T08:30:43.181917Z"
    },
    "execution": {
     "iopub.execute_input": "2021-03-29T14:02:30.394140Z",
     "iopub.status.busy": "2021-03-29T14:02:30.393860Z",
     "iopub.status.idle": "2021-03-29T14:02:30.402090Z",
     "shell.execute_reply": "2021-03-29T14:02:30.401419Z",
     "shell.execute_reply.started": "2021-03-29T14:02:30.394111Z"
    },
    "tags": []
   },
   "outputs": [
    {
     "name": "stdout",
     "output_type": "stream",
     "text": [
      "# samples in trainset = 8000 and valset = 2000\n"
     ]
    }
   ],
   "source": [
    "tsfmsX = transforms.Compose([\n",
    "    transforms.ToTensor(),\n",
    "#     transforms.RandomErasing(),\n",
    "    transforms.RandomRotation(30),\n",
    "    transforms.RandomHorizontalFlip(),\n",
    "    transforms.RandomVerticalFlip()\n",
    "])\n",
    "tsfmsY = transforms.Compose([\n",
    "    transforms.ToTensor(),\n",
    "    transforms.RandomRotation(30),\n",
    "    transforms.RandomHorizontalFlip(),\n",
    "    transforms.RandomVerticalFlip()\n",
    "])\n",
    "\n",
    "dataset = ReconsDataset(pathsdf, tsfmsX=tsfmsX, tsfmsY=tsfmsX)\n",
    "train_ds, val_ds = random_split(dataset, [8000, 2000])\n",
    "print(f\"# samples in trainset = {len(train_ds)} and valset = {len(val_ds)}\")\n",
    "\n",
    "train_dl = DataLoader(train_ds, BATCH_SIZE, shuffle=True, num_workers=4)\n",
    "val_dl = DataLoader(val_ds, BATCH_SIZE, num_workers=4)"
   ]
  },
  {
   "cell_type": "code",
   "execution_count": null,
   "id": "satisfied-mozambique",
   "metadata": {},
   "outputs": [],
   "source": []
  },
  {
   "cell_type": "code",
   "execution_count": 103,
   "id": "suburban-bicycle",
   "metadata": {
    "ExecuteTime": {
     "end_time": "2021-03-29T08:30:44.992969Z",
     "start_time": "2021-03-29T08:30:43.189158Z"
    },
    "execution": {
     "iopub.execute_input": "2021-03-29T14:02:33.157415Z",
     "iopub.status.busy": "2021-03-29T14:02:33.157015Z",
     "iopub.status.idle": "2021-03-29T14:02:35.676948Z",
     "shell.execute_reply": "2021-03-29T14:02:35.676122Z",
     "shell.execute_reply.started": "2021-03-29T14:02:33.157369Z"
    },
    "tags": []
   },
   "outputs": [
    {
     "name": "stderr",
     "output_type": "stream",
     "text": [
      "<ipython-input-103-0b187bd46257>:3: MatplotlibDeprecationWarning: Adding an axes using the same arguments as a previous axes currently reuses the earlier instance.  In a future version, a new instance will always be created and returned.  Meanwhile, this warning can be suppressed, and the future behavior ensured, by passing a unique label to each axes instance.\n",
      "  ax1 = plt.subplot(121)\n",
      "<ipython-input-103-0b187bd46257>:4: MatplotlibDeprecationWarning: Adding an axes using the same arguments as a previous axes currently reuses the earlier instance.  In a future version, a new instance will always be created and returned.  Meanwhile, this warning can be suppressed, and the future behavior ensured, by passing a unique label to each axes instance.\n",
      "  ax2 = plt.subplot(122)\n"
     ]
    },
    {
     "data": {
      "image/png": "[encoded data removed]",
      "text/plain": [
       "<Figure size 432x288 with 2 Axes>"
      ]
     },
     "metadata": {
      "needs_background": "light"
     },
     "output_type": "display_data"
    }
   ],
   "source": [
    "inpX, inchiX = next(iter(train_dl))\n",
    "for i in range(BATCH_SIZE):\n",
    "    ax1 = plt.subplot(121)\n",
    "    ax2 = plt.subplot(122)\n",
    "    ax1.imshow(inpX[i].squeeze(0), cmap='gray')\n",
    "    ax2.imshow(inchiX[i].permute(1,2,0))\n",
    "    ax1.axis('off')\n",
    "    ax2.axis('off')"
   ]
  },
  {
   "cell_type": "markdown",
   "id": "cross-replication",
   "metadata": {
    "tags": []
   },
   "source": [
    "# Model"
   ]
  },
  {
   "cell_type": "code",
   "execution_count": 52,
   "id": "impressed-volleyball",
   "metadata": {
    "ExecuteTime": {
     "start_time": "2021-03-29T08:30:42.326Z"
    },
    "execution": {
     "iopub.execute_input": "2021-03-29T13:19:43.891321Z",
     "iopub.status.busy": "2021-03-29T13:19:43.890886Z",
     "iopub.status.idle": "2021-03-29T13:19:43.897207Z",
     "shell.execute_reply": "2021-03-29T13:19:43.895696Z",
     "shell.execute_reply.started": "2021-03-29T13:19:43.891272Z"
    },
    "tags": []
   },
   "outputs": [],
   "source": [
    "import pytorch_lightning as pl\n",
    "import torch.nn.functional as F"
   ]
  },
  {
   "cell_type": "code",
   "execution_count": 137,
   "id": "neutral-grade",
   "metadata": {
    "ExecuteTime": {
     "start_time": "2021-03-29T08:30:42.328Z"
    },
    "execution": {
     "iopub.execute_input": "2021-03-29T15:29:55.157780Z",
     "iopub.status.busy": "2021-03-29T15:29:55.157144Z",
     "iopub.status.idle": "2021-03-29T15:29:55.233436Z",
     "shell.execute_reply": "2021-03-29T15:29:55.232733Z",
     "shell.execute_reply.started": "2021-03-29T15:29:55.157687Z"
    },
    "tags": []
   },
   "outputs": [],
   "source": [
    "# class ResEncBlock(nn.Module):\n",
    "#     def __init__(self, in_channels, out_channels, k=3, s=2):\n",
    "#         super().__init__()\n",
    "#         if in_channels == out_channels:\n",
    "#             k = 1\n",
    "#         self.skip = nn.Conv2d(in_channels, out_channels, k, s, k//2, bias=False)\n",
    "#         self.seq = nn.Sequential(\n",
    "#             nn.BatchNorm2d(in_channels),\n",
    "#             nn.ReLU(True),\n",
    "#             nn.Conv2d(in_channels, out_channels, k, s, k//2, bias=False),\n",
    "#             nn.BatchNorm2d(out_channels),\n",
    "#             nn.Conv2d(out_channels, out_channels, k, 1, k//2, bias=False)\n",
    "#         )\n",
    "#         self.relu = nn.ReLU()\n",
    "    \n",
    "#     def forward(self, x):\n",
    "#         skip = self.skip(x)        \n",
    "#         out = self.seq(x)\n",
    "#         out = out + skip\n",
    "#         out = self.relu(out)\n",
    "#         return out\n",
    "\n",
    "class ResEncBlock(nn.Module):\n",
    "    def __init__(self, in_channels, out_channels, k=3, s=2):\n",
    "        super().__init__()\n",
    "        if in_channels == out_channels:\n",
    "            k = 1\n",
    "        self.skip = nn.Conv2d(in_channels, out_channels, k, s, k//2, bias=False)\n",
    "        self.seq = nn.Sequential(\n",
    "            nn.Conv2d(in_channels, out_channels, k, s, k//2, bias=False),\n",
    "            nn.BatchNorm2d(out_channels),\n",
    "            nn.ReLU(True),\n",
    "            nn.Conv2d(out_channels, out_channels, k, 1, k//2, bias=False),\n",
    "            nn.BatchNorm2d(out_channels),\n",
    "        )\n",
    "        self.relu = nn.ReLU()\n",
    "    \n",
    "    def forward(self, x):\n",
    "        skip = self.skip(x)        \n",
    "        out = self.seq(x)\n",
    "        out = out + skip\n",
    "        out = self.relu(out)\n",
    "        return out\n",
    "    \n",
    "class ResDecBlock(nn.Module):\n",
    "    def __init__(self, in_channels, out_channels, k=4, s=2, p=1):\n",
    "        super().__init__()\n",
    "        self.seq = nn.Sequential(\n",
    "            nn.ConvTranspose2d(in_channels, out_channels, k, s, p, bias=False),\n",
    "            nn.BatchNorm2d(out_channels)\n",
    "        )\n",
    "    \n",
    "    def forward(self, x):\n",
    "        out = self.seq(x)\n",
    "        return out\n",
    "    \n",
    "class ResUNet(pl.LightningModule):\n",
    "    def __init__(self, in_channels=1, out_channels=3, lr=1e-1):\n",
    "        super().__init__()\n",
    "        self.d1 = ResEncBlock(in_channels, 64) # 128\n",
    "        self.d2 = ResEncBlock(64, 128) # 64\n",
    "        self.d3 = ResEncBlock(128, 256) # 32\n",
    "        self.d4 = ResEncBlock(256, 256) # 16\n",
    "        \n",
    "        self.u4 = ResDecBlock(256, 256) # 32\n",
    "        self.u3 = ResDecBlock(256, 128) # 64\n",
    "        self.u2 = ResDecBlock(128, 64) # 128\n",
    "        self.u1 = ResDecBlock(64, out_channels) # 256\n",
    "        \n",
    "        self.relu = nn.ReLU()\n",
    "        \n",
    "        self.ssim_module = SSIM(data_range=255, size_average=True, channel=out_channels)\n",
    "        self.cos_loss = nn.CosineSimilarity()\n",
    "        \n",
    "        self.lr = lr\n",
    "            \n",
    "    def forward(self, x):\n",
    "        d1 = self.d1(x)\n",
    "        d2 = self.d2(d1)\n",
    "        d3 = self.d3(d2)\n",
    "        d4 = self.d4(d3)\n",
    "        \n",
    "        u4 = self.u4(d4) + d3\n",
    "        u4 = self.relu(u4)\n",
    "        u3 = self.u3(u4) + d2\n",
    "        u3 = self.relu(u3)\n",
    "        u2 = self.u2(u3)\n",
    "        u1 = self.u1(u2)\n",
    "        u1 = torch.sigmoid(u1)\n",
    "        return u1\n",
    "    \n",
    "    def training_step(self, train_batch, batch_idx):\n",
    "        X, Y = train_batch\n",
    "        Yhat = self.forward(X)\n",
    "#         loss = 1 - self.cos_loss(Yhat.view(X.shape[0], -1), Y.view(X.shape[0], -1)).mean()\n",
    "#         ssim_loss = 1 - self.ssim_module(Y, Yhat)\n",
    "        loss = F.mse_loss(Yhat, Y)\n",
    "#         self.log_dict({'train_ssim_loss': ssim_loss, 'train_mse_loss': loss}, on_step=False, on_epoch=True)\n",
    "        return loss\n",
    "\n",
    "    def validation_step(self, val_batch, batch_idx):\n",
    "        X, Y = val_batch\n",
    "        Yhat = self.forward(X)\n",
    "#         loss = 1 - self.cos_loss(Yhat.view(X.shape[0], -1), Y.view(X.shape[0], -1)).mean()\n",
    "#         ssim_loss = 1 - self.ssim_module(Y, Yhat)\n",
    "        loss = F.mse_loss(Yhat, Y)\n",
    "#         self.log('valid_acc', self.ssim_module(Y, Yhat), on_step=True, on_epoch=True)\n",
    "#         self.log_dict({'val_ssim_loss': ssim_loss, 'val_mse_loss': loss}, on_step=False, on_epoch=True)\n",
    "    \n",
    "    def configure_optimizers(self):\n",
    "        optimizer = torch.optim.Adam(self.parameters(), lr=self.lr)\n",
    "        lr_scheduler = {\n",
    "            'scheduler': torch.optim.lr_scheduler.CosineAnnealingLR(optimizer, 5000),\n",
    "            'name': 'expo_lr'\n",
    "        }\n",
    "        return [optimizer], [lr_scheduler]\n",
    "    \n",
    "net = ResUNet()"
   ]
  },
  {
   "cell_type": "code",
   "execution_count": 138,
   "id": "institutional-roots",
   "metadata": {
    "execution": {
     "iopub.execute_input": "2021-03-29T15:29:56.147264Z",
     "iopub.status.busy": "2021-03-29T15:29:56.147060Z",
     "iopub.status.idle": "2021-03-29T15:32:10.427583Z",
     "shell.execute_reply": "2021-03-29T15:32:10.426309Z",
     "shell.execute_reply.started": "2021-03-29T15:29:56.147241Z"
    },
    "tags": []
   },
   "outputs": [
    {
     "name": "stderr",
     "output_type": "stream",
     "text": [
      "GPU available: True, used: True\n",
      "TPU available: None, using: 0 TPU cores\n",
      "LOCAL_RANK: 0 - CUDA_VISIBLE_DEVICES: [0]\n",
      "\n",
      "   | Name        | Type             | Params\n",
      "--------------------------------------------------\n",
      "0  | d1          | ResEncBlock      | 38.3 K\n",
      "1  | d2          | ResEncBlock      | 295 K \n",
      "2  | d3          | ResEncBlock      | 1.2 M \n",
      "3  | d4          | ResEncBlock      | 197 K \n",
      "4  | u4          | ResDecBlock      | 1.0 M \n",
      "5  | u3          | ResDecBlock      | 524 K \n",
      "6  | u2          | ResDecBlock      | 131 K \n",
      "7  | u1          | ResDecBlock      | 3.1 K \n",
      "8  | relu        | ReLU             | 0     \n",
      "9  | ssim_module | SSIM             | 0     \n",
      "10 | cos_loss    | CosineSimilarity | 0     \n",
      "--------------------------------------------------\n",
      "3.4 M     Trainable params\n",
      "0         Non-trainable params\n",
      "3.4 M     Total params\n",
      "13.680    Total estimated model params size (MB)\n"
     ]
    },
    {
     "data": {
      "application/vnd.jupyter.widget-view+json": {
       "model_id": "",
       "version_major": 2,
       "version_minor": 0
      },
      "text/plain": [
       "Validation sanity check: 0it [00:00, ?it/s]"
      ]
     },
     "metadata": {},
     "output_type": "display_data"
    },
    {
     "data": {
      "application/vnd.jupyter.widget-view+json": {
       "model_id": "0c0b9a4f2a594c5e8daebfc997f39b35",
       "version_major": 2,
       "version_minor": 0
      },
      "text/plain": [
       "Training: 0it [00:00, ?it/s]"
      ]
     },
     "metadata": {},
     "output_type": "display_data"
    },
    {
     "data": {
      "application/vnd.jupyter.widget-view+json": {
       "model_id": "",
       "version_major": 2,
       "version_minor": 0
      },
      "text/plain": [
       "Validating: 0it [00:00, ?it/s]"
      ]
     },
     "metadata": {},
     "output_type": "display_data"
    },
    {
     "data": {
      "text/plain": [
       "1"
      ]
     },
     "execution_count": 138,
     "metadata": {},
     "output_type": "execute_result"
    }
   ],
   "source": [
    "# training\n",
    "trainer = pl.Trainer(gpus=1, num_processes=6, auto_lr_find=True, max_epochs=1, default_root_dir=\"chkpts\")\n",
    "trainer.fit(net, train_dl, val_dl)"
   ]
  },
  {
   "cell_type": "code",
   "execution_count": 139,
   "id": "connected-cause",
   "metadata": {
    "execution": {
     "iopub.execute_input": "2021-03-29T15:32:10.495685Z",
     "iopub.status.busy": "2021-03-29T15:32:10.495525Z",
     "iopub.status.idle": "2021-03-29T15:32:10.498629Z",
     "shell.execute_reply": "2021-03-29T15:32:10.497788Z",
     "shell.execute_reply.started": "2021-03-29T15:32:10.495665Z"
    },
    "tags": []
   },
   "outputs": [],
   "source": [
    "# trainer.model"
   ]
  },
  {
   "cell_type": "code",
   "execution_count": 140,
   "id": "consolidated-subsection",
   "metadata": {
    "execution": {
     "iopub.execute_input": "2021-03-29T15:32:10.500285Z",
     "iopub.status.busy": "2021-03-29T15:32:10.500030Z",
     "iopub.status.idle": "2021-03-29T15:32:13.666329Z",
     "shell.execute_reply": "2021-03-29T15:32:13.663556Z",
     "shell.execute_reply.started": "2021-03-29T15:32:10.500255Z"
    },
    "tags": []
   },
   "outputs": [],
   "source": [
    "out = net(inpX)"
   ]
  },
  {
   "cell_type": "code",
   "execution_count": 141,
   "id": "atomic-marathon",
   "metadata": {
    "execution": {
     "iopub.execute_input": "2021-03-29T15:32:13.669691Z",
     "iopub.status.busy": "2021-03-29T15:32:13.669502Z",
     "iopub.status.idle": "2021-03-29T15:32:13.893475Z",
     "shell.execute_reply": "2021-03-29T15:32:13.892958Z",
     "shell.execute_reply.started": "2021-03-29T15:32:13.669668Z"
    },
    "tags": []
   },
   "outputs": [
    {
     "data": {
      "text/plain": [
       "<matplotlib.image.AxesImage at 0x7f29868a57c0>"
      ]
     },
     "execution_count": 141,
     "metadata": {},
     "output_type": "execute_result"
    },
    {
     "data": {
      "image/png": "[encoded data removed]",
      "text/plain": [
       "<Figure size 432x288 with 1 Axes>"
      ]
     },
     "metadata": {
      "needs_background": "light"
     },
     "output_type": "display_data"
    }
   ],
   "source": [
    "plt.imshow(inchiX[0].permute(1,2,0).detach())"
   ]
  },
  {
   "cell_type": "code",
   "execution_count": 142,
   "id": "suited-fifty",
   "metadata": {
    "execution": {
     "iopub.execute_input": "2021-03-29T15:32:13.894381Z",
     "iopub.status.busy": "2021-03-29T15:32:13.894226Z",
     "iopub.status.idle": "2021-03-29T15:32:14.021538Z",
     "shell.execute_reply": "2021-03-29T15:32:14.020871Z",
     "shell.execute_reply.started": "2021-03-29T15:32:13.894363Z"
    },
    "tags": []
   },
   "outputs": [
    {
     "data": {
      "text/plain": [
       "<matplotlib.image.AxesImage at 0x7f29585d55e0>"
      ]
     },
     "execution_count": 142,
     "metadata": {},
     "output_type": "execute_result"
    },
    {
     "data": {
      "image/png": "[encoded data removed]",
      "text/plain": [
       "<Figure size 432x288 with 1 Axes>"
      ]
     },
     "metadata": {
      "needs_background": "light"
     },
     "output_type": "display_data"
    }
   ],
   "source": [
    "plt.imshow(inpX[0].permute(1,2,0).detach())"
   ]
  },
  {
   "cell_type": "code",
   "execution_count": 143,
   "id": "prostate-given",
   "metadata": {
    "execution": {
     "iopub.execute_input": "2021-03-29T15:32:14.022720Z",
     "iopub.status.busy": "2021-03-29T15:32:14.022537Z",
     "iopub.status.idle": "2021-03-29T15:32:14.155766Z",
     "shell.execute_reply": "2021-03-29T15:32:14.155103Z",
     "shell.execute_reply.started": "2021-03-29T15:32:14.022696Z"
    },
    "tags": []
   },
   "outputs": [
    {
     "data": {
      "text/plain": [
       "<matplotlib.image.AxesImage at 0x7f29585a86d0>"
      ]
     },
     "execution_count": 143,
     "metadata": {},
     "output_type": "execute_result"
    },
    {
     "data": {
      "image/png": "[encoded data removed]",
      "text/plain": [
       "<Figure size 432x288 with 1 Axes>"
      ]
     },
     "metadata": {
      "needs_background": "light"
     },
     "output_type": "display_data"
    }
   ],
   "source": [
    "plt.imshow(out[0].permute(1,2,0).detach())"
   ]
  },
  {
   "cell_type": "code",
   "execution_count": 144,
   "id": "appreciated-mayor",
   "metadata": {
    "execution": {
     "iopub.execute_input": "2021-03-29T15:32:14.157730Z",
     "iopub.status.busy": "2021-03-29T15:32:14.157496Z",
     "iopub.status.idle": "2021-03-29T15:32:14.233736Z",
     "shell.execute_reply": "2021-03-29T15:32:14.232914Z",
     "shell.execute_reply.started": "2021-03-29T15:32:14.157692Z"
    },
    "tags": []
   },
   "outputs": [],
   "source": [
    "cos = nn.CosineSimilarity()\n",
    "output = cos(inchiX.float().view(out.shape[0], -1), out.float().view(out.shape[0], -1))"
   ]
  },
  {
   "cell_type": "code",
   "execution_count": 145,
   "id": "committed-compromise",
   "metadata": {
    "execution": {
     "iopub.execute_input": "2021-03-29T15:32:14.237793Z",
     "iopub.status.busy": "2021-03-29T15:32:14.237410Z",
     "iopub.status.idle": "2021-03-29T15:32:14.289689Z",
     "shell.execute_reply": "2021-03-29T15:32:14.288829Z",
     "shell.execute_reply.started": "2021-03-29T15:32:14.237745Z"
    },
    "tags": []
   },
   "outputs": [
    {
     "data": {
      "text/plain": [
       "tensor([0.1966, 0.1475, 0.1729, 0.1854, 0.1469, 0.1577, 0.1390, 0.1676, 0.1718,\n",
       "        0.1589, 0.1491, 0.1482, 0.1893, 0.1727, 0.1657, 0.1530, 0.1454, 0.1356,\n",
       "        0.1765, 0.1461, 0.1614, 0.1865, 0.1493, 0.1594, 0.2011, 0.2028, 0.1735,\n",
       "        0.1940, 0.1582, 0.1803, 0.1819, 0.1630], grad_fn=<DivBackward0>)"
      ]
     },
     "execution_count": 145,
     "metadata": {},
     "output_type": "execute_result"
    }
   ],
   "source": [
    "output"
   ]
  },
  {
   "cell_type": "code",
   "execution_count": 146,
   "id": "round-integration",
   "metadata": {
    "execution": {
     "iopub.execute_input": "2021-03-29T15:32:14.290962Z",
     "iopub.status.busy": "2021-03-29T15:32:14.290580Z",
     "iopub.status.idle": "2021-03-29T15:32:14.295826Z",
     "shell.execute_reply": "2021-03-29T15:32:14.295203Z",
     "shell.execute_reply.started": "2021-03-29T15:32:14.290928Z"
    },
    "tags": []
   },
   "outputs": [
    {
     "data": {
      "text/plain": [
       "tensor(0.1668, grad_fn=<MeanBackward0>)"
      ]
     },
     "execution_count": 146,
     "metadata": {},
     "output_type": "execute_result"
    }
   ],
   "source": [
    "output.mean()"
   ]
  },
  {
   "cell_type": "markdown",
   "id": "numeric-pitch",
   "metadata": {
    "tags": []
   },
   "source": [
    "## It fails to reconstruct a good image because the structure from input image to inchi image changes drastically. Usually reconstruction is based on refining or improving the same structure the input image has. Therefore, simple encoder-decorder cannot do the job. Either the network needs to be more deep to shift the pixels or some transformation is required."
   ]
  },
  {
   "cell_type": "code",
   "execution_count": null,
   "id": "popular-literature",
   "metadata": {},
   "outputs": [],
   "source": []
  }
 ],
 "metadata": {
  "kernelspec": {
   "display_name": "Python (pt)",
   "language": "python",
   "name": "pt"
  },
  "language_info": {
   "codemirror_mode": {
    "name": "ipython",
    "version": 3
   },
   "file_extension": ".py",
   "mimetype": "text/x-python",
   "name": "python",
   "nbconvert_exporter": "python",
   "pygments_lexer": "ipython3",
   "version": "3.9.2"
  },
  "latex_envs": {
   "LaTeX_envs_menu_present": true,
   "autoclose": false,
   "autocomplete": true,
   "bibliofile": "biblio.bib",
   "cite_by": "apalike",
   "current_citInitial": 1,
   "eqLabelWithNumbers": true,
   "eqNumInitial": 1,
   "hotkeys": {
    "equation": "Ctrl-E",
    "itemize": "Ctrl-I"
   },
   "labels_anchors": false,
   "latex_user_defs": false,
   "report_style_numbering": false,
   "user_envs_cfg": false
  },
  "widgets": {
   "application/vnd.jupyter.widget-state+json": {
    "state": {},
    "version_major": 2,
    "version_minor": 0
   }
  }
 },
 "nbformat": 4,
 "nbformat_minor": 5
}
